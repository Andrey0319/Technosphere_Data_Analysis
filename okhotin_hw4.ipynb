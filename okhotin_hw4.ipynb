{
 "cells": [
  {
   "cell_type": "markdown",
   "metadata": {},
   "source": [
    "# Алгоритмы интеллектуальной обработки больших объемов данных\n",
    "## Домашнее задание №4 - Алгоритмы кластеризации\n"
   ]
  },
  {
   "cell_type": "markdown",
   "metadata": {},
   "source": [
    "###### <hr\\>\n",
    "**Общая информация**\n",
    "\n",
    "**Срок сдачи:** 6 мая 2019, 06:00 <br\\>\n",
    "**Штраф за опоздание:** -2 балла после 06:00 6 мая, -4 балла после 06:00 13 мая, -6 баллов после 06:00 20 мая -8 баллов  после 06:00 27 мая\n",
    "\n",
    "\n",
    "Используйте данный Ipython Notebook при оформлении домашнего задания.\n",
    "<hr\\>"
   ]
  },
  {
   "cell_type": "markdown",
   "metadata": {},
   "source": [
    "**Из чего состоит задание:**\n",
    "\n",
    "###### Теоретические вопросы (2 балла)\n",
    "\n",
    "###### Реализация алгоритма кластеризации (5 баллов)\n",
    "\n",
    "###### Боевое применение (3 балла)\n",
    "\n",
    "\n"
   ]
  },
  {
   "cell_type": "markdown",
   "metadata": {},
   "source": [
    "**Штрафные баллы:**\n",
    "\n",
    "1. Невыполнение PEP8 -1 балл\n",
    "2. Отсутствие фамилии в имени скрипта (скрипт должен называться по аналогии со stroykova_hw4.ipynb) -1 балл\n",
    "3. Все строчки должны быть выполнены. Нужно, чтобы output команды можно было увидеть уже в git'е. В противном случае -1 балл\n",
    "4. При оформлении ДЗ нужно пользоваться данным файлом в качестве шаблона. Не нужно удалять и видоизменять написанный код и текст. В противном случае -1 балл"
   ]
  },
  {
   "cell_type": "code",
   "execution_count": 41,
   "metadata": {},
   "outputs": [
    {
     "name": "stdout",
     "output_type": "stream",
     "text": [
      "Populating the interactive namespace from numpy and matplotlib\n"
     ]
    },
    {
     "name": "stderr",
     "output_type": "stream",
     "text": [
      "C:\\Users\\andre\\Anaconda3\\lib\\site-packages\\IPython\\core\\magics\\pylab.py:160: UserWarning: pylab import has clobbered these variables: ['f']\n",
      "`%matplotlib` prevents importing * from pylab and numpy\n",
      "  \"\\n`%matplotlib` prevents importing * from pylab and numpy\"\n"
     ]
    }
   ],
   "source": [
    "import re\n",
    "import csv\n",
    "import time\n",
    "import codecs\n",
    "import pandas as pd\n",
    "import pylab as pl\n",
    "import numpy as np\n",
    "import pymorphy2\n",
    "import scipy.spatial as ss\n",
    "from scipy.cluster import hierarchy\n",
    "from scipy.spatial.distance import pdist\n",
    "import sklearn.cluster as sc\n",
    "import sklearn.manifold as sm\n",
    "import sklearn.datasets as ds\n",
    "import sklearn.metrics as smt\n",
    "from sklearn.mixture import GaussianMixture\n",
    "from sklearn.cluster import AgglomerativeClustering\n",
    "from sklearn.feature_extraction.text import TfidfVectorizer\n",
    "from bs4 import BeautifulSoup\n",
    "\n",
    "import matplotlib.pyplot as plt\n",
    "\n",
    "%matplotlib inline\n",
    "\n",
    "plt.style.use('ggplot')\n",
    "plt.rcParams['figure.figsize'] = (12,5)\n",
    "\n",
    "# Plotting config\n",
    "%pylab inline"
   ]
  },
  {
   "cell_type": "markdown",
   "metadata": {},
   "source": [
    "# Теоретическое введение\n"
   ]
  },
  {
   "cell_type": "markdown",
   "metadata": {},
   "source": [
    "Основная задача кластерного анализа — разбиение исходного набора объектов на группы (кластеры) таким образом, чтобы объекты в группе были похожи друг на друга, а объекты из разных групп - отличались. \n",
    "\n",
    "В этой работе мы будем реализовывать агломеративную кластеризацию. "
   ]
  },
  {
   "cell_type": "markdown",
   "metadata": {
    "collapsed": true
   },
   "source": [
    "## Агломеративная кластеризация"
   ]
  },
  {
   "cell_type": "markdown",
   "metadata": {},
   "source": [
    "Иерархические алгоритмы кластеризации строят на выборке систему вложенных разбиений.  Наиболее часто испоьзуемые иерархические алгоритмы - агломеративные алгоритмы, которые строят ирархию по восходящей, то есть от момента, когда все элементы являются отдельными кластерами, до того момента, пока вся выборка не станет одним кластером."
   ]
  },
  {
   "cell_type": "markdown",
   "metadata": {},
   "source": [
    "Сам алгоритм описать можно примерно так:\n",
    "\n",
    "* начинаем с ситуации, когда каждый объект - отдельный кластер\n",
    "* на каждом шаге совмещаем два наиболее близких кластера\n",
    "* останавливаемся, когда получаем требуемое количество или единственный кластер"
   ]
  },
  {
   "cell_type": "markdown",
   "metadata": {},
   "source": [
    "\n",
    "В данной работе Вам предлагается реализовать три варианта расстояний между кластерами, по которым Вы определяете пару для слияния: \n",
    "* Single linkage\n",
    "$$ d_{min}(C_i, C_j) = \\min_{\\mathbf{x} \\in C_i, \\mathbf{x}' \\in C_j} \\|\\mathbf{x} -\\mathbf{x}' \\| $$\n",
    "\n",
    "* Complete linkage\n",
    "$$ d_{max}(C_i, C_j) = \\max_{\\mathbf{x} \\in C_i, \\mathbf{x}' \\in C_j} \\|\\mathbf{x} -\\mathbf{x}' \\| $$\n",
    "\n",
    "* Average linkage\n",
    "$$ d_{avg}(C_i, C_j) = \\frac{1}{n_i n_j}\\sum_{\\mathbf{x} \\in C_i}\\sum_{\\mathbf{x}' \\in C_j} \\|\\mathbf{x} -\\mathbf{x}' \\| $$\n",
    "\n",
    "Как считать расстояние $\\|\\mathbf{x} -\\mathbf{x}' \\|$ между объектами Вы должны выбрать сами.  Вы должны четко понимать, что выбор расстояния между объектами - самое важное в такого рода алгоритмах. Передавайте название расстояния в конструктор класса, а потом, в зависимости от названия, применяете ту или иную функцию для подсчета расстояния. \n",
    "\n"
   ]
  },
  {
   "cell_type": "markdown",
   "metadata": {},
   "source": [
    "Для того, чтобы на втором этапе нам не пересчитывать заново расстояния между всеми парами кластеров, можно использовать Формулы Ланса-Вильямса, которые позволяют посчитать расстояние между кластерами после объединения, используя только расстояния между кластерами до объедения.  Таким образом, достаточно будет посчитать расстояния только между всеми одноэлементными кластерами (первый этап), а затем пересчитывать расстояния при их объединении через \n",
    "формулы Ланса-Вильямса. \n",
    "\n",
    "Общая  формула выглядит так:\n",
    "$$ d(C_i \\cup C_j, C_k) = a_i \\cdot d(C_i, C_k) + a_j \\cdot d(C_j, C_k) + b \\cdot d(C_i, C_j) + c \\cdot |d(C_i, C_k) - d(C_j, C_k)|$$\n",
    "\n",
    "Можно показать, что все относительно разумные кластерные расстояния можно описать данной формулой. \n",
    "\n",
    "Для интересущих нас linkage:\n",
    "\n",
    "* single-linkage       $a_i = \\frac{1}{2}, a_j =  \\frac{1}{2}, b = 0, c =  - \\frac{1}{2} $\n",
    "\n",
    "* complete-linkage     $a_i = \\frac{1}{2}, a_j =  \\frac{1}{2}, b = 0, c =   \\frac{1}{2} $\n",
    "\n",
    "* average-linkage       $a_i = \\frac{|C_i|}{|C_i \\cup C_j|}, a_j =  \\frac{|C_j|}{|C_i \\cup C_j|}, b = 0, c = 0 $\n",
    "\n"
   ]
  },
  {
   "cell_type": "markdown",
   "metadata": {},
   "source": [
    "# Теоретические вопросы (2 балла)\n",
    "В этой части Вам будут предложены теоретичские вопросы и задачи по теме. Вы, конечно, можете списать их у своего товарища или найти решение в интернете, но учтите, что они обязательно войдут в теоретический коллоквиум. Лучше разобраться в теме сейчас и успешно ответить на коллоквиуме, чем списать, не разобравшись в материале, и быть терзаемым совестью. \n",
    "\n",
    "\n",
    "Формулы надо оформлять в формате **LaTeX**."
   ]
  },
  {
   "cell_type": "markdown",
   "metadata": {},
   "source": [
    "Задача 1. Сходимость kmeans.\n",
    "\n",
    "Метод kmeans является частным случаем EM алгоритма и наиболее простым в обосновании сходимости. Докажите, что kmeans всегда сходится, и итераций не будет превышать $k^N$, где $k$ $-$ число кластеров, $N$ $-$ число объектов\n",
    "\n",
    "Подсказка: Вам стоит рассмотреть функционал, который минимизирует алгоритм, и подумать, как он изменяется на E шаге и на M шаге.\n",
    "\n"
   ]
  },
  {
   "cell_type": "markdown",
   "metadata": {},
   "source": [
    "***Ваше решение здесь***"
   ]
  },
  {
   "cell_type": "markdown",
   "metadata": {},
   "source": [
    "\\begin{equation*}\n",
    "Вопрос\\ 1\n",
    "\\end{equation*}\n",
    "\n",
    "\\begin{equation*}\n",
    "Обозначения: \\ Q\\ -\\ потери\\ на\\ шаге\\ E,\\ Q_r\\ -\\ потери\\ после\\ шага\\ оптимизации\\ по\\ переменной\\ r\\   \n",
    "\\end{equation*}\n",
    "\n",
    "\\begin{equation*}\n",
    "Функция\\ потерь\\ для\\ элементов\\ класса\\ K\\ с\\ центром\\ M_k\\ будет:\\\n",
    "\\end{equation*}\n",
    "\n",
    "\\begin{equation*}\n",
    "Q_r = \\sum_{x_i \\in K} (||x_i - M_k||^2)\n",
    "\\end{equation*}\n",
    "\n",
    "\\begin{equation*}\n",
    "(сумма\\ минимумов\\ равна\\ минимуму\\ суммы)\n",
    "\\end{equation*}\n",
    "\n",
    "\\begin{equation*}\n",
    "Очевидно\\ что\\ минимум\\ функции\\ будет\\ достигаться\\ при\\ M_k = \\frac{\\sum(x_i)}{N_k} \\,\\ где\\ N_k\\ -\\ количество\\ элементов\\ в\\ классе\\ K.\\ Последовательность\\ значений\\ функции\\ Q\\ является\\ невозрастающей\\ и\\ ограниченной\\ снизу\\ 0.\\ По\\ теореме\\ Вейерштрасса\\ последовательность\\ сходится.\\\n",
    "\\end{equation*}\n",
    "\n",
    "\\begin{equation*}\n",
    "Вопрос\\ 2\n",
    "\\end{equation*}\n",
    "\n",
    "\\begin{equation*}\n",
    "Существует\\ k^n\\ способов\\ разделить\\ n\\ точек\\ по\\ k\\ кластерам.\\ Предположим\\ значения\\ функции\\ потерь\\ совпали\\ на\\ каких-либо\\ двух\\ итерациях\\ оптимизации.\\ Тогда,\\ так\\ как\\ последовательность\\ значений\\ функции\\ потерь\\ является\\ невозрастающей\\ -\\ все\\ элементы\\ последовательности\\ расположенные\\ между\\ двумя\\ совпадающими\\ элементами\\ так\\ же\\ будут\\ совпадать.\\ Получаем\\ противоречие:\\ если\\ на\\ двух\\ подряд\\ идущих\\ итерациях\\ алгоритма\\ значения\\ функции\\ потерь\\ совпали\\ -\\ алгоритм\\ остановился,\\ в\\ то\\ время\\ как\\ в\\ построенной\\ ситуации\\ продолжил\\ работу.\n",
    "\\end{equation*}"
   ]
  },
  {
   "cell_type": "markdown",
   "metadata": {},
   "source": [
    "Задача 2. Сходимость EM.\n",
    "\n",
    "Разобравшись со сходимостью kmeans, можно догадаться и до ответа про EM алгоритм.\n",
    "\n",
    "При каком условии на правдоподобие системы EM алгоритм будет  сходиться?\n",
    "\n"
   ]
  },
  {
   "cell_type": "markdown",
   "metadata": {},
   "source": [
    "***Ваше решение здесь***"
   ]
  },
  {
   "cell_type": "markdown",
   "metadata": {},
   "source": [
    "\\begin{equation*} \n",
    "По\\ аналогии,\\ мы\\ максимизируем\\ функцию\\ правдоподобия,\\ максимизируя\\ ее\\ нижнюю\\ оценку\\ -\\ L.\\ На\\ каждом\\ шаге\\ E\\ и\\ M\\ -\\ L\\ не\\ убывает\\ и\\ ограничена\\ сверху\\ 0,\\ (т.к.\\ вероятность\\ ограничена\\ сверху\\ 1,\\ а\\ log\\ 1\\ =\\ 0).\\ В\\ таком\\ случае,\\ по\\ теореме\\ Вейерштрасса\\ и\\ определнии\\ предела\\ функции\\ по\\ Гейне\\ -\\ функция\\ сходится.\n",
    "\\end{equation*}"
   ]
  },
  {
   "cell_type": "markdown",
   "metadata": {},
   "source": [
    "Задача 3. Формулы Ланса-Вильямса.\n",
    "\n",
    "Формулы Ланса-Вильямса крайне удобны для быстрого пересчта расстояний в агломеративной кластеризации. Давайте докажем  формулы для single и complete linkage. \n",
    "\n",
    "Докажите, что:\n",
    "\n",
    "$d_{\\min}(U \\cup V, S) = \\frac{1}{2} d_{\\min}(U, S) + \\frac{1}{2} d_{\\min}(V, S)  - \\frac{1}{2} | d_{\\min}(U, S) - d_{\\min}(V, S) |  $\n",
    "\n",
    "\n",
    "$d_{\\max}(U \\cup V, S) = \\frac{1}{2} d_{\\max}(U, S) + \\frac{1}{2} d_{\\max}(V, S)  + \\frac{1}{2} | d_{\\max}(U, S) - d_{\\max}(V, S) |  $\n",
    "\n",
    "\n"
   ]
  },
  {
   "cell_type": "markdown",
   "metadata": {},
   "source": [
    "***Ваше решение здесь***"
   ]
  },
  {
   "cell_type": "markdown",
   "metadata": {},
   "source": [
    "\\begin{equation*} \n",
    "При\\ объединении\\ кластеров\\ G\\ и\\ H,\\ d(G,\\ H) = d(a,\\ b)\\ ,\\ где\\ a \\in G, b \\in H\n",
    "\\end{equation*}\n",
    "\\begin{equation*} \n",
    "Тогда\\ первая\\ формула\\ это\\ по\\ сути:\\\n",
    "\\end{equation*}\n",
    "\\begin{equation*}\n",
    "\\min(d_{min}(U, S),d_{\\min}(V, S))\n",
    "\\end{equation*}\n",
    "\\begin{equation*} \n",
    "Вторая\\ по\\ аналогии\n",
    "\\end{equation*}"
   ]
  },
  {
   "cell_type": "markdown",
   "metadata": {},
   "source": [
    "# Реализация алгоритма кластеризации  (5 баллов)"
   ]
  },
  {
   "cell_type": "markdown",
   "metadata": {},
   "source": [
    "Алгоритм кластеризации должен удовлетворять следующему интерфейсу. Конструктор принимает набор параметров, необходимых для работы алгоритма кластеризации. Метод `fit` подсчитывает параметры модели и возвращает `self`. Метод `predict` возвращает вектор с индексами кластеров для поданных в него объектов `x`. "
   ]
  },
  {
   "cell_type": "code",
   "execution_count": 42,
   "metadata": {},
   "outputs": [],
   "source": [
    "from sklearn.base import BaseEstimator, ClusterMixin\n",
    "\n",
    "\n",
    "class Clustering(BaseEstimator, ClusterMixin):\n",
    "    \"\"\"\n",
    "    Implement clustering algorithm according \n",
    "    \"\"\"\n",
    "    def __init__(self, metric, linkage='single', n_clasters=2, **kwargs):\n",
    "        \"\"\"\n",
    "        metric - string with name of metric, for example, euclidean\n",
    "        Please add necessary algoritm parameters to class constructor.\n",
    "        \"\"\"\n",
    "        self.n_clasters = n_clasters\n",
    "        self.linkage = linkage\n",
    "        self.ind = 0\n",
    "        self.dendenogram_info = np.array([])\n",
    "        self.max_number_of_classes = 0\n",
    "        \n",
    "        if metric == 'euclidian':\n",
    "            self.distance = self.__euclidian_distance\n",
    "        elif metric == 'cosine':\n",
    "            self.distance = self.__cosine_distance\n",
    "        elif metric == 'words':\n",
    "            self.distance = self.__words_distance\n",
    "        elif metric == 'set':\n",
    "            self.distance = self.__set_distance\n",
    "        else:\n",
    "            self.distance = self.__euclidian_distance\n",
    "            \n",
    "        if linkage == 'single':\n",
    "            self.calculating_coefficients = self.__single_coefficients\n",
    "        elif linkage == 'complete':\n",
    "            self.calculating_coefficients = self.__complete_coefficients\n",
    "        elif linkage == 'average':\n",
    "            self.calculating_coefficients = self.__average_coefficients\n",
    "        else:\n",
    "            print(\"Error: Incorrect linkage name\")\n",
    "            self.calculating_coefficients = self.__single_coefficients\n",
    "            \n",
    "        pass\n",
    "    \n",
    "    def __euclidian_distance(self, a, b):\n",
    "        a = np.array(a)\n",
    "        b = np.array(b)\n",
    "        return np.sqrt(np.sum((a - b) ** 2))\n",
    "\n",
    "    def __cosine_distance(self, a, b):\n",
    "        a = np.array(a)\n",
    "        b = np.array(b)\n",
    "        t = np.dot(a, b)\n",
    "        p = sqrt((a ** 2).sum()) * sqrt((b ** 2).sum())\n",
    "        if t / p > 1:\n",
    "            return 0\n",
    "        return np.arccos(t / p)\n",
    "\n",
    "    def __words_distance(self, a, b):\n",
    "        return 1 - len(Counter(a) & Counter(b)) / len(Counter(a) | Counter(b))\n",
    "    \n",
    "    def __set_distance(self, a, b):\n",
    "        d = len(set.intersection(set(a), set(b)))\n",
    "        if d == 0:\n",
    "            return 2\n",
    "        return 1 / d\n",
    "    \n",
    "    def update_tree(self, tree, pos_i, pos_j):\n",
    "        self.max_number_of_classes += 1\n",
    "        mas = np.zeros(len(tree))\n",
    "        for i in range(len(tree)):\n",
    "            mas[i] = tree[i]\n",
    "            if tree[i] in [tree[int(pos_j)], tree[int(pos_i)]]:\n",
    "                mas[i] = self.max_number_of_classes\n",
    "        return mas\n",
    "    \n",
    "    def __single_coefficients(self, tree, x, y):\n",
    "        return [1/2, 1/2, -1/2]\n",
    "    \n",
    "    def __complete_coefficients(self, tree, x, y):\n",
    "        return [1/2, 1/2, 1/2] \n",
    "    \n",
    "    def __average_coefficients(self, tree, x, y):\n",
    "        c = [0, 0, 0]\n",
    "        for i in tree:\n",
    "                if i == tree[x]:\n",
    "                    c[0] += 1\n",
    "                if i == tree[y]:\n",
    "                    c[1] += 1\n",
    "        c[2] = c[0] + c[1]\n",
    "        c[0] = c[0] / c[2]\n",
    "        c[1] = c[1] / c[2]\n",
    "        c[2] = 0\n",
    "        return c\n",
    "    \n",
    "    def update_matrix(self, matrix_of_distances, tree, x, y):\n",
    "        coefficient = [0, 0, 0]\n",
    "        x = int(x)\n",
    "        y = int(y)\n",
    "        tree_x = np.array(matrix_of_distances[x])\n",
    "        tree_y = np.array(matrix_of_distances[y])\n",
    "        k = len(matrix_of_distances)\n",
    "        coefficient = self.calculating_coefficients(tree, x, y)\n",
    "        for i in range(k):\n",
    "            if tree[i] in [tree[x], tree[y]]:\n",
    "                for j in range(k):\n",
    "                    tmp = coefficient[0] * tree_x[j] + coefficient[1] * tree_y[j] + coefficient[2] * abs(tree_x[j] - tree_y[j])\n",
    "                    matrix_of_distances[i][j] = tmp\n",
    "                    matrix_of_distances[j][i] = tmp\n",
    "        return matrix_of_distances\n",
    "    \n",
    "    def search_minimum(self, matrix_of_distances, tree):\n",
    "        k = len(matrix_of_distances)\n",
    "        min_ = np.array([0, 0, -1])\n",
    "        for i in range(k):\n",
    "            for j in range(i + 1, k):\n",
    "                if (min_[2] > matrix_of_distances[i][j] or min_[2] == -1) and tree[i] != tree[j]:\n",
    "                    min_ = np.array([i, j, matrix_of_distances[i][j]])\n",
    "        return min_\n",
    "    \n",
    "    def number_repr(self, tree, claster):\n",
    "        number_repr = 0\n",
    "        for i in tree:\n",
    "            if i == claster:\n",
    "                number_repr += 1\n",
    "        return number_repr\n",
    "    \n",
    "    def build_tree(self, x):\n",
    "        k = len(x)\n",
    "        self.max_number_of_classes = k - 1\n",
    "        tree = np.arange(0, k ** 2).reshape(k, k)\n",
    "        \n",
    "        matrix_of_distances = np.zeros((k, k))\n",
    "        for i in range(k):\n",
    "            for j in range(k):\n",
    "                matrix_of_distances[i][j] = self.distance(x[i], x[j])\n",
    "                matrix_of_distances[j][i] = matrix_of_distances[i][j]\n",
    "                \n",
    "        for i in range(1, k):\n",
    "            minimum = self.search_minimum(matrix_of_distances, tree[i - 1])\n",
    "            prev_x = tree[i - 1][int(minimum[0])]\n",
    "            prev_y = tree[i - 1][int(minimum[1])]\n",
    "            tree[i] = self.update_tree(tree[i - 1], minimum[0], minimum[1])\n",
    "            matrix_of_distances = self.update_matrix(matrix_of_distances, tree[i - 1], minimum[0], minimum[1])\n",
    "            minimum = np.append(minimum, self.number_repr(tree[i], tree[i][int(minimum[0])]))\n",
    "            minimum[0] = prev_x\n",
    "            minimum[1] = prev_y\n",
    "            self.dendenogram_info = np.append(self.dendenogram_info, minimum)\n",
    "\n",
    "        self.dendenogram_info = self.dendenogram_info.reshape(-1, 4)\n",
    "        self.tree = tree\n",
    "        return tree[k - self.n_clasters]\n",
    "    \n",
    "    def fit_predict(self, x):\n",
    "        \"\"\"\n",
    "        Use data matrix x to compute model parameters and predict clusters\n",
    "        \"\"\"\n",
    "        return self.build_tree(x)\n",
    "    \n",
    "    def project_predict(self, border):\n",
    "        for i in range(self.tree.shape[0]):\n",
    "            mas = np.bincount(self.tree[i])\n",
    "            if max(mas) >= border:\n",
    "                cluster_index = mas.argmax()\n",
    "                tree_pos = i\n",
    "                break\n",
    "\n",
    "        result = np.where(self.tree[i] == cluster_index)\n",
    "        submission = np.zeros(len(X))\n",
    "        submission[result] = 1\n",
    "        return submission\n",
    "    \n",
    "    def cut_tree(self, height):\n",
    "        i = 0\n",
    "        while (i < len(self.dendenogram_info)) and (self.dendenogram_info[i][2] < height):\n",
    "            i += 1\n",
    "        return self.tree[i]\n",
    "    \n",
    "    def plot_dendrogram(self):\n",
    "        \"\"\"\n",
    "        Try to visualize our data\n",
    "        \"\"\"\n",
    "        fig = plt.figure()\n",
    "        ax = fig.add_subplot(111)\n",
    "        fig.set_figheight(10)\n",
    "        fig.set_figwidth(20)\n",
    "        hierarchy.dendrogram(self.dendenogram_info)\n",
    "        pass"
   ]
  },
  {
   "cell_type": "markdown",
   "metadata": {},
   "source": [
    "Сначала проверим реализованный алгоритм кластеризации на классическом наборе данных [Iris](http://www.wikiwand.com/en/Iris_flower_data_set). Загрузим данные (они включены в библиотеку sklearn) и посмотрим на то, как они выглядят в двух проекциях (для простоты используем 2 класса из 3)."
   ]
  },
  {
   "cell_type": "code",
   "execution_count": 43,
   "metadata": {},
   "outputs": [],
   "source": [
    "iris = ds.load_iris()\n",
    "x_iris = iris.data[:100]\n",
    "y_iris = iris.target[:100]"
   ]
  },
  {
   "cell_type": "code",
   "execution_count": 44,
   "metadata": {},
   "outputs": [
    {
     "data": {
      "text/plain": [
       "<Figure size 720x360 with 0 Axes>"
      ]
     },
     "metadata": {},
     "output_type": "display_data"
    },
    {
     "data": {
      "image/png": "[encoded data removed]",
      "text/plain": [
       "<Figure size 1440x720 with 1 Axes>"
      ]
     },
     "metadata": {
      "needs_background": "light"
     },
     "output_type": "display_data"
    }
   ],
   "source": [
    "pl.figure(figsize=(10, 5))\n",
    "myclf = Clustering('cosine', 'single', 2)\n",
    "t = myclf.fit_predict(x_iris)\n",
    "myclf.plot_dendrogram()\n",
    "plt.show()"
   ]
  },
  {
   "cell_type": "code",
   "execution_count": 45,
   "metadata": {},
   "outputs": [
    {
     "data": {
      "text/plain": [
       "<Figure size 720x360 with 0 Axes>"
      ]
     },
     "metadata": {},
     "output_type": "display_data"
    },
    {
     "data": {
      "image/png": "[encoded data removed]",
      "text/plain": [
       "<Figure size 1440x720 with 1 Axes>"
      ]
     },
     "metadata": {
      "needs_background": "light"
     },
     "output_type": "display_data"
    }
   ],
   "source": [
    "pl.figure(figsize=(10, 5))\n",
    "myclf = Clustering('cosine', 'complete', 2)\n",
    "t = myclf.fit_predict(x_iris)\n",
    "t.shape\n",
    "myclf.plot_dendrogram()\n",
    "plt.show()"
   ]
  },
  {
   "cell_type": "code",
   "execution_count": 46,
   "metadata": {},
   "outputs": [
    {
     "data": {
      "text/plain": [
       "<Figure size 720x360 with 0 Axes>"
      ]
     },
     "metadata": {},
     "output_type": "display_data"
    },
    {
     "data": {
      "image/png": "[encoded data removed]",
      "text/plain": [
       "<Figure size 1440x720 with 1 Axes>"
      ]
     },
     "metadata": {
      "needs_background": "light"
     },
     "output_type": "display_data"
    }
   ],
   "source": [
    "pl.figure(figsize=(10, 5))\n",
    "myclf = Clustering('cosine', 'average', 2)\n",
    "t = myclf.fit_predict(x_iris)\n",
    "t.shape\n",
    "myclf.plot_dendrogram()\n",
    "plt.show()"
   ]
  },
  {
   "cell_type": "code",
   "execution_count": 47,
   "metadata": {},
   "outputs": [
    {
     "data": {
      "image/png": "[encoded data removed]",
      "text/plain": [
       "<Figure size 720x360 with 2 Axes>"
      ]
     },
     "metadata": {
      "needs_background": "light"
     },
     "output_type": "display_data"
    }
   ],
   "source": [
    "iris = ds.load_iris()\n",
    "x_iris = iris.data[:100]\n",
    "y_iris = iris.target[:100]\n",
    "\n",
    "pl.figure(figsize=(10, 5))\n",
    "\n",
    "pl.subplot(1, 2, 1)\n",
    "pl.scatter(x_iris[:, 0], x_iris[:, 1], c=y_iris, cmap=pl.cm.PuOr, lw=0, s=30)\n",
    "plt.xlabel('Sepal length')\n",
    "plt.ylabel('Sepal width')\n",
    "\n",
    "pl.subplot(1, 2, 2)\n",
    "pl.scatter(x_iris[:, 2], x_iris[:, 3], c=y_iris, cmap=pl.cm.PuOr, lw=0, s=30)\n",
    "plt.xlabel('Petal length')\n",
    "plt.ylabel('Petal width')\n",
    "pl.show()"
   ]
  },
  {
   "cell_type": "markdown",
   "metadata": {},
   "source": [
    "Видно, что классы разделяются, поэтому можно надеяться, что наш алгоритм \"найдет\" кластеры, соответствующие исходным классам. Результат работы реализованного алгоритма кластеризации предлагается сравнить с эталонной кластеризацией. Для этого предлагается изучить метрику ([adjusted rand score](http://scikit-learn.org/stable/modules/generated/sklearn.metrics.adjusted_rand_score.html)). В случае если значение этой метрики отличается от 1, предлагается поработать над улучшением реализации своего алгоритма."
   ]
  },
  {
   "cell_type": "code",
   "execution_count": 48,
   "metadata": {},
   "outputs": [
    {
     "name": "stdout",
     "output_type": "stream",
     "text": [
      " Sklearn AGGL score 1.0. Sklearn AGGL time 0.0059545040130615234\n"
     ]
    }
   ],
   "source": [
    "# Давайте проверим, как справляются sklearn реализации\n",
    "sklearn_aggl = AgglomerativeClustering(n_clusters=2)\n",
    "aggl_t0 = time.time()\n",
    "aggl_pred = sklearn_aggl.fit_predict(x_iris)\n",
    "aggl_diff = time.time() - aggl_t0\n",
    "aggl_score = smt.adjusted_rand_score(y_iris, aggl_pred)\n",
    "print (\" Sklearn AGGL score {}. Sklearn AGGL time {}\".format(aggl_score, aggl_diff))"
   ]
  },
  {
   "cell_type": "code",
   "execution_count": 49,
   "metadata": {},
   "outputs": [
    {
     "name": "stdout",
     "output_type": "stream",
     "text": [
      "Our AGGL score 1.0. Our AGGL time 0.9422836303710938\n"
     ]
    }
   ],
   "source": [
    "# Здесь предскажем кластера, посчитаем метрику кластеризации и время работы, сравним со склерном\n",
    "сustum_aggl = Clustering(metric='your_favourite_metric')\n",
    "aggl_t0 = time.time()\n",
    "aggl_pred = сustum_aggl.fit_predict(x_iris)\n",
    "aggl_diff = time.time() - aggl_t0\n",
    "aggl_score = smt.adjusted_rand_score(y_iris, aggl_pred)\n",
    "print (\"Our AGGL score {}. Our AGGL time {}\".format(aggl_score, aggl_diff))"
   ]
  },
  {
   "cell_type": "markdown",
   "metadata": {
    "collapsed": true
   },
   "source": [
    "# Боевое применение (3  балла)\n"
   ]
  },
  {
   "cell_type": "markdown",
   "metadata": {
    "collapsed": true
   },
   "source": [
    "Алгоритмы кластеризации прекрасны тем, что они позволяют быстро понять, как устроены наши данные. Давайте применим Ваш алгоритм для нашего конкурса!"
   ]
  },
  {
   "cell_type": "markdown",
   "metadata": {},
   "source": [
    "Будем рассматривать каждую группу независимо от других групп. На каждой группе применим наш алгоритм и отрисуем денденограмму. По результатам кластерного анализа, Вам нужно ответить на следующие вопросы:\n",
    "\n",
    "1) Можно ли по дендонаграмме (или по другим результатам кластеризации) сказать, где в группе аномалии? Каким образом?\n",
    "\n",
    "2) Какое расстояние лучше использовать между заголовками страниц для кластеризации? Как еще учесть другую информацию о странице в расстоянии?\n",
    "\n",
    "2) Какое качество f1_score Вы смогли получить на обучающем множестве методами кластеризации? (валидацию можете не делать, если таргет не используете)\n",
    "\n",
    "4) Как можно результат кластеризации затем использовать для  финальной модели обучения с учителем?"
   ]
  },
  {
   "cell_type": "markdown",
   "metadata": {},
   "source": [
    "Подсказка: самое важное - выбрать расстояние между заголовками. Самый простой вариант:  процент различных слов в двух заголовках. В семинаре мы рассматривали более сложный вариант, но Вы сможете придумать лучше. "
   ]
  },
  {
   "cell_type": "code",
   "execution_count": 50,
   "metadata": {},
   "outputs": [],
   "source": [
    "class Gibrid_Page_Group():\n",
    "    \n",
    "    def __init__(self, group_number, group='Train'):\n",
    "        if group == 'Train':\n",
    "            data = pd.read_csv('train_groups.csv')\n",
    "            self.target_list = np.array(list(data[data.group_id == group_number]['target']))\n",
    "        else:\n",
    "            data = pd.read_csv('test_groups.csv')\n",
    "        self.id_list = np.array(list(data[data.group_id == group_number]['doc_id']))\n",
    "        pass\n",
    "    \n",
    "    def simple_norm(self, text):\n",
    "        text = re.sub(r'[\\n•0123456789.\\\\/\\-,:?\\\"\\'!()*=^–\\|]', ' ', text)\n",
    "        text = re.sub(r'(a-z)', '', text)\n",
    "        reg = re.compile('[^а-яА-Я]')\n",
    "        text = reg.sub(' ', text)\n",
    "        while ('  ' in text):\n",
    "            text = re.sub(r'  ', ' ', text)\n",
    "        text = text.lower()\n",
    "        return text\n",
    "        \n",
    "    def create_page_list(self):\n",
    "        self.page_list = []\n",
    "        \n",
    "        for id_ in self.id_list:\n",
    "            with codecs.open('data/' + str(id_) + '.dat', 'r', 'utf-8') as f:\n",
    "                soup = BeautifulSoup(f.read())\n",
    "                self.page_list.append(self.simple_norm(soup.text))\n",
    "        pass"
   ]
  },
  {
   "cell_type": "code",
   "execution_count": 26,
   "metadata": {},
   "outputs": [],
   "source": [
    "\"\"\"\n",
    "проверка на score на train_groups\n",
    "\"\"\"\n",
    "train_data = pd.read_csv('train_groups.csv')\n",
    "group_list = np.unique(np.array(list(train_data['group_id'])))"
   ]
  },
  {
   "cell_type": "code",
   "execution_count": 27,
   "metadata": {},
   "outputs": [],
   "source": [
    "\"\"\"\n",
    "выкачивание группы страниц\n",
    "\"\"\"\n",
    "check_result = np.zeros(0)\n",
    "super_dict = {}\n",
    "for group_id in group_list[:10]:\n",
    "    group = Gibrid_Page_Group(group_id)\n",
    "    group.create_page_list()\n",
    "    super_dict[group_id] = group.page_list\n",
    "    check_result = np.hstack((check_result, group.target_list))"
   ]
  },
  {
   "cell_type": "code",
   "execution_count": 34,
   "metadata": {},
   "outputs": [
    {
     "name": "stdout",
     "output_type": "stream",
     "text": [
      "1 2 3 4 5 6 7 8 9 10 "
     ]
    }
   ],
   "source": [
    "result = np.zeros(0)\n",
    "for group_id in group_list[:10]:\n",
    "    \n",
    "    print(group_id, end=' ')\n",
    "    vectorizer = TfidfVectorizer(max_df=0.5, max_features=100000, analyzer = 'char_wb',\n",
    "                                 min_df=0.00, ngram_range=(5, 8), norm='l1')\n",
    "    X = vectorizer.fit_transform(super_dict[group_id]).toarray()\n",
    "    \n",
    "    mas = []\n",
    "    arr = np.zeros(len(X))\n",
    "\n",
    "    for j in range(len(X)):\n",
    "        arr = np.dot(X, X[j])\n",
    "        mas.append(np.argsort(arr)[-20:])\n",
    "    mas = np.array(mas)\n",
    "    myclf = Clustering('set', 'average', 2)\n",
    "    myclf.fit_predict(mas)\n",
    "    result = np.hstack((result, myclf.project_predict(border=20))) \n",
    "    "
   ]
  },
  {
   "cell_type": "code",
   "execution_count": 35,
   "metadata": {},
   "outputs": [
    {
     "data": {
      "text/plain": [
       "0.5373370815231281"
      ]
     },
     "execution_count": 35,
     "metadata": {},
     "output_type": "execute_result"
    }
   ],
   "source": [
    "smt.f1_score(check_result, result, average='macro')"
   ]
  },
  {
   "cell_type": "code",
   "execution_count": null,
   "metadata": {},
   "outputs": [],
   "source": []
  },
  {
   "cell_type": "code",
   "execution_count": 4,
   "metadata": {},
   "outputs": [],
   "source": [
    "train_data = pd.read_csv('test_groups.csv')\n",
    "group_list = np.unique(np.array(list(train_data['group_id'])))"
   ]
  },
  {
   "cell_type": "code",
   "execution_count": 5,
   "metadata": {},
   "outputs": [
    {
     "name": "stdout",
     "output_type": "stream",
     "text": [
      "130 131 132 133 134 135 136 137 138 139 140 141 142 143 144 145 146 147 148 149 150 151 152 153 154 155 156 157 158 159 160 161 162 163 164 165 166 167 168 169 170 171 172 173 174 175 176 177 178 179 180 181 182 183 184 185 186 187 188 189 190 191 192 193 194 195 196 197 198 199 200 201 202 203 204 205 206 207 208 209 210 211 212 213 214 215 216 217 218 219 220 221 222 223 224 225 226 227 228 229 230 231 232 233 234 235 236 237 238 239 240 241 242 243 244 245 246 247 248 249 250 251 252 253 254 255 256 257 258 259 260 261 262 263 264 265 266 267 268 269 270 271 272 273 274 275 276 277 278 279 280 281 282 283 284 285 286 287 288 289 290 291 292 293 294 295 296 297 298 299 300 301 302 303 304 305 306 307 308 309 "
     ]
    }
   ],
   "source": [
    "\"\"\"\n",
    "выкачивание группы страниц\n",
    "\"\"\"\n",
    "check_result = np.zeros(0)\n",
    "super_dict = {}\n",
    "for group_id in group_list:\n",
    "    print(group_id, end=' ')\n",
    "    group = Gibrid_Page_Group(group_id, group='Test')\n",
    "    group.create_page_list()\n",
    "    super_dict[group_id] = group.page_list"
   ]
  },
  {
   "cell_type": "code",
   "execution_count": 21,
   "metadata": {},
   "outputs": [
    {
     "name": "stdout",
     "output_type": "stream",
     "text": [
      "130 131 132 133 134 135 136 137 138 139 140 141 142 143 144 145 146 147 148 149 150 151 152 153 154 155 156 157 158 159 160 161 162 163 164 165 166 167 168 169 170 171 172 173 174 175 176 177 178 179 180 181 182 183 184 185 186 187 188 189 190 191 192 193 194 195 196 197 198 199 200 201 202 203 204 205 206 207 208 209 210 211 212 213 214 215 216 217 218 219 220 221 222 223 224 225 226 227 228 229 230 231 232 233 234 235 236 237 238 239 240 241 242 243 244 245 246 247 248 249 250 251 252 253 254 255 256 257 258 259 260 261 262 263 264 265 266 267 268 269 270 271 272 273 274 275 276 277 278 279 280 281 282 283 284 285 286 287 288 289 290 291 292 293 294 295 296 297 298 299 300 301 302 303 304 305 306 307 308 309 "
     ]
    }
   ],
   "source": [
    "result = np.zeros(0)\n",
    "for group_id in group_list:\n",
    "    \n",
    "    print(group_id, end=' ')\n",
    "    vectorizer = TfidfVectorizer(max_df=0.5, max_features=50000, analyzer = 'char_wb',\n",
    "                                 min_df=0.00, ngram_range=(5, 8), norm='l1')\n",
    "    X = vectorizer.fit_transform(super_dict[group_id]).toarray()\n",
    "    \n",
    "    mas = []\n",
    "    arr = np.zeros(len(X))\n",
    "\n",
    "    for j in range(len(X)):\n",
    "        arr = np.dot(X, X[j])\n",
    "        mas.append(np.argsort(arr)[-20:])\n",
    "    mas = np.array(mas)\n",
    "    myclf = Clustering('set', 'average', 2)\n",
    "    myclf.fit_predict(mas)\n",
    "    result = np.hstack((result, myclf.project_predict(border=20))) "
   ]
  },
  {
   "cell_type": "code",
   "execution_count": 22,
   "metadata": {},
   "outputs": [
    {
     "data": {
      "text/plain": [
       "(4055, 16627)"
      ]
     },
     "execution_count": 22,
     "metadata": {},
     "output_type": "execute_result"
    }
   ],
   "source": [
    "len(np.where(result == 1)[0]), len(result)"
   ]
  },
  {
   "cell_type": "code",
   "execution_count": 23,
   "metadata": {},
   "outputs": [],
   "source": [
    "res = list(map(int, result))"
   ]
  },
  {
   "cell_type": "code",
   "execution_count": 24,
   "metadata": {},
   "outputs": [],
   "source": [
    "with open('sample_submission.csv', 'w') as f:\n",
    "    fieldnames = ['pair_id', 'target']\n",
    "    writer = csv.DictWriter(f, fieldnames=fieldnames)\n",
    "    writer.writeheader()\n",
    "    i = 11691\n",
    "    for elem in res:\n",
    "        writer.writerow({'pair_id': str(i), 'target': str(elem)})\n",
    "        i += 1\n",
    "f.close()"
   ]
  },
  {
   "cell_type": "code",
   "execution_count": null,
   "metadata": {},
   "outputs": [],
   "source": []
  },
  {
   "cell_type": "markdown",
   "metadata": {},
   "source": [
    "Кластеризацию проводите в каждой группе отдельно, то есть изучайте, можно ли в группе  найти подкластер выбросов\n",
    "\n",
    "Документы можно представлять например словами из тайтла\n",
    "\n",
    "Главное подобрать хорошую функцию расстояния между документами\n",
    "\n",
    "Удачи! Все получится!"
   ]
  },
  {
   "cell_type": "markdown",
   "metadata": {},
   "source": [
    "Замечание: в кластеризации можно использовать все данные, то есть трейн + тест, чтобы находить больше закономерностей "
   ]
  },
  {
   "cell_type": "code",
   "execution_count": 11,
   "metadata": {
    "collapsed": true
   },
   "outputs": [],
   "source": [
    "# Место для Вашего кластерного анализа\n"
   ]
  },
  {
   "cell_type": "code",
   "execution_count": null,
   "metadata": {
    "collapsed": true
   },
   "outputs": [],
   "source": []
  },
  {
   "cell_type": "code",
   "execution_count": null,
   "metadata": {
    "collapsed": true
   },
   "outputs": [],
   "source": []
  },
  {
   "cell_type": "markdown",
   "metadata": {
    "collapsed": true
   },
   "source": [
    "Если получилось найти выбросы с помощью кластеризации, то не забывайте использовать его в финальном решении. Помните - использование различных подходов к решению задачи всегда улучшает финального качество."
   ]
  },
  {
   "cell_type": "markdown",
   "metadata": {},
   "source": [
    "# Контрольные вопросы\n",
    "Постарайтесь максимально развернуто и честно ответить на вопросы. Они охватывают тему алгоритмов кластеризации и скорее нужны преподавателям, чтобы понимать, что именно Вы усвоили плохо. Надеюсь, они подскажут, что именно в теме Вы не понимаете или наоборот порадают, что Вы все знаете ^_^"
   ]
  },
  {
   "cell_type": "markdown",
   "metadata": {},
   "source": [
    "* Опишите, пожалуйста, для каких прикладных задач Вы бы стали использовать методы кластеризации?"
   ]
  },
  {
   "cell_type": "markdown",
   "metadata": {},
   "source": [
    "***Ваше ответ здесь***\n",
    "1. задачи кластеризации для поиска явно разделимых классов,\n",
    "2. для совместного использования с другими моделями и получения новых фичей"
   ]
  },
  {
   "cell_type": "markdown",
   "metadata": {},
   "source": [
    "* Какие преимущества и недостатки Вы видите у следуюших алгоритмов кластеризации: kmeans, dbscan, агломеративная кластеризация?"
   ]
  },
  {
   "cell_type": "markdown",
   "metadata": {},
   "source": [
    "***Ваше ответ здесь***\n",
    "\n",
    "kmeans \n",
    "\n",
    "Недостатки: не даёт ответа на то какой из кластеров принадлежит какому классу, чувствителен к выбросам\n",
    "\n",
    "Преимущества: работает на известном числе кластеров, чувствителен к выбросам\n",
    "\n",
    "\n",
    "\n",
    "Агломеративная кластеризация \n",
    "\n",
    "Преимущества: даёт представление о плотности объектов в кластере (хорошо работает при анализе выбросов)\n",
    "\n",
    "Недостатки: не работает при неизвестном количестве кластеров, нельзя добавлять train и test в уже построенную модель\n",
    "\n",
    "\n",
    "\n",
    "dbscan\n",
    "\n",
    "Преимущества: хорошо ищет выбросы, сам определяет число кластеров\n",
    "\n",
    "Недостатки: плохо работает при необходимости кластеризовать данные с сильно колеблющейся плотностью, нельзя дообучать"
   ]
  },
  {
   "cell_type": "markdown",
   "metadata": {},
   "source": [
    "* На лекции было показано, что EM алгоритм находит оценку максимального правдоподобия в задаче со сккрытыми переменными. Из курса мат. статистики Вы можете знать, оценка максимального правдоподобия \"оптимальная\" во многих смыслах. В каких же случаях тогда не следует применять метод максимального правдоподобия?"
   ]
  },
  {
   "cell_type": "markdown",
   "metadata": {},
   "source": [
    "***Ваше ответ здесь***\n",
    "\n",
    "мне пока не доводилось проходить курс математической статистики, но я предполагаю, что \n",
    "если рассматривать оценку максимального правдоподобия как достижения максимума в некотором распределении,\n",
    "то при наожении нескольких распределений (т.е. наличии нескольких локальных максимумов)\n",
    "эта оценка может не давать требуемого результата"
   ]
  },
  {
   "cell_type": "markdown",
   "metadata": {},
   "source": [
    "* Представьте, что у Вас есть набор текстовых документов, и Вы хотите разбить эти документы на тематики - новости, спорт, кулинария, кино и так далее. Размеченной выборки у Вас нет, только сами тексты документов. Какие алгоритмы и какие признаки Вы бы использовали для решения данной задачи?"
   ]
  },
  {
   "cell_type": "markdown",
   "metadata": {},
   "source": [
    "***Ваше ответ здесь***\n",
    "\n",
    "я бы реализовывал алгоритм, который применил выше:\n",
    "\n",
    "сначала представил документы через tf_idf\n",
    "\n",
    "потом представлял бы документы как множества из k номеров ближайжих текстов (например расстояние = 1 / скалярное произведение)\n",
    "\n",
    "как показала практика (у меня во всяком случае) этот алгоритм лучше всего находит близкие по тематике документы"
   ]
  },
  {
   "cell_type": "markdown",
   "metadata": {},
   "source": [
    "* Теперь представьте, что небольшая часть Ваших текстов была размечена людьми, но большая часть так и осталась без таргета. Смогли ли бы Вы использовать эти данные для улучения качества кластеризации? (эта задача называется semi-supervised learning)"
   ]
  },
  {
   "cell_type": "markdown",
   "metadata": {},
   "source": [
    "***Ваше ответ здесь***\n",
    "\n",
    "разумеется\n",
    "\n",
    "размеченная часть подошла бы для поиска выбросов в неразмеченной части с помощью кластеризации \n",
    "\n",
    "так же результаты кластеризации (например номера ближайших кластеров и расстояние до их центров) \n",
    "можно было бы использовать как дополнительные фичи в следующих моделях"
   ]
  },
  {
   "cell_type": "markdown",
   "metadata": {},
   "source": [
    "Здесь Вы можете оставить отзыв о этой домашней работе или о всем курсе.   "
   ]
  },
  {
   "cell_type": "markdown",
   "metadata": {},
   "source": [
    "интересное дз, но мне кажется что kmeans реализовывать было бы интереснее (лично мне)"
   ]
  },
  {
   "cell_type": "markdown",
   "metadata": {},
   "source": [
    "*** ВАШ ОТЗЫВ ЗДЕСЬ***"
   ]
  },
  {
   "cell_type": "code",
   "execution_count": null,
   "metadata": {
    "collapsed": true
   },
   "outputs": [],
   "source": []
  },
  {
   "cell_type": "code",
   "execution_count": null,
   "metadata": {
    "collapsed": true
   },
   "outputs": [],
   "source": []
  }
 ],
 "metadata": {
  "anaconda-cloud": {},
  "kernelspec": {
   "display_name": "Python 3",
   "language": "python",
   "name": "python3"
  },
  "language_info": {
   "codemirror_mode": {
    "name": "ipython",
    "version": 3
   },
   "file_extension": ".py",
   "mimetype": "text/x-python",
   "name": "python",
   "nbconvert_exporter": "python",
   "pygments_lexer": "ipython3",
   "version": "3.7.0"
  }
 },
 "nbformat": 4,
 "nbformat_minor": 1
}
