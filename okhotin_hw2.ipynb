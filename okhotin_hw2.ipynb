{
 "cells": [
  {
   "cell_type": "markdown",
   "metadata": {},
   "source": [
    "# Алгоритмы интеллектуальной обработки больших объемов данных\n",
    "## Домашнее задание №3: Линейные модели\n"
   ]
  },
  {
   "cell_type": "markdown",
   "metadata": {},
   "source": [
    "###### <hr\\>\n",
    "**Общая информация**\n",
    "\n",
    "**Срок сдачи:** 8 апреля 2019, 06:00 <br\\>\n",
    "**Штраф за опоздание:** -2 балла после 06:00 8 апреля, -4 балла после 06:00 15 апреля, -6 баллов после 06:00 22 апреля  -8 баллов после 06:00 29 апреля.\n",
    "\n",
    "При отправлении ДЗ указывайте фамилию в названии файла<br\\>\n",
    "\n",
    "Используйте данный Ipython Notebook при оформлении домашнего задания.\n",
    "\n",
    "**Штрафные баллы:**\n",
    "\n",
    "1. Невыполнение PEP8 -1 балл\n",
    "2. Отсутствие фамилии в имени скрипта (скрипт должен называться по аналогии со stroykova_hw2.ipynb) -1 балл\n",
    "3. Все строчки должны быть выполнены. Нужно, чтобы output команды можно было увидеть уже в git'е. В противном случае -1 балл\n",
    "4. При оформлении ДЗ нужно пользоваться данным файлом в качестве шаблона. Не нужно удалять и видоизменять написанный код и текст, если явно не указана такая возможность. В противном случае -1 балл\n",
    "<hr\\>"
   ]
  },
  {
   "cell_type": "code",
   "execution_count": 1,
   "metadata": {},
   "outputs": [],
   "source": [
    "import pandas as pd\n",
    "import numpy as np\n",
    "import matplotlib.pyplot as plt\n",
    "\n",
    "%matplotlib inline\n",
    "\n",
    "plt.style.use('ggplot')\n",
    "plt.rcParams['figure.figsize'] = (12,5)"
   ]
  },
  {
   "cell_type": "markdown",
   "metadata": {},
   "source": [
    "Здравствуйте, уважаемые студенты! \n",
    "\n",
    "В этом задании мы будем реализовать линейные модели. Необходимо реализовать линейную и логистическую регрессии с L2 регуляризацией"
   ]
  },
  {
   "cell_type": "markdown",
   "metadata": {},
   "source": [
    "# Теоретическое введение\n",
    "\n"
   ]
  },
  {
   "cell_type": "markdown",
   "metadata": {},
   "source": [
    "*** Что почитать по теории ***\n",
    "\n",
    "Одна из лучших книг по ML $-$ \"Pattern Recognition and Machine Learning\" Bishop, Christopher. "
   ]
  },
  {
   "cell_type": "markdown",
   "metadata": {},
   "source": [
    "Линейная регрессия решает задачу регрессии и оптимизирует функцию потерь MSE \n",
    "\n",
    "$$L(w) =  \\frac{1}{N}\\left[\\sum_i (y_i - a_i) ^ 2 \\right], $$ где $y_i$ $-$ целевая функция,  $a_i = a(x_i) =  \\langle\\,x_i,w\\rangle ,$ $-$ предсказание алгоритма на объекте $x_i$, $w$ $-$ вектор весов (размерности $D$), $x_i$ $-$ вектор признаков (такой же размерности $D$).\n"
   ]
  },
  {
   "cell_type": "markdown",
   "metadata": {},
   "source": [
    "Логистическая регрессия является линейным классификатором, который оптимизирует так называемый функционал log loss:"
   ]
  },
  {
   "cell_type": "markdown",
   "metadata": {},
   "source": [
    "$$L(w) = - \\frac{1}{N}\\left[\\sum_i y_i \\log a_i + ( 1 - y_i) \\log (1 - a_i) \\right],$$\n",
    "где  $y_i  \\in \\{0,1\\}$ $-$ метка класса, $a_i$ $-$ предсказание алгоритма на объекте $x_i$. Модель пытается предсказать апостериорую вероятность объекта принадлежать к классу \"1\":\n",
    "$$ p(y_i = 1 | x_i) = a(x_i) =  \\sigma( \\langle\\,x_i,w\\rangle ),$$\n",
    "$w$ $-$ вектор весов (размерности $D$), $x_i$ $-$ вектор признаков (такой же размерности $D$).\n",
    "\n",
    "Функция $\\sigma(x)$ $-$ нелинейная функция, пероводящее скалярное произведение объекта на веса в число $\\in (0,1)$ (мы же моделируем вероятность все-таки!)\n",
    "\n",
    "$$\\sigma(x) = \\frac{1}{1 + \\exp(-x)}$$\n",
    "\n",
    "Если внимательно посмотреть на функцию потерь, то можно заметить, что в зависимости от правильного ответа алгоритм штрафуется или функцией $-\\log a_i$, или функцией $-\\log (1 - a_i)$.\n",
    "\n"
   ]
  },
  {
   "cell_type": "markdown",
   "metadata": {},
   "source": [
    "Часто для решения проблем, которые так или иначе связаны с проблемой переобучения, в функционал качества добавляют слагаемое, которое называют ***регуляризацией***. Итоговый функционал для линейной регрессии тогда принимает вид:\n",
    "\n",
    "$$L(w) =  \\frac{1}{N}\\left[\\sum_i (y_i - a_i) ^ 2 \\right] + \\frac{1}{C}R(w) $$\n",
    "\n",
    "Для логистической: \n",
    "$$L(w) = - \\frac{1}{N}\\left[\\sum_i y_i \\log a_i + ( 1 - y_i) \\log (1 - a_i) \\right] +  \\frac{1}{C}R(w)$$\n",
    "\n",
    "Самое понятие регуляризации введено основателем ВМК академиком Тихоновым https://ru.wikipedia.org/wiki/Метод_регуляризации_Тихонова\n",
    "\n",
    "Идейно методика регуляризации заключается в следующем $-$ мы рассматриваем некорректно поставленную задачу (что это такое можно найти в интернете), для того чтобы сузить набор различных вариантов (лучшие из которых будут являться переобучением ) мы вводим дополнительные ограничения на множество искомых решений. На лекции Вы уже рассмотрели два варианта регуляризации.\n",
    "\n",
    "$L1$ регуляризация:\n",
    "$$R(w) = \\sum_{j=1}^{D}|w_j|$$\n",
    "$L2$ регуляризация:\n",
    "$$R(w) =  \\sum_{j=1}^{D}w_j^2$$\n",
    "\n",
    "С их помощью мы ограничиваем модель в  возможности выбора каких угодно весов минимизирующих наш лосс, модель уже не сможет подстроиться под данные как ей угодно. \n",
    "\n",
    "Вам нужно добавить соотвествущую Вашему варианту $L2$ регуляризацию.\n",
    "\n",
    "И так, мы поняли, какую функцию ошибки будем минимизировать, разобрались, как получить предсказания по объекту и обученным весам. Осталось разобраться, как получить оптимальные веса. Для этого нужно выбрать какой-то метод оптимизации.\n",
    "\n"
   ]
  },
  {
   "cell_type": "markdown",
   "metadata": {},
   "source": [
    "Градиентный спуск является самым популярным алгоритмом обучения линейных моделей. В этом задании Вам предложат реализовать стохастический градиентный спуск или  мини-батч градиентный спуск (мини-батч на русский язык довольно сложно перевести, многие переводят это как \"пакетный\", но мне не кажется этот перевод удачным). Далее нам потребуется определение **эпохи**.\n",
    "Эпохой в SGD и MB-GD называется один проход по **всем** объектам в обучающей выборки.\n",
    "* В SGD градиент расчитывается по одному случайному объекту. Сам алгоритм выглядит примерно так:\n",
    "        1) Перемешать выборку\n",
    "        2) Посчитать градиент функции потерь на одном объекте (далее один объект тоже будем называть батчем)\n",
    "        3) Сделать шаг спуска\n",
    "        4) Повторять 2) и 3) пока не пройдет максимальное число эпох.\n",
    "* В Mini Batch SGD - по подвыборке объектов. Сам алгоритм выглядит примерно так::\n",
    "        1) Перемешать выборку, выбрать размер мини-батча (от 1 до размера выборки)\n",
    "        2) Почитать градиент функции потерь по мини-батчу (не забыть поделить на  число объектов в мини-батче)\n",
    "        3) Сделать шаг спуска\n",
    "        4) Повторять 2) и 3) пока не пройдет максимальное число эпох.\n",
    "* Для отладки алгоритма реализуйте возможность  вывода средней ошибки на обучении модели по объектам (мини-батчам). После шага градиентного спуска посчитайте значение ошибки на объекте (или мини-батче), а затем усредните, например, по ста шагам. Если обучение проходит корректно, то мы должны увидеть, что каждые 100 шагов функция потерь уменьшается. \n",
    "* Правило останова - максимальное количество эпох\n",
    "    \n"
   ]
  },
  {
   "cell_type": "markdown",
   "metadata": {},
   "source": [
    "# Теоретические вопросы (2 балла)\n",
    "В этой части Вам будут предложены теоретичские вопросы и задачи по теме. Вы, конечно, можете списать их у своего товарища или найти решение в интернете, но учтите, что они обязательно войдут в теоретический коллоквиум. Лучше разобраться в теме сейчас и успешно ответить на коллоквиуме, чем списать, не разобравшись в материале, и быть терзаемым совестью. \n",
    "\n",
    "\n",
    "Формулы надо оформлять в формате **LaTeX**."
   ]
  },
  {
   "cell_type": "markdown",
   "metadata": {},
   "source": [
    "Задача 1. Градиент для линейной регрессии.\n",
    "* Выпишите формулу обновления весов для линейной регрессии с L2 регуляризацией для мини-батч градиентого спуска размера $n$:\n",
    "\n",
    "$$ w_{new} = w_{old} - ... $$\n",
    "\n",
    " Отнеситесь к этому пункту максимально серьезно, это Вам нужно будет реализовать в задании.\n",
    " \n",
    "Проанализруйте итоговую формулу градиента - как  интуитивно можно  описать, чему равен градиент?"
   ]
  },
  {
   "cell_type": "code",
   "execution_count": 2,
   "metadata": {},
   "outputs": [
    {
     "data": {
      "text/latex": [
       "\\begin{equation*}\n",
       "\\sigma = \\frac{1}{n} \\left( \\sum_{i=1}^n 2 x_i(y_i - (x_i, w)) \\frac{1}{D} \\right)   \n",
       "\\end{equation*}\n",
       "\\begin{equation*}\n",
       "R(w) = \\left( \\sum_{i=1}^D w_i^2 \\right)\n",
       "\\end{equation*}\n",
       "\\begin{equation*}\n",
       "w_n = w_o - \\alpha \\sigma  + \\frac{1}{C} R(w)\n",
       "\\end{equation*}"
      ],
      "text/plain": [
       "<IPython.core.display.Latex object>"
      ]
     },
     "metadata": {},
     "output_type": "display_data"
    }
   ],
   "source": [
    "%%latex\n",
    "\\begin{equation*}\n",
    "\\sigma = \\frac{1}{n} \\left( \\sum_{i=1}^n 2 x_i(y_i - (x_i, w)) \\frac{1}{D} \\right)   \n",
    "\\end{equation*}\n",
    "\\begin{equation*}\n",
    "R(w) = \\left( \\sum_{i=1}^D w_i^2 \\right)\n",
    "\\end{equation*}\n",
    "\\begin{equation*}\n",
    "w_n = w_o - \\alpha \\sigma  + \\frac{1}{C} R(w)\n",
    "\\end{equation*}"
   ]
  },
  {
   "cell_type": "markdown",
   "metadata": {},
   "source": [
    "***Ваше решение здесь***"
   ]
  },
  {
   "cell_type": "markdown",
   "metadata": {},
   "source": [
    "Задача 2. Градиент для логистической регрессии.\n",
    "* Выпишите формулу обновления весов для логистической регрессии с L2 регуляризацией  для мини-батч градиентого спуска размера $n$:\n",
    "\n",
    "$$ w_{new} = w_{old} - ... $$\n",
    "\n",
    " Отнеситесь к этому пункту максимально серьезно, это Вам нужно будет реализовать в задании.\n",
    " \n",
    "Проанализруйте итоговую формулу градиента - как  интуитивно можно  описать, чему равен градиент? Как соотносится этот градиент с градиентом, возникающий в задаче линейной регрессии?"
   ]
  },
  {
   "cell_type": "code",
   "execution_count": 3,
   "metadata": {},
   "outputs": [
    {
     "data": {
      "text/latex": [
       "\\begin{equation*}\n",
       "M_i = y_i (x_i, w)\n",
       "\\end{equation*}\n",
       "\\begin{equation*}\n",
       "\\sigma = \\frac{1}{n} \\left( \\sum_{i=1}^n x_i(y_i - \\frac{1}{1 + e^{-M_i}})  \\right)\n",
       "\\end{equation*}\n",
       "\\begin{equation*}\n",
       "R(w) = \\left( \\sum_{i=1}^D w_i^2 \\right)\n",
       "\\end{equation*}\n",
       "\\begin{equation*}\n",
       "w_n = w_o + \\alpha \\sigma  + \\frac{1}{C} R(w)\n",
       "\\end{equation*}"
      ],
      "text/plain": [
       "<IPython.core.display.Latex object>"
      ]
     },
     "metadata": {},
     "output_type": "display_data"
    }
   ],
   "source": [
    "%%latex\n",
    "\\begin{equation*}\n",
    "M_i = y_i (x_i, w)\n",
    "\\end{equation*}\n",
    "\\begin{equation*}\n",
    "\\sigma = \\frac{1}{n} \\left( \\sum_{i=1}^n x_i(y_i - \\frac{1}{1 + e^{-M_i}})  \\right)\n",
    "\\end{equation*}\n",
    "\\begin{equation*}\n",
    "R(w) = \\left( \\sum_{i=1}^D w_i^2 \\right)\n",
    "\\end{equation*}\n",
    "\\begin{equation*}\n",
    "w_n = w_o + \\alpha \\sigma  + \\frac{1}{C} R(w)\n",
    "\\end{equation*}"
   ]
  },
  {
   "cell_type": "markdown",
   "metadata": {},
   "source": [
    "***Ваше решение здесь***"
   ]
  },
  {
   "cell_type": "markdown",
   "metadata": {},
   "source": [
    "Задача 3. Точное решение линейной регрессии\n",
    "\n",
    "На лекции было показано, что точное решение линейной регрессии имеет вид $w = (X^TX)^{-1}X^TY $. \n",
    "* Покажите, что это действительно является точкой минимума в случае, если матрица X имеет строк не меньше, чем столбцов и имеет полный ранг. Подсказка: посчитайте Гессиан и покажите, что в этом случае он положительно определен. \n",
    "* Выпишите точное решение для модели с $L2$ регуляризацией"
   ]
  },
  {
   "cell_type": "code",
   "execution_count": 4,
   "metadata": {},
   "outputs": [
    {
     "data": {
      "text/latex": [
       "\\begin{equation*}\n",
       "Xw = Y\n",
       "\\end{equation*}\n",
       "\\begin{equation*}\n",
       "X^T Xw = X^T Y\n",
       "\\end{equation*}\n",
       "\\begin{equation*}\n",
       "X^T X - квадратная  \n",
       "\\end{equation*}\n",
       "\\begin{equation*}\n",
       "(X^T X)^{-1}X^T Xw = (X^T X)^{-1}X^T Y\n",
       "\\end{equation*}\n",
       "\\begin{equation*}\n",
       "w = (X^T X)^{-1}X^T Y\n",
       "\\end{equation*}\n",
       "\n",
       "\\begin{equation*}\n",
       "\\end{equation*}\n",
       "\n",
       "\\begin{equation*}\n",
       "получаем \\ точное \\ решение \\ СЛАУ \\ Xw = y \\ для \\ которого \\ в \\ каждом \\ предсказании \\ из \\ тренировочной \\ выборки \\ нулевая \\ ошибка.\n",
       "\\end{equation*}\n",
       "\\begin{equation*}\n",
       "Матрица \\ (X^TX)^{-1} \\ существует \\ только \\ если \\ X^TX \\ невырожденна \\ т.е. \\ имеет \\ полный \\ ранг\n",
       "\\end{equation*}\n",
       "\\begin{equation*}\n",
       "СЛАУ \\ будет \\ иметь \\ точное \\ решение \\ только \\ если \\ количество \\ переменных \\ будет \\ меньше \\ или \\ равно \\ количеству \\ уравнений\n",
       "\\end{equation*}\n",
       "\\begin{equation*}\n",
       "т.е. \\ если \\ матрица \\ X \\ имеет \\ строк \\ не \\ меньше, \\ чем \\ столбцов\n",
       "\\end{equation*}\n",
       "\\begin{equation*}\n",
       "так \\ как \\ ошибка \\ равна \\ нулю \\ на \\ всех \\ наборах \\ - \\ это \\ минимум\n",
       "\\end{equation*}\n",
       "\n",
       "\\begin{equation*}\n",
       "\\end{equation*}\n",
       "\n",
       "\n",
       "\\begin{equation*}\n",
       "\\frac{\\partial\\mathcal{L}}{\\partial w} = \\frac{\\partial}{\\partial w} \\frac{1}{2n}(y^Ty - 2y^TXw + w^TX^TXw) = \\frac{1}{2n}(-2X^Ty+2X^TXw)\n",
       "\\end{equation*}\n",
       "\\begin{equation*}\n",
       "\\frac{\\partial\\mathcal{L}}{\\partial w} = 0\n",
       "\\end{equation*}\n",
       "\\begin{equation*}\n",
       "\\frac{1}{2n}(-2X^Ty+2X^TXw) = 0\n",
       "\\end{equation*}\n",
       "\\begin{equation*}\n",
       "-X^Ty + X^TXw = 0\n",
       "\\end{equation*}\n",
       "\\begin{equation*}\n",
       "X^TXw = X^Ty\n",
       "\\end{equation*}\n",
       "\\begin{equation*}\n",
       "w = (X^TX)^{-1}X^Ty\n",
       "\\end{equation*}\n",
       "\n",
       "\\begin{equation*}\n",
       "\\end{equation*}\n",
       "\n",
       "\\begin{equation*}\n",
       "Точное \\ решение \\ для \\ модели \\ с  \\ L2 \\ регуляризацией:\n",
       "\\end{equation*}\n",
       "\\begin{equation*}\n",
       "w = (X^TX + \\frac{1}{C}I)^{-1}X^Ty\n",
       "\\end{equation*}\n",
       "\\begin{equation*}\n",
       "w = (X^TX + \\psi E)^{-1}X^Ty\n",
       "\\end{equation*}"
      ],
      "text/plain": [
       "<IPython.core.display.Latex object>"
      ]
     },
     "metadata": {},
     "output_type": "display_data"
    }
   ],
   "source": [
    "%%latex\n",
    "\\begin{equation*}\n",
    "Xw = Y\n",
    "\\end{equation*}\n",
    "\\begin{equation*}\n",
    "X^T Xw = X^T Y\n",
    "\\end{equation*}\n",
    "\\begin{equation*}\n",
    "X^T X - квадратная  \n",
    "\\end{equation*}\n",
    "\\begin{equation*}\n",
    "(X^T X)^{-1}X^T Xw = (X^T X)^{-1}X^T Y\n",
    "\\end{equation*}\n",
    "\\begin{equation*}\n",
    "w = (X^T X)^{-1}X^T Y\n",
    "\\end{equation*}\n",
    "\n",
    "\\begin{equation*}\n",
    "\\end{equation*}\n",
    "\n",
    "\\begin{equation*}\n",
    "получаем \\ точное \\ решение \\ СЛАУ \\ Xw = y \\ для \\ которого \\ в \\ каждом \\ предсказании \\ из \\ тренировочной \\ выборки \\ нулевая \\ ошибка.\n",
    "\\end{equation*}\n",
    "\\begin{equation*}\n",
    "Матрица \\ (X^TX)^{-1} \\ существует \\ только \\ если \\ X^TX \\ невырожденна \\ т.е. \\ имеет \\ полный \\ ранг\n",
    "\\end{equation*}\n",
    "\\begin{equation*}\n",
    "СЛАУ \\ будет \\ иметь \\ точное \\ решение \\ только \\ если \\ количество \\ переменных \\ будет \\ меньше \\ или \\ равно \\ количеству \\ уравнений\n",
    "\\end{equation*}\n",
    "\\begin{equation*}\n",
    "т.е. \\ если \\ матрица \\ X \\ имеет \\ строк \\ не \\ меньше, \\ чем \\ столбцов\n",
    "\\end{equation*}\n",
    "\\begin{equation*}\n",
    "так \\ как \\ ошибка \\ равна \\ нулю \\ на \\ всех \\ наборах \\ - \\ это \\ минимум\n",
    "\\end{equation*}\n",
    "\n",
    "\\begin{equation*}\n",
    "\\end{equation*}\n",
    "\n",
    "\n",
    "\\begin{equation*}\n",
    "\\frac{\\partial\\mathcal{L}}{\\partial w} = \\frac{\\partial}{\\partial w} \\frac{1}{2n}(y^Ty - 2y^TXw + w^TX^TXw) = \\frac{1}{2n}(-2X^Ty+2X^TXw)\n",
    "\\end{equation*}\n",
    "\\begin{equation*}\n",
    "\\frac{\\partial\\mathcal{L}}{\\partial w} = 0\n",
    "\\end{equation*}\n",
    "\\begin{equation*}\n",
    "\\frac{1}{2n}(-2X^Ty+2X^TXw) = 0\n",
    "\\end{equation*}\n",
    "\\begin{equation*}\n",
    "-X^Ty + X^TXw = 0\n",
    "\\end{equation*}\n",
    "\\begin{equation*}\n",
    "X^TXw = X^Ty\n",
    "\\end{equation*}\n",
    "\\begin{equation*}\n",
    "w = (X^TX)^{-1}X^Ty\n",
    "\\end{equation*}\n",
    "\n",
    "\\begin{equation*}\n",
    "\\end{equation*}\n",
    "\n",
    "\\begin{equation*}\n",
    "Точное \\ решение \\ для \\ модели \\ с  \\ L2 \\ регуляризацией:\n",
    "\\end{equation*}\n",
    "\\begin{equation*}\n",
    "w = (X^TX + \\frac{1}{C}I)^{-1}X^Ty\n",
    "\\end{equation*}\n",
    "\\begin{equation*}\n",
    "w = (X^TX + \\psi E)^{-1}X^Ty\n",
    "\\end{equation*}"
   ]
  },
  {
   "cell_type": "markdown",
   "metadata": {},
   "source": [
    "***Ваше решение здесь***"
   ]
  },
  {
   "cell_type": "markdown",
   "metadata": {},
   "source": [
    "Задача 4.  Предсказываем вероятности.\n",
    "\n",
    "Когда говорят о логистической регрессии, произносят фразу, что она \"предсказывает вероятности положительного класса\". Давайте разберемся, что же за этим стоит. Посчитаем математическое ожидание функции потерь и проверим, что предсказание алгоритма, оптимизирующее это мат. ожидание, будет являться вероятностью положительного класса. \n",
    "\n",
    "И так, функция потерь на объекте $x_i$, который имеет метку $y_i \\in \\{0,1\\}$  для предсказания $a(x_i)$ равна:\n",
    "$$L(y_i, b) =-[y_i == 1] \\log a(x_i)  - [y_i == 0] \\log(1 - a(x_i)) $$\n",
    "\n",
    "Где $[]$ означает индикатор $-$ он равен единице, если значение внутри него истинно, иначе он равен нулю. Тогда мат. ожидание при условии конкретного $x_i$  по определение мат. ожидания дискретной случайной величины:\n",
    "$$E(L | x_i) = -p(y_i = 1 |x_i ) \\log a(x_i)  - p(y_i = 0 | x_i) \\log( 1 - a(x_i))$$\n",
    "* Докажите, что значение $a(x_i)$, минимизирующее данное мат. ожидание, в точности равно $p(y_i = 1 |x_i)$, то есть равно вероятности положительного класса.\n",
    "\n",
    "Подсказка: возможно, придется воспользоваться, что  $p(y_i = 1 | x_i) + p(y_i = 0 | x_i) = 1$"
   ]
  },
  {
   "cell_type": "code",
   "execution_count": 5,
   "metadata": {},
   "outputs": [
    {
     "data": {
      "text/latex": [
       "\\begin{equation*}\n",
       "-p ln(\\frac{1}{1 + e ^{-M}}) - (1-p)ln(1 - \\frac{1}{1 + e^{-M}}) = pln(1 + e ^{-M}) + (1-p)ln(\\frac{1}{1 + e^{-M}})\n",
       "\\end{equation*}\n",
       "\\begin{equation*}\n",
       "p\\frac{1}{1 + e^{-M}}e^{-M} + (1-p)\\frac{1}{1 + e^{-M}}e^{M}=0\n",
       "\\end{equation*}\n",
       "\\begin{equation*}\n",
       "-p + (1-p)e^M=0\n",
       "\\end{equation*}\n",
       "\\begin{equation*}\n",
       "e^M=\\frac{p}{1-p}\n",
       "\\end{equation*}\n",
       "\\begin{equation*}\n",
       "\\frac{1}{1 + e^{-M}}=\\frac{1}{1+\\frac{1-p}{p}} = \\frac{p}{p+1-p} = p \n",
       "\\end{equation*}"
      ],
      "text/plain": [
       "<IPython.core.display.Latex object>"
      ]
     },
     "metadata": {},
     "output_type": "display_data"
    }
   ],
   "source": [
    "%%latex\n",
    "\\begin{equation*}\n",
    "-p ln(\\frac{1}{1 + e ^{-M}}) - (1-p)ln(1 - \\frac{1}{1 + e^{-M}}) = pln(1 + e ^{-M}) + (1-p)ln(\\frac{1}{1 + e^{-M}})\n",
    "\\end{equation*}\n",
    "\\begin{equation*}\n",
    "p\\frac{1}{1 + e^{-M}}e^{-M} + (1-p)\\frac{1}{1 + e^{-M}}e^{M}=0\n",
    "\\end{equation*}\n",
    "\\begin{equation*}\n",
    "-p + (1-p)e^M=0\n",
    "\\end{equation*}\n",
    "\\begin{equation*}\n",
    "e^M=\\frac{p}{1-p}\n",
    "\\end{equation*}\n",
    "\\begin{equation*}\n",
    "\\frac{1}{1 + e^{-M}}=\\frac{1}{1+\\frac{1-p}{p}} = \\frac{p}{p+1-p} = p \n",
    "\\end{equation*}"
   ]
  },
  {
   "cell_type": "markdown",
   "metadata": {},
   "source": [
    "#  Реализация линейной модели (5 баллов)"
   ]
  },
  {
   "cell_type": "markdown",
   "metadata": {},
   "source": [
    "## Зачем нужны батчи?\n"
   ]
  },
  {
   "cell_type": "markdown",
   "metadata": {},
   "source": [
    "Как Вы могли заметить из теоретического введения, что в случае SGD, что в случа mini-batch GD,  на каждой итерации обновление весов  происходит только по небольшой части данных (1 пример в случае SGD, batch примеров в случае mini-batch). То есть для каждой итерации нам *** не нужна вся выборка***. Мы можем просто итерироваться по выборке, беря батч нужного размера (далее 1 объект тоже будем называть батчом).\n",
    "\n",
    "Легко заметить, что в этом случае нам не нужно загружать все данные в оперативную память, достаточно просто считать батч с диска, обновить веса, считать диска другой батч и так далее. В целях упрощения домашней работы, прямо с диска  мы считывать не будем, будем работать с обычными numpy array. \n",
    "\n",
    "\n",
    "\n"
   ]
  },
  {
   "cell_type": "markdown",
   "metadata": {},
   "source": [
    "## Немножко про генераторы в Python\n",
    "\n"
   ]
  },
  {
   "cell_type": "markdown",
   "metadata": {},
   "source": [
    "Идея считывания данных кусками удачно ложится на так называемые ***генераторы*** из языка Python. В данной работе Вам предлагается не только разобраться с логистической регрессией, но  и познакомиться с таким важным элементом языка.  При желании Вы можете убрать весь код, связанный с генераторами, и реализовать логистическую регрессию и без них, ***штрафоваться это никак не будет***. Главное, чтобы сама модель была реализована правильно, и все пункты были выполнены. \n",
    "\n",
    "Подробнее можно почитать вот тут https://anandology.com/python-practice-book/iterators.html\n"
   ]
  },
  {
   "cell_type": "markdown",
   "metadata": {},
   "source": [
    "К генератору стоит относиться просто как к функции, которая порождает не один объект, а целую последовательность объектов. Новое значение из последовательности генерируется с помощью ключевого слова ***yield***. Ниже Вы можете насладиться  генератором чисел Фибоначчи."
   ]
  },
  {
   "cell_type": "code",
   "execution_count": 6,
   "metadata": {},
   "outputs": [],
   "source": [
    "def fib(max_iter=4):\n",
    "    a, b = 0, 1\n",
    "    iter_num = 0\n",
    "    while 1:\n",
    "        yield a\n",
    "        a, b = b, a + b\n",
    "        iter_num += 1\n",
    "        if iter_num == max_iter:\n",
    "            break"
   ]
  },
  {
   "cell_type": "markdown",
   "metadata": {},
   "source": [
    "Вот так можно сгенерировать последовательность Фибоначчи. \n",
    "\n",
    "Заметьте, что к генераторам можно применять некоторые стандартные функции из Python, например enumerate."
   ]
  },
  {
   "cell_type": "code",
   "execution_count": 7,
   "metadata": {},
   "outputs": [
    {
     "name": "stdout",
     "output_type": "stream",
     "text": [
      "Fib num: 0 fib values: 0\n",
      "Fib num: 1 fib values: 1\n",
      "Fib num: 2 fib values: 1\n",
      "Fib num: 3 fib values: 2\n"
     ]
    }
   ],
   "source": [
    "new_generator = fib()\n",
    "for j, fib_val in enumerate(new_generator):\n",
    "    print (\"Fib num: \" + str(j) + \" fib values: \" + str(fib_val))"
   ]
  },
  {
   "cell_type": "markdown",
   "metadata": {},
   "source": [
    "Пересоздавая объект, можно сколько угодно раз генерировать заново последовательность. "
   ]
  },
  {
   "cell_type": "code",
   "execution_count": 8,
   "metadata": {},
   "outputs": [
    {
     "name": "stdout",
     "output_type": "stream",
     "text": [
      "Fib num: 0 fib values: 0\n",
      "Fib num: 1 fib values: 1\n",
      "Fib num: 2 fib values: 1\n",
      "Fib num: 3 fib values: 2\n",
      "Fib num: 0 fib values: 0\n",
      "Fib num: 1 fib values: 1\n",
      "Fib num: 2 fib values: 1\n",
      "Fib num: 3 fib values: 2\n",
      "Fib num: 0 fib values: 0\n",
      "Fib num: 1 fib values: 1\n",
      "Fib num: 2 fib values: 1\n",
      "Fib num: 3 fib values: 2\n"
     ]
    }
   ],
   "source": [
    "for i in range(0, 3):\n",
    "    new_generator = fib()\n",
    "    for j, fib_val in enumerate(new_generator):\n",
    "        print (\"Fib num: \" + str(j) + \" fib values: \" + str(fib_val))"
   ]
  },
  {
   "cell_type": "markdown",
   "metadata": {},
   "source": [
    "А вот так уже нельзя."
   ]
  },
  {
   "cell_type": "code",
   "execution_count": 9,
   "metadata": {},
   "outputs": [
    {
     "name": "stdout",
     "output_type": "stream",
     "text": [
      "Fib num: 0 fib values: 0\n",
      "Fib num: 1 fib values: 1\n",
      "Fib num: 2 fib values: 1\n",
      "Fib num: 3 fib values: 2\n"
     ]
    }
   ],
   "source": [
    "new_generator = fib()\n",
    "for i in range(0, 3):\n",
    "    for j, fib_val in enumerate(new_generator):\n",
    "        print (\"Fib num: \" + str(j) + \" fib values: \" + str(fib_val))"
   ]
  },
  {
   "cell_type": "markdown",
   "metadata": {},
   "source": [
    "Концепция крайне удобная для обучения  моделей $-$ у Вас есть некий источник данных, который Вам выдает их кусками, и Вам совершенно все равно откуда он их берет. Под ним может скрывать как массив в оперативной памяти, как файл на жестком диске, так и SQL база данных. Вы сами данные никуда не сохраняете, оперативную память экономите."
   ]
  },
  {
   "cell_type": "markdown",
   "metadata": {},
   "source": [
    "Если Вам понравилась идея с генераторами, то Вы можете реализовать свой, используя прототип batch_generator. В нем Вам нужно выдавать батчи признаков и ответов для каждой новой итерации спуска. Если не понравилась идея, то можете реализовывать SGD или mini-batch GD без генераторов."
   ]
  },
  {
   "cell_type": "code",
   "execution_count": 36,
   "metadata": {},
   "outputs": [],
   "source": [
    "from sklearn.utils import shuffle\n",
    "from sklearn.datasets import fetch_openml\n",
    "from sklearn.model_selection import train_test_split\n",
    "import random\n",
    "from sklearn import datasets\n",
    "\n",
    "#def batch_generator(X, y, shuffle=True, batch_size=1):\n",
    "    \n",
    "#    Гератор новых батчей для обучения\n",
    "#    X          - матрица объекты-признаки\n",
    "#    y_batch    - вектор ответов\n",
    "#    shuffle    - нужно ли случайно перемешивать выборку\n",
    "#    batch_size - размер батча ( 1 это SGD, > 1 mini-batch GD)\n",
    "#    Генерирует подвыборку для итерации спуска (X_batch, y_batch)\n",
    "    \n",
    "    \n",
    "    \n",
    "def my_batch_generator (X, y, my_shuffle=True, batch_size=100): \n",
    "    if my_shuffle:\n",
    "        X, y = shuffle(X, y, random_state=0)\n",
    "    X_batch = np.zeros(shape=(batch_size, len(X[0])))\n",
    "    y_batch = np.zeros(shape=batch_size)\n",
    "    \n",
    "    for i in range(0, len(X) - batch_size, batch_size):\n",
    "        X_batch = [X[j] for j in range(i, i+batch_size)]\n",
    "        y_batch = [y[j] for j in range(i, i+batch_size)]\n",
    "        yield (X_batch, y_batch)\n",
    "\n",
    "# Теперь можно сделать генератор по данным ()\n",
    "#  my_batch_generator = batch_generator(X, y, shuffle=True, batch_size=1):"
   ]
  },
  {
   "cell_type": "code",
   "execution_count": 73,
   "metadata": {},
   "outputs": [],
   "source": [
    "#%% pycodestyle\n",
    "#my kaggle name: _And_\n",
    "\n",
    "def sigmoid(x):\n",
    "    return 1.0 / (1 + np.exp(-x))\n",
    "\n",
    "\n",
    "from sklearn.base import BaseEstimator, ClassifierMixin\n",
    "\n",
    "\n",
    "class MySGDClassifier(BaseEstimator, ClassifierMixin):\n",
    "\n",
    "    def __init__(self, batch_generator, C=1, alpha=0.01, max_epoch=20,\n",
    "                 model_type='lin_reg', batch_size=1, drag=1):\n",
    "        \"\"\"\n",
    "        batch_generator - функция генератор, которой будем создавать батчи\n",
    "        batch_size      - количество элементов в батче\n",
    "        C               - коэф. регуляризации\n",
    "        alpha           - скорость спуска\n",
    "        max_epoch       - максимальное количество эпох\n",
    "        model_type      - тим модели, lin_reg или log_reg\n",
    "        drag            - коэффициент торможения обучения для улучшения сходимости\n",
    "\n",
    "        \"\"\"\n",
    "        self.C = C\n",
    "        self.alpha = alpha\n",
    "        self.max_epoch = max_epoch\n",
    "        self.batch_generator = batch_generator\n",
    "        self.errors_log = {'iter': [], 'loss': []}\n",
    "        self.model_type = model_type\n",
    "        self.batch_size = batch_size\n",
    "        self.drag = drag\n",
    "\n",
    "    def calc_loss(self, X_batch, y_batch, test_val=True):\n",
    "        \"\"\"\n",
    "        Считаем функцию потерь по батчу \n",
    "\n",
    "        X_batch  - матрица объекты-признаки по батчу\n",
    "        y_batch  - вектор ответов по батчу\n",
    "        test_val - является ли тестовой выборкой, если является - добавляет \n",
    "                   колонку единиц для учёта w_0\n",
    "        \"\"\"\n",
    "        if (test_val):\n",
    "            X_batch = self.adds_column_of_ones(X_batch)\n",
    "\n",
    "        loss = -1\n",
    "        if (self.model_type == 'lin_reg'):\n",
    "            arg = [(y_batch[i] - np.dot(self.weights, X_batch[i])) ** 2 for i in range(len(X_batch))]\n",
    "            loss = sum(arg) / len(y_batch)\n",
    "\n",
    "        elif (self.model_type == 'log_reg'):\n",
    "            arg = 0\n",
    "            for i in range(len(X_batch)):\n",
    "                s = sigmoid(np.dot(self.weights, X_batch[i]))\n",
    "                arg += -y_batch[i] * np.log(s) - (1 - y_batch[i]) * np.log(1 - s)\n",
    "            loss = arg / len(X_batch)\n",
    "\n",
    "        return loss + sum(self.weights[1:] ** 2) / self.C\n",
    "\n",
    "    def calc_loss_grad(self, X_batch, y_batch):\n",
    "        \"\"\"\n",
    "        Считаем градиент функции потерь по батчу (то что Вы вывели в задании 1)\n",
    "\n",
    "        X_batch - матрица объекты-признаки по батчу\n",
    "        y_batch - вектор ответов по батчу\n",
    "        \"\"\"\n",
    "        res = np.zeros(shape=len(self.weights))\n",
    "        loss_grad = 0\n",
    "        if (self.model_type == 'lin_reg'):\n",
    "            for i in range(len(X_batch)):\n",
    "                arg = np.dot(self.weights, X_batch[i]) - y_batch[i]\n",
    "                res += 2 * X_batch[i] * arg / len(X_batch[0]) + 2 * sum(self.weights[1:]) / self.C\n",
    "            loss_grad = -res / len(X_batch)\n",
    "\n",
    "        elif (self.model_type == 'log_reg'):\n",
    "            for i in range(len(X_batch)):\n",
    "                res += X_batch[i] * (y_batch[i] - sigmoid(np.dot(self.weights, X_batch[i])))\n",
    "            loss_grad = res / len(X_batch)\n",
    "\n",
    "        return loss_grad\n",
    "\n",
    "    def update_weights(self, new_grad):\n",
    "        \"\"\"\n",
    "        Обновляем вектор весов\n",
    "        new_grad - градиент по батчу\n",
    "        \"\"\"\n",
    "        self.weights = (self.weights + self.alpha * new_grad) / (1 + 1 / self.C)\n",
    "        pass\n",
    "\n",
    "    def adds_column_of_ones(self, X):\n",
    "        \"\"\"\n",
    "        добавляет колонку единиц для учёта w_0\n",
    "        \"\"\"\n",
    "        a = np.ones(len(X), dtype=int).reshape(len(X), 1)\n",
    "        X = np.column_stack((a, X))\n",
    "        return X\n",
    "\n",
    "    def fit(self, X, y):\n",
    "        \"\"\"\n",
    "        Обучение модели\n",
    "        X - матрица объекты-признаки\n",
    "        y - вектор ответов\n",
    "        \"\"\"\n",
    "        self.cl_names = np.array(list(map(int, np.unique(y))))\n",
    "        fit_complete = 0;\n",
    "        y = [int(y[i]) for i in range(len(y))]\n",
    "        self.weights = np.array([random.uniform(-0.1, 0.1) for i in range(len(X[0]) + 1)])\n",
    "        self.result = np.zeros(shape=10000)\n",
    "        iteration = 0\n",
    "        X = self.adds_column_of_ones(X)\n",
    "\n",
    "        for n in range(0, self.max_epoch):\n",
    "            X, y = shuffle(X, y, random_state=0)\n",
    "            prev_weights = self.weights\n",
    "            new_epoch_generator = self.batch_generator(X, y, self.batch_size)\n",
    "            for batch_num, new_batch in enumerate(new_epoch_generator):\n",
    "                X_batch = new_batch[0]\n",
    "                y_batch = new_batch[1]\n",
    "\n",
    "                batch_loss = self.calc_loss(X_batch, y_batch, test_val=False)\n",
    "                if (iteration < 10000):\n",
    "                    self.result[iteration] = batch_loss\n",
    "                    iteration += 1\n",
    "\n",
    "                batch_grad = self.calc_loss_grad(X_batch, y_batch)  #\n",
    "\n",
    "                prev_batch_grad = batch_grad\n",
    "                self.update_weights(batch_grad)\n",
    "                self.errors_log['iter'].append(batch_num)\n",
    "                self.errors_log['loss'].append(batch_loss)\n",
    "            self.alpha /= self.drag\n",
    "            print(n, ' = ', self.calc_loss(X, y, test_val=False))\n",
    "            if (np.sum(abs(prev_weights - self.weights)) < 0.e-4):\n",
    "                print('last epoch: ', n)\n",
    "                break;\n",
    "            if (fit_complete):\n",
    "                break;\n",
    "        return self\n",
    "\n",
    "    def predict(self, X):\n",
    "        \"\"\"\n",
    "        Предсказание класса\n",
    "        X - матрица объекты-признаки\n",
    "        \"\"\"\n",
    "        X = self.adds_column_of_ones(X)\n",
    "        y_hat = [np.dot(X[i], self.weights) for i in range(len(X))]\n",
    "        self.proba = [self.cl_names[np.argmin(abs(self.cl_names - y_hat[i]))] for i in range(len(y_hat))]\n",
    "        return y_hat\n",
    "\n",
    "    def score(self, X, y):\n",
    "        \"\"\"\n",
    "        считает точность фактического предсказания принадлежности объекта классу\n",
    "        \"\"\"\n",
    "        right_choice = 0\n",
    "        for i in range(len(y)):\n",
    "            if (y[i] == self.proba[i]):\n",
    "                right_choice += 1\n",
    "        return right_choice / len(y)\n"
   ]
  },
  {
   "cell_type": "markdown",
   "metadata": {},
   "source": [
    "Запустите обе регрессии на синтетических данных. \n",
    "\n",
    "\n",
    "Выведите полученные веса и нарисуйте разделяющую границу между классами (используйте только первых два веса для первых двух признаков X[:,0], X[:,1] для отображения в 2d пространство ).  "
   ]
  },
  {
   "cell_type": "code",
   "execution_count": 12,
   "metadata": {},
   "outputs": [],
   "source": [
    "#best batch_size = 5\n",
    "iris = datasets.load_iris()\n",
    "df = np.array(iris)"
   ]
  },
  {
   "cell_type": "code",
   "execution_count": 13,
   "metadata": {},
   "outputs": [],
   "source": [
    "X_train, X_test, y_train, y_test = train_test_split(iris.data, iris.target, test_size=0.1, stratify=iris.target)"
   ]
  },
  {
   "cell_type": "code",
   "execution_count": 14,
   "metadata": {},
   "outputs": [],
   "source": [
    "my_clf = MySGDClassifier(batch_generator=my_batch_generator, alpha=0.09, C=2000, batch_size=5, max_epoch=20, drag=1.05)"
   ]
  },
  {
   "cell_type": "code",
   "execution_count": 15,
   "metadata": {},
   "outputs": [
    {
     "name": "stdout",
     "output_type": "stream",
     "text": [
      "0  =  1.4244489134482003\n",
      "1  =  1.665799969544147\n",
      "2  =  1.3594435671858744\n",
      "3  =  1.1140494522765134\n",
      "4  =  0.9031187211660955\n",
      "5  =  0.601847100889826\n",
      "6  =  0.3645660038202029\n",
      "7  =  0.24591492962684422\n",
      "8  =  0.15689065888276302\n",
      "9  =  0.1449731208035884\n",
      "10  =  0.137283822076214\n",
      "11  =  0.1320413810682319\n",
      "12  =  0.12655252679615653\n",
      "13  =  0.12131002172004801\n",
      "14  =  0.11691892759839849\n",
      "15  =  0.11433887126537683\n",
      "16  =  0.11040923590199907\n",
      "17  =  0.10719268144476903\n",
      "18  =  0.10474985904007916\n",
      "19  =  0.10231835947400499\n",
      "Wall time: 101 ms\n"
     ]
    },
    {
     "data": {
      "text/plain": [
       "MySGDClassifier(C=2000, alpha=0.03392005345857002,\n",
       "        batch_generator=<function my_batch_generator at 0x00000266628F2EA0>,\n",
       "        batch_size=5, drag=1.05, max_epoch=20, model_type='lin_reg')"
      ]
     },
     "execution_count": 15,
     "metadata": {},
     "output_type": "execute_result"
    }
   ],
   "source": [
    "%time my_clf.fit(X_train, y_train)"
   ]
  },
  {
   "cell_type": "code",
   "execution_count": 16,
   "metadata": {},
   "outputs": [
    {
     "data": {
      "image/png": "[encoded data removed]",
      "text/plain": [
       "<Figure size 936x504 with 1 Axes>"
      ]
     },
     "metadata": {
      "needs_background": "light"
     },
     "output_type": "display_data"
    }
   ],
   "source": [
    "import pylab\n",
    "fig = pylab.figure(figsize = (13, 7))\n",
    "ax = fig.add_subplot(111) \n",
    "ax.plot(my_clf.result)\n",
    "pylab.ylim(0, 10)\n",
    "pylab.xlim(0, 80)\n",
    "pylab.xlabel('iteration', size=18)\n",
    "pylab.ylabel('calc_loss', size=18)\n",
    "ax.set_title('grafic', size=22)\n",
    "\n",
    "pylab.show()"
   ]
  },
  {
   "cell_type": "code",
   "execution_count": 17,
   "metadata": {},
   "outputs": [
    {
     "name": "stdout",
     "output_type": "stream",
     "text": [
      "Wall time: 0 ns\n"
     ]
    },
    {
     "data": {
      "text/plain": [
       "0.11221697191655297"
      ]
     },
     "execution_count": 17,
     "metadata": {},
     "output_type": "execute_result"
    }
   ],
   "source": [
    "%time my_clf.calc_loss(X_test, y_test)"
   ]
  },
  {
   "cell_type": "code",
   "execution_count": 18,
   "metadata": {},
   "outputs": [
    {
     "data": {
      "text/plain": [
       "0.9333333333333333"
      ]
     },
     "execution_count": 18,
     "metadata": {},
     "output_type": "execute_result"
    }
   ],
   "source": [
    "my_clf.predict(X_test)\n",
    "my_clf.score(X_test, y_test)"
   ]
  },
  {
   "cell_type": "code",
   "execution_count": null,
   "metadata": {},
   "outputs": [],
   "source": []
  },
  {
   "cell_type": "code",
   "execution_count": 19,
   "metadata": {},
   "outputs": [
    {
     "name": "stdout",
     "output_type": "stream",
     "text": [
      "0  =  0.5538732539995338\n",
      "1  =  0.5253484372372758\n",
      "2  =  0.48683017067931494\n",
      "3  =  0.4864823736191846\n",
      "4  =  0.45888478793281595\n",
      "5  =  0.4819816550571281\n",
      "6  =  0.4262552009984225\n",
      "7  =  0.42550371155607075\n",
      "8  =  0.42220434690995867\n",
      "9  =  0.4549870075459347\n",
      "10  =  0.4409076230382949\n",
      "11  =  0.3925772486778569\n",
      "12  =  0.41825458674764515\n",
      "13  =  0.39225536089211777\n",
      "14  =  0.37975907949426985\n",
      "15  =  0.41688175883084716\n",
      "16  =  0.37376362381742545\n",
      "17  =  0.37116233738050597\n",
      "18  =  0.37223534424116655\n",
      "19  =  0.3750552452785106\n",
      "20  =  0.37215270754535007\n",
      "21  =  0.3655409628272802\n",
      "22  =  0.36500371809281756\n",
      "23  =  0.3688512010414593\n",
      "24  =  0.36092406475305766\n",
      "25  =  0.3631850348072689\n",
      "26  =  0.393701557041567\n",
      "27  =  0.3602502499557064\n",
      "28  =  0.3585434284760878\n",
      "29  =  0.3592048010726202\n",
      "Wall time: 531 ms\n",
      "0  =  0.7667420597559832\n",
      "1  =  0.7469033454666342\n",
      "2  =  0.7277213095848106\n",
      "3  =  0.7091931508622341\n",
      "4  =  0.6959548491793571\n",
      "5  =  0.6835169536226681\n",
      "6  =  0.6637292201624237\n",
      "7  =  0.6514796816981868\n",
      "8  =  0.6402000743749132\n",
      "9  =  0.6275868060001236\n",
      "10  =  0.6238509796068363\n",
      "11  =  0.6076470227531104\n",
      "12  =  0.6055542758095374\n",
      "13  =  0.5948650695226672\n",
      "14  =  0.5830297177589895\n",
      "15  =  0.5808541418302741\n",
      "16  =  0.569531923091513\n",
      "17  =  0.5631212912635076\n",
      "18  =  0.5577735216591394\n",
      "19  =  0.5564926118338132\n",
      "20  =  0.5497873969583629\n",
      "21  =  0.5428925119411049\n",
      "22  =  0.5394344919606543\n",
      "23  =  0.5373878288648616\n",
      "24  =  0.5317888400475957\n",
      "25  =  0.5312651004874037\n",
      "26  =  0.5453421269464402\n",
      "27  =  0.5227343914247383\n",
      "28  =  0.518763299676769\n",
      "29  =  0.5167421898630064\n",
      "Wall time: 453 ms\n"
     ]
    },
    {
     "data": {
      "text/plain": [
       "<matplotlib.collections.PathCollection at 0x266650510b8>"
      ]
     },
     "execution_count": 19,
     "metadata": {},
     "output_type": "execute_result"
    },
    {
     "data": {
      "image/png": "[encoded data removed]",
      "text/plain": [
       "<Figure size 936x504 with 1 Axes>"
      ]
     },
     "metadata": {
      "needs_background": "light"
     },
     "output_type": "display_data"
    }
   ],
   "source": [
    "import pylab\n",
    "np.random.seed(0)\n",
    "\n",
    "C1 = np.array([[0., -0.8], [1.5, 0.8]])\n",
    "C2 = np.array([[1., -0.7], [2., 0.7]])\n",
    "gauss1 = np.dot(np.random.randn(200, 2) + np.array([5, 3]), C1)\n",
    "gauss2 = np.dot(np.random.randn(200, 2) + np.array([1.5, 0]), C2)\n",
    "\n",
    "X = np.vstack([gauss1, gauss2])\n",
    "y = np.r_[np.ones(200), np.zeros(200)]\n",
    "\n",
    "# plot_decision_boundary(your_model)\n",
    "\n",
    "import matplotlib.pyplot as plt\n",
    "import matplotlib.lines as mlines\n",
    "\n",
    "fig = pylab.figure(figsize = (13, 7)) \n",
    "\n",
    "my_clf = MySGDClassifier(batch_generator=my_batch_generator, model_type='log_reg', max_epoch=30, alpha=0.8, C=200, batch_size=50, drag=1.02)\n",
    "%time my_clf.fit(X, y)\n",
    "plt.plot(X, -(my_clf.weights[0] + my_clf.weights[1]*X) / my_clf.weights[2])\n",
    "\n",
    "y = y * 2 - 1\n",
    "\n",
    "clf = MySGDClassifier(batch_generator=my_batch_generator, model_type=\"lin_reg\", max_epoch=30, alpha=0.08, C=200, batch_size=30)\n",
    "%time clf.fit(X, y)\n",
    "plt.plot(X, -(clf.weights[0] + clf.weights[1]*X) / clf.weights[2])\n",
    "\n",
    "#model_type=\"lin_reg\", max_epoch=30, alpha=0.05, C=200, batch_size=50\n",
    "\n",
    "pylab.ylim(-5, 2)\n",
    "pylab.xlim(-6, 8)\n",
    "plt.scatter(X[:,0], X[:,1], c=y)\n",
    "#my_clf = MySGDClassifier(batch_generator=my_batch_generator, alpha=0.3, C=20000, batch_size=100, max_epoch=40, drag=1.1)\n",
    "#my_clf = MySGDClassifier(batch_generator=my_batch_generator, model_type=\"log_reg\", alpha=0.4, C=20000, batch_size=100, max_epoch=40, drag=1.05)"
   ]
  },
  {
   "cell_type": "markdown",
   "metadata": {},
   "source": [
    "Далее будем анализировать Ваш алгоритм. \n",
    "Для этих заданий используйте датасет ниже."
   ]
  },
  {
   "cell_type": "code",
   "execution_count": 20,
   "metadata": {},
   "outputs": [],
   "source": [
    "from sklearn.datasets import make_classification"
   ]
  },
  {
   "cell_type": "code",
   "execution_count": 21,
   "metadata": {
    "scrolled": false
   },
   "outputs": [],
   "source": [
    "X, y = make_classification(n_samples=100000, n_features=10, \n",
    "                           n_informative=4, n_redundant=0, \n",
    "                           random_state=123, class_sep=1.0,\n",
    "                           n_clusters_per_class=1)"
   ]
  },
  {
   "cell_type": "markdown",
   "metadata": {},
   "source": [
    "Покажите сходимости обеих регрессией на этом датасете: изобразите график  функции потерь, усредненной по $N$ шагам градиентого спуска, для разных `alpha` (размеров шага). Разные `alpha` расположите на одном графике. \n",
    "\n",
    "$N$ можно брать 10, 50, 100 и т.д. "
   ]
  },
  {
   "cell_type": "code",
   "execution_count": 22,
   "metadata": {},
   "outputs": [],
   "source": [
    "## Your Code Here\n",
    "X_train, X_test, y_train, y_test = train_test_split(X, y, test_size=0.01, stratify=y)\n",
    "my_clf = MySGDClassifier(batch_generator=my_batch_generator, max_epoch=6, alpha=0.5, C=10000, batch_size=50)"
   ]
  },
  {
   "cell_type": "code",
   "execution_count": 23,
   "metadata": {},
   "outputs": [
    {
     "name": "stdout",
     "output_type": "stream",
     "text": [
      "0  =  0.04044150420373798\n",
      "1  =  0.040658897870903224\n",
      "2  =  0.04052919241269165\n",
      "3  =  0.04044705706275687\n",
      "4  =  0.04071122758886905\n",
      "5  =  0.040538381226996795\n",
      "Wall time: 26.1 s\n"
     ]
    },
    {
     "data": {
      "text/plain": [
       "MySGDClassifier(C=10000, alpha=0.5,\n",
       "        batch_generator=<function my_batch_generator at 0x00000266628F2EA0>,\n",
       "        batch_size=50, drag=1, max_epoch=6, model_type='lin_reg')"
      ]
     },
     "execution_count": 23,
     "metadata": {},
     "output_type": "execute_result"
    }
   ],
   "source": [
    "%time my_clf.fit(X_train, y_train)"
   ]
  },
  {
   "cell_type": "code",
   "execution_count": 24,
   "metadata": {},
   "outputs": [
    {
     "data": {
      "image/png": "[encoded data removed]",
      "text/plain": [
       "<Figure size 936x504 with 1 Axes>"
      ]
     },
     "metadata": {
      "needs_background": "light"
     },
     "output_type": "display_data"
    }
   ],
   "source": [
    "import pylab\n",
    "fig = pylab.figure(figsize = (13, 7))\n",
    "ax = fig.add_subplot(111) \n",
    "ax.plot(my_clf.result)\n",
    "pylab.ylim(0, 2)\n",
    "pylab.xlim(0, 100)\n",
    "pylab.xlabel('iteration', size=18)\n",
    "pylab.ylabel('calc_loss', size=18)\n",
    "ax.set_title('grafic', size=22)\n",
    "\n",
    "pylab.show()"
   ]
  },
  {
   "cell_type": "code",
   "execution_count": 25,
   "metadata": {},
   "outputs": [
    {
     "name": "stdout",
     "output_type": "stream",
     "text": [
      "Wall time: 8.4 ms\n"
     ]
    },
    {
     "data": {
      "text/plain": [
       "0.04181955539469663"
      ]
     },
     "execution_count": 25,
     "metadata": {},
     "output_type": "execute_result"
    }
   ],
   "source": [
    "%time my_clf.calc_loss(X_test, y_test)"
   ]
  },
  {
   "cell_type": "code",
   "execution_count": 26,
   "metadata": {},
   "outputs": [
    {
     "data": {
      "text/plain": [
       "0.986"
      ]
     },
     "execution_count": 26,
     "metadata": {},
     "output_type": "execute_result"
    }
   ],
   "source": [
    "my_clf.predict(X_test)\n",
    "my_clf.score(X_test, y_test)\n",
    "#alpha = 0.1, step.alpha /= 2, batch_size = 50, max_epoch = 30:     0.8025\n",
    "#alpha = 0.1, step.alpha /= 2, batch_size = 100, max_epoch = 30:    0.8105\n",
    "#max_epoch=6, alpha=0.5, C=10000, batch_size=50:                    0.989 "
   ]
  },
  {
   "cell_type": "code",
   "execution_count": null,
   "metadata": {},
   "outputs": [],
   "source": []
  },
  {
   "cell_type": "code",
   "execution_count": 44,
   "metadata": {},
   "outputs": [],
   "source": [
    "X, y = make_classification(n_samples=100000, n_features=10, \n",
    "                           n_informative=4, n_redundant=0, \n",
    "                           random_state=123, class_sep=1.0,\n",
    "                           n_clusters_per_class=1)"
   ]
  },
  {
   "cell_type": "code",
   "execution_count": 371,
   "metadata": {},
   "outputs": [],
   "source": [
    "X_train, X_test, y_train, y_test = train_test_split(X, y, test_size=0.01, stratify=y)\n",
    "my_clf = MySGDClassifier(batch_generator=my_batch_generator, model_type='log_reg', max_epoch=1, alpha=0.05, C=200, batch_size=20, drag=1.1)"
   ]
  },
  {
   "cell_type": "code",
   "execution_count": 372,
   "metadata": {},
   "outputs": [
    {
     "name": "stdout",
     "output_type": "stream",
     "text": [
      "0  =  0.18036870856373532\n",
      "Wall time: 4.08 s\n"
     ]
    },
    {
     "data": {
      "text/plain": [
       "MySGDClassifier(C=200, alpha=0.045454545454545456,\n",
       "        batch_generator=<function my_batch_generator at 0x00000191488A50D0>,\n",
       "        batch_size=20, drag=1.1, max_epoch=1, model_type='log_reg')"
      ]
     },
     "execution_count": 372,
     "metadata": {},
     "output_type": "execute_result"
    }
   ],
   "source": [
    "%time my_clf.fit(X_train, y_train)"
   ]
  },
  {
   "cell_type": "code",
   "execution_count": 27,
   "metadata": {},
   "outputs": [
    {
     "data": {
      "image/png": "[encoded data removed]",
      "text/plain": [
       "<Figure size 936x504 with 1 Axes>"
      ]
     },
     "metadata": {
      "needs_background": "light"
     },
     "output_type": "display_data"
    }
   ],
   "source": [
    "import pylab\n",
    "fig = pylab.figure(figsize = (13, 7))\n",
    "ax = fig.add_subplot(111) \n",
    "ax.plot(my_clf.result)\n",
    "pylab.ylim(0, 1)\n",
    "pylab.xlim(0, 2000)\n",
    "pylab.xlabel('iteration', size=18)\n",
    "pylab.ylabel('calc_loss', size=18)\n",
    "ax.set_title('grafic', size=22)\n",
    "\n",
    "pylab.show()\n",
    "#резкое падение ошибки до нуля - конец обучения"
   ]
  },
  {
   "cell_type": "code",
   "execution_count": 28,
   "metadata": {},
   "outputs": [
    {
     "name": "stdout",
     "output_type": "stream",
     "text": [
      "Wall time: 47.2 ms\n"
     ]
    },
    {
     "data": {
      "text/plain": [
       "0.04181955539469663"
      ]
     },
     "execution_count": 28,
     "metadata": {},
     "output_type": "execute_result"
    }
   ],
   "source": [
    "%time my_clf.calc_loss(X_test, y_test)"
   ]
  },
  {
   "cell_type": "code",
   "execution_count": 29,
   "metadata": {},
   "outputs": [
    {
     "data": {
      "text/plain": [
       "0.986"
      ]
     },
     "execution_count": 29,
     "metadata": {},
     "output_type": "execute_result"
    }
   ],
   "source": [
    "my_clf.predict(X_test)\n",
    "my_clf.score(X_test, y_test)"
   ]
  },
  {
   "cell_type": "code",
   "execution_count": null,
   "metadata": {},
   "outputs": [],
   "source": []
  },
  {
   "cell_type": "markdown",
   "metadata": {},
   "source": [
    "Что Вы можете сказать про сходимость метода при различных `alpha`? Какое значение стоит выбирать для лучшей сходимости?"
   ]
  },
  {
   "cell_type": "code",
   "execution_count": null,
   "metadata": {},
   "outputs": [],
   "source": [
    "#при изначально больших alpha ( > 1) ошибка резко увеличивается, \n",
    "#в то время как для для слишком маленьких ( < 0.01) не успевает сойтись за отведённые эпохи.\n",
    "#эмперическим путём было получено что лучшую сходимость на предложенных данных наиименьшую ошибку обеспечивают\n",
    "#alpha порядка 0.01 с коффициентом торможения (drag) 1.1"
   ]
  },
  {
   "cell_type": "markdown",
   "metadata": {},
   "source": [
    "Изобразите график среднего значения весов для обеих регрессий в зависимости от коеф. регуляризации С из `np.logspace(3, -3, 10)` "
   ]
  },
  {
   "cell_type": "code",
   "execution_count": 45,
   "metadata": {},
   "outputs": [
    {
     "name": "stdout",
     "output_type": "stream",
     "text": [
      "0  =  0.10500299903188208\n",
      "0  =  0.2075638069549976\n",
      "0  =  0.35997227650567815\n",
      "0  =  0.4605378106047208\n",
      "0  =  0.4910172555135705\n",
      "0  =  0.4980968554559588\n",
      "0  =  0.4996477350508956\n",
      "0  =  0.5000021046519274\n",
      "0  =  0.5000812251815283\n",
      "0  =  0.5000967056856289\n"
     ]
    }
   ],
   "source": [
    "grafic = np.zeros(shape=len(np.logspace(3, -3, 10)))\n",
    "j = 0\n",
    "for i in range(len(np.logspace(3, -3, 10))):\n",
    "    X_train, X_test, y_train, y_test = train_test_split(X, y, test_size=0.01, stratify=y)\n",
    "    my_clf = MySGDClassifier(batch_generator=my_batch_generator, model_type='lin_reg', max_epoch=1, alpha=0.01, C=np.logspace(3, -3, 10)[i], batch_size=50, drag=1.1)\n",
    "    my_clf.fit(X_train, y_train)\n",
    "    grafic[i] = np.mean(my_clf.weights)"
   ]
  },
  {
   "cell_type": "code",
   "execution_count": 51,
   "metadata": {},
   "outputs": [
    {
     "data": {
      "image/png": "[encoded data removed]",
      "text/plain": [
       "<Figure size 432x288 with 1 Axes>"
      ]
     },
     "metadata": {
      "needs_background": "light"
     },
     "output_type": "display_data"
    }
   ],
   "source": [
    "# Import the necessary packages and modules\n",
    "import matplotlib.pyplot as plt\n",
    "import numpy as np\n",
    "\n",
    "# Prepare the data\n",
    "x = np.linspace(3, -3, 10)\n",
    "y = grafic\n",
    "# Plot the data\n",
    "plt.plot(x, y, label='mean weights')\n",
    "\n",
    "# Add a legend\n",
    "plt.legend()\n",
    "\n",
    "# Show the plot\n",
    "plt.show()"
   ]
  },
  {
   "cell_type": "markdown",
   "metadata": {},
   "source": [
    "Довольны ли Вы, насколько сильно уменьшились Ваши веса? "
   ]
  },
  {
   "cell_type": "markdown",
   "metadata": {},
   "source": [
    "# Боевое применение (3  балла)"
   ]
  },
  {
   "cell_type": "markdown",
   "metadata": {},
   "source": [
    "Давайте применим модель на итоговом проекте! Датасет сделаем точно таким же образом, как было показано в project_overview-2.ipynb\n",
    "\n",
    "Применим обе регрессии, подберем для них параметры и сравним качество. Может быть Вы еще одновременно с решением домашней работы подрастете на лидерборде!"
   ]
  },
  {
   "cell_type": "code",
   "execution_count": 58,
   "metadata": {},
   "outputs": [
    {
     "name": "stdout",
     "output_type": "stream",
     "text": [
      "28026\n"
     ]
    }
   ],
   "source": [
    "doc_to_title = {}\n",
    "with open('docs_titles.tsv', encoding='utf-8') as f:\n",
    "    for num_line, line in enumerate(f):\n",
    "        if num_line == 0:\n",
    "            continue\n",
    "        data = line.strip().split('\\t', 1)\n",
    "        doc_id = int(data[0])\n",
    "        if len(data) == 1:\n",
    "            title = ''\n",
    "        else:\n",
    "            title = data[1]\n",
    "        doc_to_title[doc_id] = title\n",
    "print (len(doc_to_title))\n"
   ]
  },
  {
   "cell_type": "code",
   "execution_count": 59,
   "metadata": {},
   "outputs": [],
   "source": [
    "import pandas as pd\n",
    "train_data = pd.read_csv('train_groups.csv')\n",
    "traingroups_titledata = {}\n",
    "for i in range(len(train_data)):\n",
    "    new_doc = train_data.iloc[i]\n",
    "    doc_group = new_doc['group_id']\n",
    "    doc_id = new_doc['doc_id']\n",
    "    target = new_doc['target']\n",
    "    title = doc_to_title[doc_id]\n",
    "    if doc_group not in traingroups_titledata:\n",
    "        traingroups_titledata[doc_group] = []\n",
    "    traingroups_titledata[doc_group].append((doc_id, title, target))"
   ]
  },
  {
   "cell_type": "code",
   "execution_count": 60,
   "metadata": {},
   "outputs": [
    {
     "name": "stdout",
     "output_type": "stream",
     "text": [
      "(11690, 15) (11690,) (11690,)\n"
     ]
    }
   ],
   "source": [
    "import numpy as np\n",
    "y_train = []\n",
    "X_train = []\n",
    "groups_train = []\n",
    "for new_group in traingroups_titledata:\n",
    "    docs = traingroups_titledata[new_group]\n",
    "    for k, (doc_id, title, target_id) in enumerate(docs):\n",
    "        y_train.append(target_id)\n",
    "        groups_train.append(new_group)\n",
    "        all_dist = []\n",
    "        words = set(title.strip().split())\n",
    "        for j in range(0, len(docs)):\n",
    "            if k == j:\n",
    "                continue\n",
    "            doc_id_j, title_j, target_j = docs[j]\n",
    "            words_j = set(title_j.strip().split())\n",
    "            all_dist.append(len(words.intersection(words_j)))\n",
    "        X_train.append(sorted(all_dist, reverse=True)[0:15]    )\n",
    "X_train = np.array(X_train)\n",
    "y_train = np.array(y_train)\n",
    "groups_train = np.array(groups_train)\n",
    "print (X_train.shape, y_train.shape, groups_train.shape)"
   ]
  },
  {
   "cell_type": "markdown",
   "metadata": {},
   "source": [
    "Подберите размер батча для обучения. Линейная модель не должна учиться дольше нескольких минут. \n",
    "\n",
    "Не забывайте использовать скейлер!"
   ]
  },
  {
   "cell_type": "code",
   "execution_count": 61,
   "metadata": {},
   "outputs": [],
   "source": [
    "from sklearn.metrics import f1_score\n",
    "from sklearn.linear_model import LinearRegression\n",
    "from sklearn.preprocessing import StandardScaler"
   ]
  },
  {
   "cell_type": "code",
   "execution_count": 229,
   "metadata": {},
   "outputs": [
    {
     "name": "stdout",
     "output_type": "stream",
     "text": [
      "StandardScaler(copy=True, with_mean=True, with_std=True)\n",
      "[3.25543199 2.62147134 2.33088109 2.13404619 1.98973482 1.87938409\n",
      " 1.78887938 1.70196749 1.63378956 1.57690334 1.52788708 1.47698888\n",
      " 1.43062447 1.38477331 1.33977759]\n",
      "[[4 4 3 3 3 2 2 2 2 2 2 2 2 1 1]\n",
      " [8 7 7 7 7 7 4 4 3 3 2 2 2 2 2]\n",
      " [2 2 2 2 2 2 2 1 1 1 1 1 1 1 1]\n",
      " [1 1 1 1 1 1 1 1 1 1 1 1 1 1 1]\n",
      " [2 2 2 2 1 1 1 1 1 1 1 1 1 1 1]\n",
      " [1 1 1 1 1 1 1 1 1 1 1 1 1 1 1]\n",
      " [2 2 2 1 1 1 1 1 1 1 1 1 1 1 1]\n",
      " [2 2 2 2 2 2 1 1 1 1 1 1 1 1 1]\n",
      " [4 3 2 2 2 2 2 2 2 2 2 2 2 1 1]\n",
      " [2 2 2 2 1 1 1 1 1 1 1 1 1 1 1]]\n",
      "[[ 0.28851817  0.64985075  0.34754853  0.48147109  0.59175091  0.07308688\n",
      "   0.13221894  0.19461288  0.24432264  0.28747714  0.32706765  0.36947476\n",
      "   0.40832322 -0.2798612  -0.25235498]\n",
      " [ 1.83850779  2.06407761  2.42519734  2.70547468  2.9347037   3.10282323\n",
      "   1.38476303  1.50059713  0.91148724  0.96693684  0.32706765  0.36947476\n",
      "   0.40832322  0.44747927  0.49035139]\n",
      " [-0.48647664 -0.29296716 -0.17186368 -0.0745298   0.00601271  0.07308688\n",
      "   0.13221894 -0.45837925 -0.42284196 -0.39198257 -0.36570656 -0.33696291\n",
      "  -0.30881898 -0.2798612  -0.25235498]\n",
      " [-0.87397404 -0.76437611 -0.69127588 -0.6305307  -0.57972549 -0.53286039\n",
      "  -0.4940531  -0.45837925 -0.42284196 -0.39198257 -0.36570656 -0.33696291\n",
      "  -0.30881898 -0.2798612  -0.25235498]\n",
      " [-0.48647664 -0.29296716 -0.17186368 -0.0745298  -0.57972549 -0.53286039\n",
      "  -0.4940531  -0.45837925 -0.42284196 -0.39198257 -0.36570656 -0.33696291\n",
      "  -0.30881898 -0.2798612  -0.25235498]\n",
      " [-0.87397404 -0.76437611 -0.69127588 -0.6305307  -0.57972549 -0.53286039\n",
      "  -0.4940531  -0.45837925 -0.42284196 -0.39198257 -0.36570656 -0.33696291\n",
      "  -0.30881898 -0.2798612  -0.25235498]\n",
      " [-0.48647664 -0.29296716 -0.17186368 -0.6305307  -0.57972549 -0.53286039\n",
      "  -0.4940531  -0.45837925 -0.42284196 -0.39198257 -0.36570656 -0.33696291\n",
      "  -0.30881898 -0.2798612  -0.25235498]\n",
      " [-0.48647664 -0.29296716 -0.17186368 -0.0745298   0.00601271  0.07308688\n",
      "  -0.4940531  -0.45837925 -0.42284196 -0.39198257 -0.36570656 -0.33696291\n",
      "  -0.30881898 -0.2798612  -0.25235498]\n",
      " [ 0.28851817  0.1784418  -0.17186368 -0.0745298   0.00601271  0.07308688\n",
      "   0.13221894  0.19461288  0.24432264  0.28747714  0.32706765  0.36947476\n",
      "   0.40832322 -0.2798612  -0.25235498]\n",
      " [-0.48647664 -0.29296716 -0.17186368 -0.0745298  -0.57972549 -0.53286039\n",
      "  -0.4940531  -0.45837925 -0.42284196 -0.39198257 -0.36570656 -0.33696291\n",
      "  -0.30881898 -0.2798612  -0.25235498]]\n"
     ]
    },
    {
     "name": "stderr",
     "output_type": "stream",
     "text": [
      "C:\\Users\\andre\\Anaconda3\\lib\\site-packages\\sklearn\\utils\\validation.py:595: DataConversionWarning: Data with input dtype int32 was converted to float64 by StandardScaler.\n",
      "  warnings.warn(msg, DataConversionWarning)\n",
      "C:\\Users\\andre\\Anaconda3\\lib\\site-packages\\sklearn\\utils\\validation.py:595: DataConversionWarning: Data with input dtype int32 was converted to float64 by StandardScaler.\n",
      "  warnings.warn(msg, DataConversionWarning)\n"
     ]
    }
   ],
   "source": [
    "scaler = StandardScaler()\n",
    "print(scaler.fit(X_train))\n",
    "print(scaler.mean_)\n",
    "print(X_train[:10])\n",
    "X_train = scaler.transform(X_train)\n",
    "print(X_train[:10])"
   ]
  },
  {
   "cell_type": "code",
   "execution_count": 62,
   "metadata": {},
   "outputs": [],
   "source": [
    "X = X_train\n",
    "y = y_train\n",
    "X_train, X_test, y_train, y_test = train_test_split(X, y, test_size=0.01, stratify=y)\n",
    "my_clf = MySGDClassifier(batch_generator=my_batch_generator, model_type='log_reg', max_epoch=13, alpha=0.04, C=20000, batch_size = 25, drag=1.05)\n",
    "#model_type='log_reg', max_epoch=30, alpha=0.5, C=20000, batch_size = 25"
   ]
  },
  {
   "cell_type": "code",
   "execution_count": 63,
   "metadata": {},
   "outputs": [
    {
     "name": "stdout",
     "output_type": "stream",
     "text": [
      "0  =  0.571708656578719\n",
      "1  =  0.5315073183633114\n",
      "2  =  0.5137580474518334\n",
      "3  =  0.49957697715201566\n",
      "4  =  0.49313799217568777\n",
      "5  =  0.48949345003268496\n",
      "6  =  0.4880385769022382\n",
      "7  =  0.48575701710248703\n",
      "8  =  0.4849327113671571\n",
      "9  =  0.4873799673227195\n",
      "10  =  0.48205836279566955\n",
      "11  =  0.48439653278782074\n",
      "12  =  0.48260632981030444\n",
      "Wall time: 7.49 s\n"
     ]
    },
    {
     "data": {
      "text/plain": [
       "MySGDClassifier(C=20000, alpha=0.02121285402581178,\n",
       "        batch_generator=<function my_batch_generator at 0x000002666559BA60>,\n",
       "        batch_size=25, drag=1.05, max_epoch=13, model_type='log_reg')"
      ]
     },
     "execution_count": 63,
     "metadata": {},
     "output_type": "execute_result"
    }
   ],
   "source": [
    "%time my_clf.fit(X_train, y_train)"
   ]
  },
  {
   "cell_type": "code",
   "execution_count": 64,
   "metadata": {},
   "outputs": [
    {
     "name": "stdout",
     "output_type": "stream",
     "text": [
      "Wall time: 3.94 ms\n"
     ]
    },
    {
     "data": {
      "text/plain": [
       "0.5490435395768282"
      ]
     },
     "execution_count": 64,
     "metadata": {},
     "output_type": "execute_result"
    }
   ],
   "source": [
    "%time my_clf.calc_loss(X_test, y_test)"
   ]
  },
  {
   "cell_type": "code",
   "execution_count": 65,
   "metadata": {},
   "outputs": [
    {
     "data": {
      "text/plain": [
       "[0.8266345087699336,\n",
       " 0.8771503461524355,\n",
       " -1.2372947692793208,\n",
       " 2.0961969610000866,\n",
       " -0.8601595184299371,\n",
       " -2.1885874902546383,\n",
       " -2.1542256116171257,\n",
       " -1.9545484359198897,\n",
       " -0.8349899138374612,\n",
       " -1.536485841973455,\n",
       " -1.198316893773559,\n",
       " -0.3125775430358497,\n",
       " -1.2211963919440427,\n",
       " -2.046673820341704,\n",
       " -1.0362809988606574,\n",
       " -0.9318721393008091,\n",
       " 1.10526174027925,\n",
       " -1.7548828330789281,\n",
       " -1.3979940694707953,\n",
       " -2.1542256116171257,\n",
       " -1.9155474512294295,\n",
       " 0.3141461905191021,\n",
       " -0.44317391652343896,\n",
       " -1.3979940694707953,\n",
       " -2.1542256116171257,\n",
       " -2.119341604003308,\n",
       " -1.0170374718026234,\n",
       " -0.7110084135757941,\n",
       " -1.159315909083099,\n",
       " 1.229672803426621,\n",
       " -1.3979940694707953,\n",
       " 2.5131769202886423,\n",
       " 1.070377732665433,\n",
       " -2.1542256116171257,\n",
       " -0.4030843669367681,\n",
       " -1.6604673422351222,\n",
       " -2.1542256116171257,\n",
       " -0.8001059062236437,\n",
       " 0.018075735189095887,\n",
       " -1.3631100618569776,\n",
       " -0.11935015652285252,\n",
       " 2.3415643276821374,\n",
       " -1.3979940694707953,\n",
       " 0.5874875889448428,\n",
       " -1.5563374483699746,\n",
       " -1.3979940694707953,\n",
       " 1.7963643732508938,\n",
       " -0.641762527324464,\n",
       " 1.4661130466650238,\n",
       " -0.9371610121728011,\n",
       " -1.3631100618569776,\n",
       " 3.2587930458882313,\n",
       " 0.013609579826211915,\n",
       " -1.3631100618569776,\n",
       " -2.1542256116171257,\n",
       " 1.9894343981551272,\n",
       " -1.3979940694707953,\n",
       " -0.4887599621743435,\n",
       " -1.9774279340903738,\n",
       " -1.3979940694707953,\n",
       " -1.9545484359198897,\n",
       " 0.6498368312431817,\n",
       " -1.9155474512294295,\n",
       " -0.1488289388379589,\n",
       " 0.3100523226271581,\n",
       " -1.3979940694707953,\n",
       " 0.04522312857053623,\n",
       " -1.375786541781981,\n",
       " -1.2372947692793208,\n",
       " -1.3670535678370888,\n",
       " -1.467239955722125,\n",
       " -2.2234714978684558,\n",
       " -1.4450324280333111,\n",
       " 0.1873721054834243,\n",
       " -1.1055268851119875,\n",
       " 1.7659916101306372,\n",
       " -1.428934050698033,\n",
       " -1.9196644283060724,\n",
       " -0.02402275768079387,\n",
       " -0.4420853516272283,\n",
       " -1.536485841973455,\n",
       " -1.4576480914070322,\n",
       " -2.0540392237320897,\n",
       " -2.1542256116171257,\n",
       " -1.198316893773559,\n",
       " -0.12488219267644807,\n",
       " -0.7231627645244925,\n",
       " -0.008044653010013336,\n",
       " -2.1542256116171257,\n",
       " 2.5599613187876105,\n",
       " -1.1055268851119875,\n",
       " -0.9670351126093273,\n",
       " -0.3485061145351951,\n",
       " -1.1803048075169134,\n",
       " -1.9545484359198897,\n",
       " -1.3979940694707953,\n",
       " -0.6665325416468835,\n",
       " 0.018075735189095887,\n",
       " -2.1542256116171257,\n",
       " -1.7925125410069886,\n",
       " -1.3979940694707953,\n",
       " -0.2443762206700475,\n",
       " 0.7698411219725423,\n",
       " 1.6279530767755634,\n",
       " -0.7019269528580048,\n",
       " -1.2211963919440427,\n",
       " -2.600640910352344,\n",
       " 0.3531471752095625,\n",
       " -1.467239955722125,\n",
       " -0.6068785197106468,\n",
       " 1.4414627846006336,\n",
       " -0.17513019355717496,\n",
       " -1.3631100618569776,\n",
       " -1.7297132284864523,\n",
       " -1.3979940694707953,\n",
       " 0.05481499288562941,\n",
       " -0.2855814928679228]"
      ]
     },
     "execution_count": 65,
     "metadata": {},
     "output_type": "execute_result"
    }
   ],
   "source": [
    "my_clf.predict(X_test)"
   ]
  },
  {
   "cell_type": "code",
   "execution_count": 66,
   "metadata": {},
   "outputs": [
    {
     "data": {
      "text/plain": [
       "0.7350427350427351"
      ]
     },
     "execution_count": 66,
     "metadata": {},
     "output_type": "execute_result"
    }
   ],
   "source": [
    "my_clf.score(X_test, y_test)"
   ]
  },
  {
   "cell_type": "code",
   "execution_count": null,
   "metadata": {},
   "outputs": [],
   "source": []
  },
  {
   "cell_type": "code",
   "execution_count": 67,
   "metadata": {},
   "outputs": [],
   "source": [
    "my_clf = MySGDClassifier(batch_generator=my_batch_generator, max_epoch=10, alpha=0.1, C=20000, batch_size = 1, drag=1.05)"
   ]
  },
  {
   "cell_type": "code",
   "execution_count": 68,
   "metadata": {},
   "outputs": [
    {
     "name": "stdout",
     "output_type": "stream",
     "text": [
      "0  =  0.1578713237416963\n",
      "1  =  0.15835496390719922\n",
      "2  =  0.15948761483176754\n",
      "3  =  0.15657837946742065\n",
      "4  =  0.15688560287008083\n",
      "5  =  0.15623170248722648\n",
      "6  =  0.15861652823391148\n",
      "7  =  0.15643655053146355\n",
      "8  =  0.15610657911236325\n",
      "9  =  0.1587634107085248\n",
      "Wall time: 4.74 s\n"
     ]
    },
    {
     "data": {
      "text/plain": [
       "MySGDClassifier(C=20000, alpha=0.06139132535407589,\n",
       "        batch_generator=<function my_batch_generator at 0x000002666559BA60>,\n",
       "        batch_size=1, drag=1.05, max_epoch=10, model_type='lin_reg')"
      ]
     },
     "execution_count": 68,
     "metadata": {},
     "output_type": "execute_result"
    }
   ],
   "source": [
    "%time my_clf.fit(X_train, y_train)"
   ]
  },
  {
   "cell_type": "code",
   "execution_count": 69,
   "metadata": {},
   "outputs": [
    {
     "name": "stdout",
     "output_type": "stream",
     "text": [
      "Wall time: 7.3 ms\n"
     ]
    },
    {
     "data": {
      "text/plain": [
       "0.18998182426832438"
      ]
     },
     "execution_count": 69,
     "metadata": {},
     "output_type": "execute_result"
    }
   ],
   "source": [
    "%time my_clf.calc_loss(X_test, y_test)"
   ]
  },
  {
   "cell_type": "code",
   "execution_count": 70,
   "metadata": {},
   "outputs": [
    {
     "data": {
      "text/plain": [
       "[0.6583920967239464,\n",
       " 0.7573496662898183,\n",
       " 0.22497686829867175,\n",
       " 0.988211159589685,\n",
       " 0.32989521766536434,\n",
       " 0.04830165699323641,\n",
       " 0.034889979589846694,\n",
       " 0.11207089686372124,\n",
       " 0.35418052009819895,\n",
       " 0.18488715720390958,\n",
       " 0.27506501132259364,\n",
       " 0.4842032151527662,\n",
       " 0.2398032493719855,\n",
       " 0.07031066649070834,\n",
       " 0.30081401485333364,\n",
       " 0.28398624406053047,\n",
       " 0.7839575005250052,\n",
       " 0.15390416636168242,\n",
       " 0.19788409404871912,\n",
       " 0.034889979589846694,\n",
       " 0.08843338123672265,\n",
       " 0.6010532402403383,\n",
       " 0.5995496898817925,\n",
       " 0.19788409404871912,\n",
       " 0.034889979589846694,\n",
       " 0.054800125415641165,\n",
       " 0.33951685252244956,\n",
       " 0.35437974008518675,\n",
       " 0.2514274956955951,\n",
       " 0.8329265255778533,\n",
       " 0.19788409404871912,\n",
       " 1.0756549316313815,\n",
       " 0.7640473546992108,\n",
       " 0.034889979589846694,\n",
       " 0.41442161015446743,\n",
       " 0.18468793721692178,\n",
       " 0.034889979589846694,\n",
       " 0.3740906659239934,\n",
       " 0.5699775973900577,\n",
       " 0.21779423987451357,\n",
       " 0.4909009035621587,\n",
       " 1.0237908308241204,\n",
       " 0.19788409404871912,\n",
       " 0.6140003987826506,\n",
       " 0.21109655146512102,\n",
       " 0.19788409404871912,\n",
       " 0.89690548510868,\n",
       " 0.3608782085075915,\n",
       " 0.8316368154487325,\n",
       " 0.3509684902027757,\n",
       " 0.21779423987451357,\n",
       " 1.2608383203382942,\n",
       " 0.4943218782790269,\n",
       " 0.21779423987451357,\n",
       " 0.034889979589846694,\n",
       " 0.9363616976182708,\n",
       " 0.19788409404871912,\n",
       " 0.4431446086459365,\n",
       " 0.0768091349131131,\n",
       " 0.19788409404871912,\n",
       " 0.11207089686372124,\n",
       " 0.6164729414006801,\n",
       " 0.08843338123672265,\n",
       " 0.5180618030931234,\n",
       " 0.570875243042211,\n",
       " 0.19788409404871912,\n",
       " 0.5173738545440592,\n",
       " 0.21197993145386224,\n",
       " 0.22497686829867175,\n",
       " 0.23193209042838075,\n",
       " 0.19138562562631434,\n",
       " 0.028391511167441933,\n",
       " 0.20548146303145748,\n",
       " 0.5780008236726547,\n",
       " 0.2943155464309289,\n",
       " 0.9364123392480561,\n",
       " 0.22030784410477122,\n",
       " 0.13198104268951572,\n",
       " 0.5108753861216544,\n",
       " 0.438059125781466,\n",
       " 0.18488715720390958,\n",
       " 0.19910269169320524,\n",
       " 0.07543644439191312,\n",
       " 0.034889979589846694,\n",
       " 0.27506501132259364,\n",
       " 0.4813249414342174,\n",
       " 0.38188725489371955,\n",
       " 0.47809905857373075,\n",
       " 0.034889979589846694,\n",
       " 1.0547738216663476,\n",
       " 0.2943155464309289,\n",
       " 0.3073124832757384,\n",
       " 0.44088088581924884,\n",
       " 0.27824111588058276,\n",
       " 0.11207089686372124,\n",
       " 0.19788409404871912,\n",
       " 0.38200695197787216,\n",
       " 0.5699775973900577,\n",
       " 0.034889979589846694,\n",
       " 0.13781990039446124,\n",
       " 0.19788409404871912,\n",
       " 0.46728950006744807,\n",
       " 0.6573159927378993,\n",
       " 0.8707438105385701,\n",
       " 0.3175774867328879,\n",
       " 0.2398032493719855,\n",
       " 0.01832291911147025,\n",
       " 0.5774157246133398,\n",
       " 0.19138562562631434,\n",
       " 0.380788354333386,\n",
       " 0.8438965211045366,\n",
       " 0.4914996779385926,\n",
       " 0.21779423987451357,\n",
       " 0.17818946879451703,\n",
       " 0.19788409404871912,\n",
       " 0.52509092061095,\n",
       " 0.45423216718426473]"
      ]
     },
     "execution_count": 70,
     "metadata": {},
     "output_type": "execute_result"
    }
   ],
   "source": [
    "my_clf.predict(X_test)"
   ]
  },
  {
   "cell_type": "code",
   "execution_count": 71,
   "metadata": {},
   "outputs": [
    {
     "data": {
      "text/plain": [
       "0.7606837606837606"
      ]
     },
     "execution_count": 71,
     "metadata": {},
     "output_type": "execute_result"
    }
   ],
   "source": [
    "my_clf.score(X_test, y_test)"
   ]
  },
  {
   "cell_type": "code",
   "execution_count": null,
   "metadata": {},
   "outputs": [],
   "source": []
  },
  {
   "cell_type": "code",
   "execution_count": null,
   "metadata": {},
   "outputs": [],
   "source": []
  },
  {
   "cell_type": "code",
   "execution_count": 308,
   "metadata": {},
   "outputs": [],
   "source": [
    "import pandas as pd\n",
    "train_data = pd.read_csv('test_groups.csv')\n",
    "traingroups_titledata = {}\n",
    "for i in range(len(train_data)):\n",
    "    new_doc = train_data.iloc[i]\n",
    "    doc_group = new_doc['group_id']\n",
    "    doc_id = new_doc['doc_id']\n",
    "    title = doc_to_title[doc_id]\n",
    "    if doc_group not in traingroups_titledata:\n",
    "        traingroups_titledata[doc_group] = []\n",
    "    traingroups_titledata[doc_group].append((doc_id, title, target))"
   ]
  },
  {
   "cell_type": "code",
   "execution_count": 309,
   "metadata": {},
   "outputs": [
    {
     "data": {
      "text/plain": [
       "array([[ 3,  3,  2,  2,  2,  2,  2,  2,  2,  2,  2,  1,  1,  1,  1],\n",
       "       [ 5,  3,  3,  2,  2,  2,  2,  2,  2,  2,  2,  2,  2,  2,  2],\n",
       "       [ 6,  5,  5,  5,  5,  5,  5,  4,  4,  4,  4,  4,  4,  4,  4],\n",
       "       [ 6,  5,  4,  4,  4,  4,  4,  3,  3,  3,  3,  3,  3,  3,  3],\n",
       "       [ 4,  3,  3,  3,  2,  2,  2,  2,  2,  2,  2,  2,  2,  2,  2],\n",
       "       [ 3,  3,  1,  1,  1,  1,  1,  1,  1,  1,  1,  1,  1,  1,  1],\n",
       "       [ 1,  1,  1,  0,  0,  0,  0,  0,  0,  0,  0,  0,  0,  0,  0],\n",
       "       [ 0,  0,  0,  0,  0,  0,  0,  0,  0,  0,  0,  0,  0,  0,  0],\n",
       "       [11, 10,  5,  5,  4,  4,  4,  4,  4,  3,  3,  3,  3,  3,  3],\n",
       "       [ 1,  1,  1,  1,  1,  1,  1,  1,  0,  0,  0,  0,  0,  0,  0],\n",
       "       [ 4,  3,  3,  3,  2,  2,  2,  2,  2,  2,  2,  2,  1,  1,  1],\n",
       "       [ 2,  2,  1,  1,  1,  1,  1,  1,  1,  1,  1,  1,  1,  1,  1],\n",
       "       [ 2,  2,  2,  2,  2,  2,  2,  2,  2,  2,  2,  1,  1,  1,  1],\n",
       "       [ 4,  4,  4,  4,  3,  3,  3,  3,  3,  3,  3,  2,  2,  2,  2],\n",
       "       [ 3,  3,  2,  2,  2,  2,  2,  2,  1,  1,  1,  1,  1,  1,  1],\n",
       "       [ 2,  1,  1,  1,  1,  1,  1,  1,  1,  1,  1,  1,  1,  1,  1],\n",
       "       [ 5,  5,  5,  4,  4,  4,  4,  3,  3,  3,  3,  3,  3,  3,  3],\n",
       "       [ 3,  3,  2,  2,  2,  2,  2,  2,  2,  2,  2,  1,  1,  1,  1],\n",
       "       [ 4,  3,  3,  3,  3,  3,  3,  3,  2,  2,  2,  2,  2,  2,  2],\n",
       "       [ 2,  2,  1,  1,  1,  1,  1,  1,  1,  1,  1,  1,  1,  1,  1],\n",
       "       [ 3,  2,  2,  2,  2,  2,  2,  2,  2,  2,  2,  2,  2,  2,  1],\n",
       "       [ 4,  3,  3,  2,  2,  2,  2,  2,  2,  2,  2,  2,  2,  2,  2],\n",
       "       [ 0,  0,  0,  0,  0,  0,  0,  0,  0,  0,  0,  0,  0,  0,  0],\n",
       "       [ 4,  3,  3,  3,  3,  3,  2,  2,  2,  2,  2,  2,  2,  2,  2],\n",
       "       [ 3,  3,  3,  2,  2,  2,  1,  1,  1,  1,  1,  1,  1,  1,  1],\n",
       "       [ 1,  1,  1,  1,  1,  1,  1,  1,  1,  1,  1,  1,  1,  1,  1],\n",
       "       [ 2,  2,  2,  2,  2,  2,  2,  2,  1,  1,  1,  1,  1,  1,  1],\n",
       "       [ 3,  3,  2,  2,  2,  2,  2,  2,  2,  2,  2,  2,  2,  2,  1],\n",
       "       [ 3,  3,  2,  2,  2,  2,  2,  2,  2,  2,  2,  2,  2,  2,  2],\n",
       "       [ 4,  3,  3,  3,  3,  2,  2,  2,  2,  2,  2,  2,  2,  2,  2],\n",
       "       [ 2,  2,  2,  2,  2,  2,  2,  2,  1,  1,  1,  1,  1,  1,  1],\n",
       "       [ 2,  2,  2,  2,  2,  2,  2,  1,  1,  1,  1,  1,  1,  1,  1],\n",
       "       [ 3,  3,  2,  2,  2,  2,  2,  2,  2,  2,  2,  2,  2,  2,  1],\n",
       "       [ 1,  1,  1,  1,  1,  1,  1,  1,  1,  1,  1,  1,  1,  1,  1],\n",
       "       [ 4,  2,  2,  2,  2,  2,  2,  2,  1,  1,  1,  1,  1,  1,  1],\n",
       "       [ 1,  1,  1,  1,  1,  1,  1,  1,  1,  1,  1,  1,  1,  1,  1],\n",
       "       [ 2,  2,  2,  1,  1,  1,  1,  1,  1,  1,  1,  1,  1,  1,  1],\n",
       "       [ 2,  2,  2,  2,  2,  2,  2,  2,  1,  1,  1,  1,  1,  1,  1],\n",
       "       [ 3,  3,  2,  2,  2,  1,  1,  1,  1,  1,  1,  1,  1,  1,  1],\n",
       "       [ 2,  2,  2,  1,  1,  1,  1,  1,  1,  1,  1,  1,  1,  1,  1],\n",
       "       [10,  7,  4,  3,  3,  3,  3,  3,  3,  2,  2,  2,  2,  2,  2],\n",
       "       [ 4,  4,  4,  4,  4,  4,  4,  4,  3,  3,  3,  3,  3,  3,  2],\n",
       "       [ 3,  2,  2,  2,  2,  2,  2,  2,  2,  2,  2,  2,  2,  2,  2],\n",
       "       [ 6,  4,  4,  4,  4,  4,  4,  3,  3,  3,  3,  3,  3,  3,  2],\n",
       "       [ 1,  1,  1,  1,  1,  1,  1,  1,  1,  1,  1,  1,  1,  1,  1],\n",
       "       [ 1,  1,  1,  1,  0,  0,  0,  0,  0,  0,  0,  0,  0,  0,  0],\n",
       "       [ 3,  2,  2,  2,  2,  2,  2,  2,  2,  2,  2,  2,  2,  2,  2],\n",
       "       [ 0,  0,  0,  0,  0,  0,  0,  0,  0,  0,  0,  0,  0,  0,  0],\n",
       "       [ 1,  1,  1,  1,  1,  1,  1,  1,  1,  1,  1,  1,  1,  1,  1],\n",
       "       [ 4,  4,  3,  3,  3,  3,  3,  3,  3,  3,  2,  2,  2,  2,  2]])"
      ]
     },
     "execution_count": 309,
     "metadata": {},
     "output_type": "execute_result"
    }
   ],
   "source": [
    "import numpy as np\n",
    "X_train = []\n",
    "groups_train = []\n",
    "for new_group in traingroups_titledata:\n",
    "    docs = traingroups_titledata[new_group]\n",
    "    for k, (doc_id, title, target) in enumerate(docs):\n",
    "        groups_train.append(new_group)\n",
    "        all_dist = []\n",
    "        words = set(title.strip().split())\n",
    "        for j in range(0, len(docs)):\n",
    "            if k == j:\n",
    "                continue\n",
    "            doc_id_j, title_j, target_j = docs[j]\n",
    "            words_j = set(title_j.strip().split())\n",
    "            all_dist.append(len(words.intersection(words_j)))\n",
    "        X_train.append(sorted(all_dist, reverse=True)[0:15]    )\n",
    "X_train = np.array(X_train)\n",
    "groups_train = np.array(groups_train)\n",
    "X_train[:50]"
   ]
  },
  {
   "cell_type": "code",
   "execution_count": 243,
   "metadata": {},
   "outputs": [
    {
     "name": "stdout",
     "output_type": "stream",
     "text": [
      "StandardScaler(copy=True, with_mean=True, with_std=True)\n",
      "[3.27335057 2.61688819 2.32579539 2.14404282 2.00637517 1.89571179\n",
      " 1.80140735 1.71137307 1.64124617 1.57208155 1.51217899 1.45648644\n",
      " 1.40867264 1.36512901 1.32375053]\n",
      "[[ 3  3  2  2  2  2  2  2  2  2  2  1  1  1  1]\n",
      " [ 5  3  3  2  2  2  2  2  2  2  2  2  2  2  2]\n",
      " [ 6  5  5  5  5  5  5  4  4  4  4  4  4  4  4]\n",
      " [ 6  5  4  4  4  4  4  3  3  3  3  3  3  3  3]\n",
      " [ 4  3  3  3  2  2  2  2  2  2  2  2  2  2  2]\n",
      " [ 3  3  1  1  1  1  1  1  1  1  1  1  1  1  1]\n",
      " [ 1  1  1  0  0  0  0  0  0  0  0  0  0  0  0]\n",
      " [ 0  0  0  0  0  0  0  0  0  0  0  0  0  0  0]\n",
      " [11 10  5  5  4  4  4  4  4  3  3  3  3  3  3]\n",
      " [ 1  1  1  1  1  1  1  1  0  0  0  0  0  0  0]]\n",
      "[[-0.09960999  0.17383214 -0.16130939 -0.07543931 -0.00347823  0.05915747\n",
      "   0.11615608  0.1763277   0.22586166  0.28046378  0.32809654 -0.31559104\n",
      "  -0.28701374 -0.25952987 -0.23333124]\n",
      " [ 0.62919761  0.17383214  0.33381545 -0.07543931 -0.00347823  0.05915747\n",
      "   0.11615608  0.1763277   0.22586166  0.28046378  0.32809654  0.37575708\n",
      "   0.41529347  0.45125965  0.48738185]\n",
      " [ 0.9936014   1.08130689  1.32406513  1.49574574  1.63329359  1.76090714\n",
      "   1.87084458  1.39816584  1.4850073   1.59129199  1.67324788  1.75845332\n",
      "   1.81990788  1.87283869  1.92880802]\n",
      " [ 0.9936014   1.08130689  0.82894029  0.97201739  1.08770298  1.19365725\n",
      "   1.28594841  0.78724677  0.85543448  0.93587789  1.00067221  1.0671052\n",
      "   1.11760067  1.16204917  1.20809494]\n",
      " [ 0.26479381  0.17383214  0.33381545  0.44828904 -0.00347823  0.05915747\n",
      "   0.11615608  0.1763277   0.22586166  0.28046378  0.32809654  0.37575708\n",
      "   0.41529347  0.45125965  0.48738185]\n",
      " [-0.09960999  0.17383214 -0.65643423 -0.59916766 -0.54906884 -0.50809242\n",
      "  -0.46874009 -0.43459137 -0.40371116 -0.37495032 -0.34447912 -0.31559104\n",
      "  -0.28701374 -0.25952987 -0.23333124]\n",
      " [-0.82841758 -0.7336426  -0.65643423 -1.12289601 -1.09465945 -1.07534231\n",
      "  -1.05363625 -1.04551044 -1.03328397 -1.03036442 -1.01705479 -1.00693916\n",
      "  -0.98932095 -0.97031939 -0.95404433]\n",
      " [-1.19282138 -1.18737997 -1.15155907 -1.12289601 -1.09465945 -1.07534231\n",
      "  -1.05363625 -1.04551044 -1.03328397 -1.03036442 -1.01705479 -1.00693916\n",
      "  -0.98932095 -0.97031939 -0.95404433]\n",
      " [ 2.81562039  3.34999374  1.32406513  1.49574574  1.08770298  1.19365725\n",
      "   1.28594841  1.39816584  1.4850073   0.93587789  1.00067221  1.0671052\n",
      "   1.11760067  1.16204917  1.20809494]\n",
      " [-0.82841758 -0.7336426  -0.65643423 -0.59916766 -0.54906884 -0.50809242\n",
      "  -0.46874009 -0.43459137 -1.03328397 -1.03036442 -1.01705479 -1.00693916\n",
      "  -0.98932095 -0.97031939 -0.95404433]]\n"
     ]
    },
    {
     "name": "stderr",
     "output_type": "stream",
     "text": [
      "C:\\Users\\andre\\Anaconda3\\lib\\site-packages\\sklearn\\utils\\validation.py:595: DataConversionWarning: Data with input dtype int32 was converted to float64 by StandardScaler.\n",
      "  warnings.warn(msg, DataConversionWarning)\n",
      "C:\\Users\\andre\\Anaconda3\\lib\\site-packages\\sklearn\\utils\\validation.py:595: DataConversionWarning: Data with input dtype int32 was converted to float64 by StandardScaler.\n",
      "  warnings.warn(msg, DataConversionWarning)\n"
     ]
    }
   ],
   "source": [
    "scaler = StandardScaler()\n",
    "print(scaler.fit(X_train))\n",
    "print(scaler.mean_)\n",
    "print(X_train[:10])\n",
    "X_train = scaler.transform(X_train)\n",
    "print(X_train[:10])"
   ]
  },
  {
   "cell_type": "code",
   "execution_count": 310,
   "metadata": {},
   "outputs": [],
   "source": [
    "import csv\n",
    "my_clf.predict(X_train)\n",
    "with open('sample_submission.csv', 'w') as f:\n",
    "    fieldnames = ['pair_id', 'target']\n",
    "    writer = csv.DictWriter(f, fieldnames=fieldnames)\n",
    "    writer.writeheader()\n",
    "    i = 11691\n",
    "    for elem in my_clf.proba:\n",
    "        writer.writerow({'pair_id': str(i), 'target': str(elem)})\n",
    "        i += 1\n",
    "f.close()"
   ]
  },
  {
   "cell_type": "code",
   "execution_count": null,
   "metadata": {},
   "outputs": [],
   "source": []
  },
  {
   "cell_type": "code",
   "execution_count": null,
   "metadata": {},
   "outputs": [],
   "source": []
  },
  {
   "cell_type": "markdown",
   "metadata": {},
   "source": [
    "Разбейте данные на обучение и валидацию. Подберите параметры C, alpha, max_epoch, model_type на валидации (Вы же помните, как правильно в этой задаче делать валидацию?)"
   ]
  },
  {
   "cell_type": "code",
   "execution_count": null,
   "metadata": {
    "collapsed": true
   },
   "outputs": [],
   "source": []
  },
  {
   "cell_type": "code",
   "execution_count": null,
   "metadata": {
    "collapsed": true
   },
   "outputs": [],
   "source": []
  },
  {
   "cell_type": "markdown",
   "metadata": {},
   "source": [
    "С лучшими параметрами на валидации сделайте предсказание на тестовом множестве, отправьте его на проверку на платформу kaggle. Убедитесь, что Вы смогли побить public score первого бейзлайна. Если да, то Вы молодец!"
   ]
  },
  {
   "cell_type": "markdown",
   "metadata": {},
   "source": [
    "# Контрольные вопросы\n",
    "Постарайтесь максимально развернуто и честно ответить на вопросы. Они охватывают тему линейных моделей и скорее нужны преподавателям, чтобы понимать, что именно Вы усвоили плохо. Надеюсь, они подскажут, что именно в теме Вы не понимаете или наоборот порадают, что Вы все знаете ^_^"
   ]
  },
  {
   "cell_type": "markdown",
   "metadata": {},
   "source": [
    "* Опишите основные, на Ваш взгляд,  отличия логистической регрессии от линейной регрессии. Почему, на ваш взгляд, задачу классификации решают логистической, а не линейной регрессией?"
   ]
  },
  {
   "cell_type": "markdown",
   "metadata": {},
   "source": [
    "логистическая регрессия лучше подходит для разделения на 2 класса\n",
    "так же она лучше описывает вероятность определения верного класса"
   ]
  },
  {
   "cell_type": "markdown",
   "metadata": {},
   "source": [
    "***Ваше ответ здесь***"
   ]
  },
  {
   "cell_type": "markdown",
   "metadata": {},
   "source": [
    "* Как Вы думаете, для каких типов задач (объем данных, число признаков, типы признаков) стоит отдавать предпочтение линейным моделям?"
   ]
  },
  {
   "cell_type": "code",
   "execution_count": null,
   "metadata": {},
   "outputs": [],
   "source": [
    "линейные модели хорошо описывают линейно разделимые данные:))))\n"
   ]
  },
  {
   "cell_type": "markdown",
   "metadata": {},
   "source": [
    "***Ваше ответ здесь***"
   ]
  },
  {
   "cell_type": "markdown",
   "metadata": {},
   "source": [
    "* Пусть на обучении мы имеем выборку размера $N$, число признаков $D$. Чему равна алгоритмическая сложность одного шага градиентного спуска? Cтохастического градиентного спуска?  Сложность предсказания на одном объекте?"
   ]
  },
  {
   "cell_type": "markdown",
   "metadata": {},
   "source": [
    "O(N * D)\n",
    "O(D)\n",
    "O(D)"
   ]
  },
  {
   "cell_type": "markdown",
   "metadata": {},
   "source": [
    "***Ваше ответ здесь***"
   ]
  },
  {
   "cell_type": "markdown",
   "metadata": {},
   "source": [
    "* В чем преимущества стохастического градиентного спуска (в том числе мини-батч) над обычным градиентным спуском? В чем его недостатки? Рассмотрите несколько аспектов $-$ скорость сходимости, необходимость загрузки всех данных в оперативную память, сложность вычисления одного шага."
   ]
  },
  {
   "cell_type": "markdown",
   "metadata": {},
   "source": [
    "быстрая обучаемость, недостаток сходимость хуже чем у мини-батч, меньше данных в оперативной памяти"
   ]
  },
  {
   "cell_type": "markdown",
   "metadata": {},
   "source": [
    "***Ваше ответ здесь***"
   ]
  },
  {
   "cell_type": "markdown",
   "metadata": {},
   "source": [
    "* Как Вы думаете, при обучении линейной модели с помощью SGD, ошибку на новом объекте стоит считать до итерации спуска на этом объекте или после? Почему Вы так думаете? Возможно, Вам будет интересно ознакомиться с http://hunch.net/~jl/projects/prediction_bounds/thesis/mathml/thesisse44.xml"
   ]
  },
  {
   "cell_type": "code",
   "execution_count": null,
   "metadata": {},
   "outputs": [],
   "source": [
    "до так как после спуска мы получим ошибку на моделе со специально минимизироанной ошибкой, \n",
    "что не отражает реальную обобщающую способность алгоритма"
   ]
  },
  {
   "cell_type": "markdown",
   "metadata": {},
   "source": [
    "***Ваше ответ здесь***"
   ]
  },
  {
   "cell_type": "markdown",
   "metadata": {},
   "source": [
    "* Как Вы думаете, во времена такого бума нейронных сетей, остаются ли популярными линейные модели, или это уже пережиток прошлого? Почему Вы так думаете?"
   ]
  },
  {
   "cell_type": "markdown",
   "metadata": {},
   "source": [
    "подходят для быстрой оценки алгоритма на линейную разделимость, и быстрого решения простых задач"
   ]
  },
  {
   "cell_type": "markdown",
   "metadata": {},
   "source": [
    "***Ваше ответ здесь***"
   ]
  },
  {
   "cell_type": "markdown",
   "metadata": {},
   "source": [
    "* Какие аспекты обучения линейных моделей Вам показались непонятными? Какое место стоит дополнительно объяснить?"
   ]
  },
  {
   "cell_type": "markdown",
   "metadata": {},
   "source": [
    "как подбирать ядра (не брать рандомные) для перевода признаков в пространство большей размерности\n",
    "для получения линейно разделимых данных"
   ]
  },
  {
   "cell_type": "markdown",
   "metadata": {},
   "source": [
    "***Ваше ответ здесь***"
   ]
  },
  {
   "cell_type": "markdown",
   "metadata": {},
   "source": [
    "Здесь Вы можете оставить отзыв о этой домашней работе или о всем курсе.   "
   ]
  },
  {
   "cell_type": "markdown",
   "metadata": {},
   "source": [
    "интересное задание, но я бы поменял построение графика зависимости от C на перевод\n",
    "данных в другие пространства с помощью ядер"
   ]
  },
  {
   "cell_type": "code",
   "execution_count": null,
   "metadata": {},
   "outputs": [],
   "source": []
  },
  {
   "cell_type": "markdown",
   "metadata": {},
   "source": [
    "*** ВАШ ОТЗЫВ ЗДЕСЬ***"
   ]
  },
  {
   "cell_type": "code",
   "execution_count": null,
   "metadata": {
    "collapsed": true
   },
   "outputs": [],
   "source": []
  },
  {
   "cell_type": "code",
   "execution_count": null,
   "metadata": {
    "collapsed": true
   },
   "outputs": [],
   "source": []
  }
 ],
 "metadata": {
  "anaconda-cloud": {},
  "kernelspec": {
   "display_name": "Python 3",
   "language": "python",
   "name": "python3"
  },
  "language_info": {
   "codemirror_mode": {
    "name": "ipython",
    "version": 3
   },
   "file_extension": ".py",
   "mimetype": "text/x-python",
   "name": "python",
   "nbconvert_exporter": "python",
   "pygments_lexer": "ipython3",
   "version": "3.7.2"
  },
  "nav_menu": {},
  "toc": {
   "colors": {
    "hover_highlight": "#DAA520",
    "navigate_num": "#000000",
    "navigate_text": "#333333",
    "running_highlight": "#FF0000",
    "selected_highlight": "#FFD700",
    "sidebar_border": "#EEEEEE",
    "wrapper_background": "#FFFFFF"
   },
   "moveMenuLeft": true,
   "nav_menu": {
    "height": "402px",
    "width": "253px"
   },
   "navigate_menu": true,
   "number_sections": false,
   "sideBar": true,
   "threshold": 4,
   "toc_cell": false,
   "toc_section_display": "block",
   "toc_window_display": true,
   "widenNotebook": false
  }
 },
 "nbformat": 4,
 "nbformat_minor": 2
}
