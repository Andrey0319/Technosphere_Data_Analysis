{
 "cells": [
  {
   "cell_type": "markdown",
   "metadata": {},
   "source": [
    "**IRIS**"
   ]
  },
  {
   "cell_type": "markdown",
   "metadata": {},
   "source": [
    "**Общая информация**\n",
    "\n",
    "**Срок сдачи:** 20 марта 2019, 06:00 <br\\>\n",
    "**Штраф за опоздание:** -1 балл после 06:00 20 марта, -2 балла после 06:00 27 марта, -3 балла после 06:00 3 апреля\n",
    "\n",
    "При отправлении ДЗ указывайте фамилию в названии файла\n",
    "Присылать ДЗ необходимо в виде ссылки на свой github репозиторий в slack @alkhamush\n",
    "\n",
    "Необходимо в slack скинуть ссылку в личный чат @alkhamush\n",
    "Пример ссылки:\n",
    "https://github.com/stroykova/spheremailru/stroykova_hw1.ipynb \n",
    "\n",
    "\n",
    "Используйте данный Ipython Notebook при оформлении домашнего задания."
   ]
  },
  {
   "cell_type": "markdown",
   "metadata": {},
   "source": [
    "###### Задание 1 (2 баллов)\n",
    "Реализовать KNN в классе MyKNeighborsClassifier (обязательное условие: точность не ниже sklearn реализации)\n",
    "Разберитесь самостоятельно, какая мера расстояния используется в KNeighborsClassifier дефолтно и реализуйте свой алгоритм именно с этой мерой. Самостоятельно разберитесь, как считается score из KNeighborsClassifier и реализуйте аналог в своём классе. Score не должен уступать значению KNN из sklearn\n",
    "\n",
    "###### Задание 2 (2 балла)\n",
    "Добиться скорости работы на fit,  predict и predict_proba сравнимой со sklearn для iris и mnist\n",
    "Для этого используем numpy\n",
    "\n",
    "###### Задание 3 (2 балла)\n",
    "Для iris найдите такой параметр n_neighbors, при котором выдаётся наилучший score. Нарисуйте график зависимости score от n_neighbors\n",
    "\n",
    "###### Задание 4 (3 балла)\n",
    "Добавить algorithm='kd_tree' в реализацию KNN (использовать KDTree из sklearn.neighbors). Значение n_neighbors нужно взять из задания 3. Добиться скорости работы на fit,  predict и predict_proba сравнимой со sklearn для iris и mnist\n",
    "Для этого используем numpy. Score не должен уступать значению KNN из sklearn\n",
    "\n",
    "###### Задание 5 (1 балла)\n",
    "Описать для чего нужны следующие библиотеки/классы/функции (список будет ниже)\n",
    "\n",
    "**Штрафные баллы:**\n",
    "\n",
    "1. Невыполнение PEP8 -1 балл\n",
    "2. Отсутствие фамилии в имени скрипта (скрипт должен называться по аналогии со stroykova_hw1.ipynb) -1 балл\n",
    "3. Все строчки должны быть выполнены. Нужно, чтобы output команды можно было увидеть уже в git'е. В противном случае -1 балл\n",
    "4. При оформлении ДЗ нужно пользоваться данным файлом в качестве шаблона. Не нужно удалять и видоизменять структуру кода и текст. В противном случае -1 балл\n"
   ]
  },
  {
   "cell_type": "code",
   "execution_count": 3,
   "metadata": {},
   "outputs": [
    {
     "name": "stdout",
     "output_type": "stream",
     "text": [
      "The pycodestyle_magic extension is already loaded. To reload it, use:\n",
      "  %reload_ext pycodestyle_magic\n"
     ]
    }
   ],
   "source": [
    "import numpy as np\n",
    "import matplotlib.pyplot as plt\n",
    "from scipy.spatial.distance import cdist\n",
    "import pylab\n",
    "from sklearn.datasets import fetch_openml\n",
    "\n",
    "import seaborn as sns\n",
    "from sklearn import datasets\n",
    "from sklearn.base import ClassifierMixin\n",
    "from sklearn.datasets import fetch_mldata\n",
    "from sklearn.neighbors.base import NeighborsBase, KNeighborsMixin, SupervisedIntegerMixin \n",
    "from sklearn.model_selection import train_test_split\n",
    "from sklearn.neighbors import KNeighborsClassifier\n",
    "from sklearn.neighbors import KDTree\n",
    "import scipy as sp\n",
    "%load_ext pycodestyle_magic"
   ]
  },
  {
   "cell_type": "code",
   "execution_count": 4,
   "metadata": {},
   "outputs": [],
   "source": [
    "#%%pycodestyle\n",
    "\n",
    "\n",
    "class MyKNeighborsClassifier (NeighborsBase, KNeighborsMixin,\n",
    "                              SupervisedIntegerMixin, ClassifierMixin):\n",
    "\n",
    "    def __init__(self, n_neighbors=5, p=2, metric='minkowski',\n",
    "                 algorithm='brute', leaf_size=30, metric_params='None',\n",
    "                 n_jobs='None', weights='uniform'):\n",
    "        self.n_neighbors = n_neighbors\n",
    "        self.pow = p\n",
    "        self.metric = metric\n",
    "        self.algorithm = algorithm\n",
    "        self.leaf_size = leaf_size\n",
    "        self.metric_params = metric_params\n",
    "        self.weights = weights\n",
    "        self.n_jobs = n_jobs\n",
    "\n",
    "    def fit(self, X, y):\n",
    "        self.data = X\n",
    "        self.cluster = len(np.unique(y))\n",
    "        self.cl_name = np.unique(y)\n",
    "        self.targ = y\n",
    "        self.length = len(X)\n",
    "        pass\n",
    "\n",
    "    def clusters_weight_for_every_point_kd(self, distance, index):\n",
    "        '''\n",
    "        counts the weight of point classes obtained with kd_tree\n",
    "        the weight of the point class is inversely proportional to the\n",
    "        distance to the point\n",
    "        '''\n",
    "        weight = np.zeros(shape=(self.cluster))\n",
    "        proba = np.zeros(shape=len(distance), dtype=type(self.cl_name[0]))\n",
    "\n",
    "        for t in range(len(distance)):\n",
    "            for i in range(self.n_neighbors):\n",
    "                weight[self.cl_name == self.targ[int(index[t, i])]] += 1\n",
    "            proba[t] = self.cl_name[weight.argmax()]\n",
    "            weight[::1] = 0\n",
    "        res = np.array(proba)\n",
    "        return res\n",
    "\n",
    "    def clusters_weight_for_every_point_brute(self, X):\n",
    "        '''\n",
    "        counts the distance from each point from X to each point from\n",
    "        self.data, selects the closest n_neighbors and counts the weight\n",
    "        of their class the weight of the point class is inversely\n",
    "        proportional to the distance to the point\n",
    "        '''\n",
    "        weight = np.zeros(shape=(len(X), self.cluster))\n",
    "        distance = cdist(X, self.data)\n",
    "        arr_k = np.zeros(shape=(len(X), self.n_neighbors))\n",
    "\n",
    "        for i in range(len(X)):\n",
    "            arr_k[i] = np.argsort(distance[i])[:self.n_neighbors]\n",
    "\n",
    "        for i in range(len(X)):\n",
    "            for t in range(self.n_neighbors):\n",
    "                weight[i, self.cl_name == self.targ[int(arr_k[i, t])]] += 1\n",
    "        return weight\n",
    "\n",
    "    def predict(self, X):\n",
    "        '''\n",
    "        predicts a class of points from X based on self.data and self.targ\n",
    "        '''\n",
    "        proba = np.zeros(shape=(len(X)), dtype=type(self.cl_name[0]))\n",
    "\n",
    "        if (self.algorithm == 'brute'):\n",
    "            tmp = self.clusters_weight_for_every_point_brute(X)\n",
    "            for i in range(len(X)):\n",
    "                proba[i] = self.cl_name[tmp[i].argmax()]\n",
    "            self.proba = np.array(proba)\n",
    "\n",
    "        elif (self.algorithm == 'kd_tree'):\n",
    "            tree = KDTree(self.data, leaf_size=40)\n",
    "            dist, ind = tree.query(X, k=self.n_neighbors)\n",
    "            self.proba = self.clusters_weight_for_every_point_kd(dist, ind)\n",
    "        return self.proba\n",
    "\n",
    "    def predict_proba(self, X):\n",
    "        '''\n",
    "        predicts the probability of belonging to each class\n",
    "        for each point of X based on self.data and self.targ\n",
    "        '''\n",
    "        self.pred_proba = np.zeros(shape=(len(X), self.cluster))\n",
    "\n",
    "        if (self.algorithm == 'brute'):\n",
    "            count = self.count_of_points_for_clusters_brute(X)\n",
    "            for i in range(len(X)):\n",
    "                for j in range(self.cluster):\n",
    "                    self.pred_proba[i, j] = count[i, j] / self.n_neighbors\n",
    "\n",
    "        elif (self.algorithm == 'kd_tree'):\n",
    "            tree = KDTree(self.data, leaf_size=40)\n",
    "            dist, ind = tree.query(X, k=self.n_neighbors)\n",
    "            count = self.count_of_points_for_clusters_kd_tree(len(X), ind)\n",
    "            for i in range(len(X)):\n",
    "                for j in range(self.cluster):\n",
    "                    self.pred_proba[i, j] = count[i, j] / self.n_neighbors\n",
    "        return self.pred_proba\n",
    "\n",
    "    def count_of_points_for_clusters_brute(self, X):\n",
    "        '''\n",
    "        counts the distance from each point from X to each point\n",
    "        from self.data, finds among them the n_neighbors of the best ones\n",
    "        and counts the number of points of each class among\n",
    "        '''\n",
    "        count = np.zeros(shape=(len(X), self.cluster))\n",
    "        distance = cdist(X, my_clf.data)\n",
    "        arr_k = np.zeros(shape=(len(X), self.n_neighbors))\n",
    "\n",
    "        for i in range(len(X)):\n",
    "            arr_k = np.argsort(distance[i])[:self.n_neighbors]\n",
    "            for j in range(self.n_neighbors):\n",
    "                count[i, self.cl_name == self.targ[int(arr_k[j])]] += 1\n",
    "        return count\n",
    "\n",
    "    def count_of_points_for_clusters_kd_tree(self, len_test, ind):\n",
    "        '''\n",
    "        counts the number of points of each class among those obtained\n",
    "        with kd_tree\n",
    "        '''\n",
    "        count = np.zeros(shape=(len_test, self.cluster))\n",
    "        for i in range(len_test):\n",
    "            for j in range(self.n_neighbors):\n",
    "                count[i, self.cl_name == self.targ[int(ind[i, j])]] += 1\n",
    "        return count\n",
    "\n",
    "    def score(self, X, y):\n",
    "        '''\n",
    "        calculate accuracy of prediction\n",
    "        '''\n",
    "        right_choice = 0\n",
    "        for i in range(len(y)):\n",
    "            if (y[i] == self.proba[i]):\n",
    "                right_choice += 1\n",
    "        return right_choice / len(y)"
   ]
  },
  {
   "cell_type": "code",
   "execution_count": 5,
   "metadata": {},
   "outputs": [],
   "source": [
    "iris = datasets.load_iris()\n",
    "df = np.array(iris)"
   ]
  },
  {
   "cell_type": "code",
   "execution_count": 6,
   "metadata": {},
   "outputs": [],
   "source": [
    "X_train, X_test, y_train, y_test = train_test_split(iris.data, iris.target, test_size=0.1, stratify=iris.target)"
   ]
  },
  {
   "cell_type": "code",
   "execution_count": 7,
   "metadata": {},
   "outputs": [],
   "source": [
    "clf = KNeighborsClassifier(n_neighbors=2)\n",
    "my_clf = MyKNeighborsClassifier(n_neighbors=2)"
   ]
  },
  {
   "cell_type": "code",
   "execution_count": 8,
   "metadata": {},
   "outputs": [
    {
     "name": "stdout",
     "output_type": "stream",
     "text": [
      "Wall time: 1.49 ms\n"
     ]
    },
    {
     "data": {
      "text/plain": [
       "KNeighborsClassifier(algorithm='auto', leaf_size=30, metric='minkowski',\n",
       "           metric_params=None, n_jobs=None, n_neighbors=2, p=2,\n",
       "           weights='uniform')"
      ]
     },
     "execution_count": 8,
     "metadata": {},
     "output_type": "execute_result"
    }
   ],
   "source": [
    "%time clf.fit(X_train, y_train)"
   ]
  },
  {
   "cell_type": "code",
   "execution_count": 9,
   "metadata": {},
   "outputs": [
    {
     "name": "stdout",
     "output_type": "stream",
     "text": [
      "Wall time: 993 µs\n"
     ]
    }
   ],
   "source": [
    "%time my_clf.fit(X_train, y_train)"
   ]
  },
  {
   "cell_type": "code",
   "execution_count": 10,
   "metadata": {},
   "outputs": [
    {
     "name": "stdout",
     "output_type": "stream",
     "text": [
      "Wall time: 3.47 ms\n"
     ]
    },
    {
     "data": {
      "text/plain": [
       "array([0, 2, 2, 1, 2, 1, 0, 0, 1, 1, 1, 0, 1, 0, 2])"
      ]
     },
     "execution_count": 10,
     "metadata": {},
     "output_type": "execute_result"
    }
   ],
   "source": [
    "%time clf.predict(X_test)"
   ]
  },
  {
   "cell_type": "code",
   "execution_count": 11,
   "metadata": {},
   "outputs": [
    {
     "name": "stdout",
     "output_type": "stream",
     "text": [
      "Wall time: 2.48 ms\n"
     ]
    },
    {
     "data": {
      "text/plain": [
       "array([0, 2, 2, 1, 2, 1, 0, 0, 1, 1, 1, 0, 1, 0, 2])"
      ]
     },
     "execution_count": 11,
     "metadata": {},
     "output_type": "execute_result"
    }
   ],
   "source": [
    "%time my_clf.predict(X_test)"
   ]
  },
  {
   "cell_type": "code",
   "execution_count": 12,
   "metadata": {},
   "outputs": [
    {
     "name": "stdout",
     "output_type": "stream",
     "text": [
      "Wall time: 1.49 ms\n"
     ]
    },
    {
     "data": {
      "text/plain": [
       "array([[1. , 0. , 0. ],\n",
       "       [0. , 0. , 1. ],\n",
       "       [0. , 0. , 1. ],\n",
       "       [0. , 1. , 0. ],\n",
       "       [0. , 0. , 1. ],\n",
       "       [0. , 1. , 0. ],\n",
       "       [1. , 0. , 0. ],\n",
       "       [1. , 0. , 0. ],\n",
       "       [0. , 1. , 0. ],\n",
       "       [0. , 0.5, 0.5],\n",
       "       [0. , 1. , 0. ],\n",
       "       [1. , 0. , 0. ],\n",
       "       [0. , 1. , 0. ],\n",
       "       [1. , 0. , 0. ],\n",
       "       [0. , 0. , 1. ]])"
      ]
     },
     "execution_count": 12,
     "metadata": {},
     "output_type": "execute_result"
    }
   ],
   "source": [
    "%time clf.predict_proba(X_test)"
   ]
  },
  {
   "cell_type": "code",
   "execution_count": 13,
   "metadata": {
    "scrolled": true
   },
   "outputs": [
    {
     "name": "stdout",
     "output_type": "stream",
     "text": [
      "Wall time: 1.49 ms\n"
     ]
    },
    {
     "data": {
      "text/plain": [
       "array([[1. , 0. , 0. ],\n",
       "       [0. , 0. , 1. ],\n",
       "       [0. , 0. , 1. ],\n",
       "       [0. , 1. , 0. ],\n",
       "       [0. , 0. , 1. ],\n",
       "       [0. , 1. , 0. ],\n",
       "       [1. , 0. , 0. ],\n",
       "       [1. , 0. , 0. ],\n",
       "       [0. , 1. , 0. ],\n",
       "       [0. , 0.5, 0.5],\n",
       "       [0. , 1. , 0. ],\n",
       "       [1. , 0. , 0. ],\n",
       "       [0. , 1. , 0. ],\n",
       "       [1. , 0. , 0. ],\n",
       "       [0. , 0. , 1. ]])"
      ]
     },
     "execution_count": 13,
     "metadata": {},
     "output_type": "execute_result"
    }
   ],
   "source": [
    "%time my_clf.predict_proba(X_test)"
   ]
  },
  {
   "cell_type": "code",
   "execution_count": 14,
   "metadata": {},
   "outputs": [
    {
     "data": {
      "text/plain": [
       "0.9333333333333333"
      ]
     },
     "execution_count": 14,
     "metadata": {},
     "output_type": "execute_result"
    }
   ],
   "source": [
    "clf.score(X_test, y_test)"
   ]
  },
  {
   "cell_type": "code",
   "execution_count": 15,
   "metadata": {},
   "outputs": [
    {
     "data": {
      "text/plain": [
       "0.9333333333333333"
      ]
     },
     "execution_count": 15,
     "metadata": {},
     "output_type": "execute_result"
    }
   ],
   "source": [
    "my_clf.score(X_test, y_test)"
   ]
  },
  {
   "cell_type": "markdown",
   "metadata": {},
   "source": [
    "Задание 3"
   ]
  },
  {
   "cell_type": "code",
   "execution_count": 22,
   "metadata": {},
   "outputs": [
    {
     "name": "stdout",
     "output_type": "stream",
     "text": [
      "The best mean score is for n_neighbors =  17\n"
     ]
    },
    {
     "data": {
      "image/png": "[encoded data removed]",
      "text/plain": [
       "<Figure size 936x504 with 1 Axes>"
      ]
     },
     "metadata": {
      "needs_background": "light"
     },
     "output_type": "display_data"
    }
   ],
   "source": [
    "iris = datasets.load_iris()\n",
    "df = np.array(iris)\n",
    "grafic = np.zeros(shape=30)\n",
    "x = np.zeros(shape=30)\n",
    "\n",
    "for i in (range(29)):\n",
    "    sum_score = 0\n",
    "    for j in range(100):\n",
    "        X_train, X_test, y_train, y_test = train_test_split(iris.data, iris.target, test_size=0.1, stratify=iris.target)\n",
    "        my_clf = MyKNeighborsClassifier(n_neighbors=i+1)\n",
    "        my_clf.fit(X_train, y_train)\n",
    "        my_clf.predict(X_test)\n",
    "        sum_score += my_clf.score(X_test, y_test)\n",
    "    x[i+1] = i + 1\n",
    "    grafic[i+1] = sum_score / 100\n",
    "    \n",
    "main_n_neighbors = grafic.argmax()\n",
    "print(\"The best mean score is for n_neighbors = \", main_n_neighbors)\n",
    "fig = pylab.figure(figsize = (13, 7))\n",
    "ax = fig.add_subplot(111) \n",
    "ax.plot(grafic)\n",
    "pylab.ylim(0.8, 1.1)\n",
    "pylab.xlabel('n_neighbors', size=18)\n",
    "pylab.ylabel('score', size=18)\n",
    "ax.set_title('График зависимости score от n_neighbors', size=22)\n",
    "\n",
    "pylab.show()"
   ]
  },
  {
   "cell_type": "markdown",
   "metadata": {},
   "source": [
    "**MNIST**"
   ]
  },
  {
   "cell_type": "code",
   "execution_count": 50,
   "metadata": {},
   "outputs": [],
   "source": [
    "mnist = fetch_openml('mnist_784', version=1, cache=True)"
   ]
  },
  {
   "cell_type": "code",
   "execution_count": 51,
   "metadata": {},
   "outputs": [],
   "source": [
    "clf = KNeighborsClassifier(n_neighbors=2)\n",
    "my_clf = MyKNeighborsClassifier(n_neighbors=2)"
   ]
  },
  {
   "cell_type": "code",
   "execution_count": 52,
   "metadata": {},
   "outputs": [],
   "source": [
    "X_train, X_test, y_train, y_test = train_test_split(mnist.data, mnist.target, test_size=0.01, stratify=mnist.target)"
   ]
  },
  {
   "cell_type": "code",
   "execution_count": 53,
   "metadata": {},
   "outputs": [
    {
     "name": "stdout",
     "output_type": "stream",
     "text": [
      "Wall time: 51.9 s\n"
     ]
    },
    {
     "data": {
      "text/plain": [
       "KNeighborsClassifier(algorithm='auto', leaf_size=30, metric='minkowski',\n",
       "           metric_params=None, n_jobs=None, n_neighbors=2, p=2,\n",
       "           weights='uniform')"
      ]
     },
     "execution_count": 53,
     "metadata": {},
     "output_type": "execute_result"
    }
   ],
   "source": [
    "%time clf.fit(X_train, y_train)"
   ]
  },
  {
   "cell_type": "code",
   "execution_count": 54,
   "metadata": {},
   "outputs": [
    {
     "name": "stdout",
     "output_type": "stream",
     "text": [
      "Wall time: 144 ms\n"
     ]
    }
   ],
   "source": [
    "%time my_clf.fit(X_train, y_train)"
   ]
  },
  {
   "cell_type": "code",
   "execution_count": 55,
   "metadata": {
    "scrolled": true
   },
   "outputs": [
    {
     "name": "stdout",
     "output_type": "stream",
     "text": [
      "Wall time: 2min 28s\n"
     ]
    },
    {
     "data": {
      "text/plain": [
       "array(['5', '1', '7', '9', '9', '0', '9', '9', '1', '1', '0', '0', '6',\n",
       "       '8', '1', '1', '8', '3', '3', '0', '1', '6', '3', '3', '2', '4',\n",
       "       '0', '6', '0', '9', '2', '7', '8', '9', '1', '7', '8', '8', '9',\n",
       "       '8', '3', '2', '7', '4', '3', '8', '2', '1', '4', '8', '5', '1',\n",
       "       '7', '6', '4', '5', '1', '4', '0', '2', '1', '9', '4', '4', '9',\n",
       "       '2', '3', '8', '6', '7', '6', '5', '5', '6', '2', '6', '9', '6',\n",
       "       '1', '0', '7', '2', '6', '6', '8', '0', '9', '0', '9', '4', '2',\n",
       "       '3', '2', '5', '3', '1', '6', '1', '7', '4', '0', '5', '5', '5',\n",
       "       '3', '4', '5', '8', '2', '3', '9', '8', '4', '1', '0', '9', '6',\n",
       "       '9', '1', '7', '0', '1', '7', '0', '5', '0', '6', '6', '7', '4',\n",
       "       '6', '0', '3', '7', '6', '5', '6', '1', '5', '9', '6', '0', '5',\n",
       "       '0', '0', '2', '4', '8', '3', '0', '9', '7', '1', '0', '2', '6',\n",
       "       '3', '8', '6', '2', '1', '9', '6', '8', '0', '7', '4', '1', '9',\n",
       "       '6', '7', '1', '7', '8', '5', '2', '3', '9', '3', '3', '9', '7',\n",
       "       '5', '1', '9', '4', '0', '7', '2', '4', '9', '0', '8', '4', '6',\n",
       "       '5', '2', '6', '8', '2', '4', '6', '7', '7', '0', '4', '1', '9',\n",
       "       '3', '7', '3', '8', '8', '6', '3', '6', '2', '1', '5', '8', '0',\n",
       "       '5', '2', '7', '0', '7', '1', '2', '5', '4', '9', '0', '6', '1',\n",
       "       '5', '3', '7', '9', '4', '2', '1', '0', '7', '3', '1', '5', '4',\n",
       "       '3', '4', '9', '2', '1', '1', '3', '9', '7', '9', '5', '9', '0',\n",
       "       '9', '3', '1', '4', '9', '1', '0', '8', '1', '6', '5', '6', '0',\n",
       "       '5', '6', '3', '2', '6', '7', '7', '8', '2', '9', '4', '8', '7',\n",
       "       '1', '7', '3', '1', '1', '6', '7', '6', '2', '7', '4', '0', '6',\n",
       "       '7', '1', '1', '9', '0', '3', '4', '7', '2', '2', '3', '9', '3',\n",
       "       '8', '2', '4', '0', '8', '3', '0', '5', '3', '8', '7', '0', '1',\n",
       "       '8', '0', '4', '5', '1', '9', '5', '7', '8', '7', '3', '4', '1',\n",
       "       '2', '9', '3', '5', '7', '7', '8', '9', '6', '1', '2', '1', '4',\n",
       "       '3', '0', '5', '6', '9', '1', '2', '8', '6', '0', '5', '8', '1',\n",
       "       '5', '7', '5', '4', '5', '7', '2', '6', '2', '5', '2', '0', '2',\n",
       "       '1', '1', '7', '5', '9', '4', '9', '2', '0', '4', '2', '3', '9',\n",
       "       '6', '2', '1', '8', '5', '9', '9', '5', '1', '2', '0', '6', '7',\n",
       "       '9', '6', '8', '6', '9', '3', '1', '0', '1', '2', '4', '3', '0',\n",
       "       '6', '7', '4', '8', '3', '2', '3', '4', '1', '7', '3', '4', '0',\n",
       "       '0', '3', '9', '0', '2', '6', '9', '8', '2', '7', '4', '3', '7',\n",
       "       '9', '3', '6', '7', '8', '4', '5', '3', '5', '7', '8', '4', '4',\n",
       "       '7', '5', '7', '3', '2', '0', '0', '1', '7', '9', '2', '7', '5',\n",
       "       '9', '2', '9', '2', '6', '2', '3', '4', '0', '1', '1', '1', '6',\n",
       "       '3', '3', '8', '5', '0', '0', '5', '8', '2', '2', '2', '2', '8',\n",
       "       '6', '8', '4', '1', '1', '8', '5', '0', '4', '5', '2', '4', '2',\n",
       "       '1', '3', '6', '4', '6', '7', '5', '0', '9', '7', '8', '9', '3',\n",
       "       '8', '5', '0', '4', '6', '2', '1', '5', '4', '3', '3', '4', '8',\n",
       "       '5', '6', '2', '3', '4', '4', '7', '5', '7', '5', '6', '0', '1',\n",
       "       '0', '3', '4', '1', '2', '4', '0', '0', '1', '7', '4', '6', '1',\n",
       "       '2', '7', '8', '5', '0', '5', '6', '7', '3', '8', '5', '3', '6',\n",
       "       '4', '3', '4', '2', '5', '8', '2', '6', '7', '9', '1', '1', '9',\n",
       "       '4', '9', '6', '7', '4', '8', '5', '8', '4', '6', '0', '1', '2',\n",
       "       '3', '9', '0', '7', '1', '3', '8', '7', '4', '8', '7', '7', '0',\n",
       "       '8', '2', '1', '2', '4', '2', '5', '0', '3', '3', '1', '5', '5',\n",
       "       '1', '7', '2', '3', '6', '4', '0', '6', '8', '5', '9', '6', '0',\n",
       "       '1', '5', '2', '7', '8', '2', '7', '7', '7', '3', '9', '1', '8',\n",
       "       '5', '7', '1', '2', '9', '1', '2', '8', '7', '1', '6', '8', '1',\n",
       "       '6', '5', '1', '3', '8', '4', '3', '1', '4', '7', '0', '2', '4',\n",
       "       '8', '6', '8', '3', '1', '0', '5', '9', '1', '9', '5', '4', '9',\n",
       "       '3', '5', '1', '1', '8', '0', '7', '3', '7', '0', '3'],\n",
       "      dtype=object)"
      ]
     },
     "execution_count": 55,
     "metadata": {},
     "output_type": "execute_result"
    }
   ],
   "source": [
    "%time clf.predict(X_test)"
   ]
  },
  {
   "cell_type": "code",
   "execution_count": 56,
   "metadata": {},
   "outputs": [
    {
     "name": "stdout",
     "output_type": "stream",
     "text": [
      "Wall time: 1min 46s\n"
     ]
    },
    {
     "data": {
      "text/plain": [
       "array(['5', '1', '7', '9', '9', '0', '9', '9', '1', '1', '0', '0', '6',\n",
       "       '8', '1', '1', '8', '3', '3', '0', '1', '6', '3', '3', '2', '4',\n",
       "       '0', '6', '0', '9', '2', '7', '8', '9', '1', '7', '8', '8', '9',\n",
       "       '8', '3', '2', '7', '4', '3', '8', '2', '1', '4', '8', '5', '1',\n",
       "       '7', '6', '4', '5', '1', '4', '0', '2', '1', '9', '4', '4', '9',\n",
       "       '2', '3', '8', '6', '7', '6', '5', '5', '6', '2', '6', '9', '6',\n",
       "       '1', '0', '7', '2', '6', '6', '8', '0', '9', '0', '9', '4', '2',\n",
       "       '3', '2', '5', '3', '1', '6', '1', '7', '4', '0', '5', '5', '5',\n",
       "       '3', '4', '5', '8', '2', '3', '9', '8', '4', '1', '0', '9', '6',\n",
       "       '9', '1', '7', '0', '1', '7', '0', '5', '0', '6', '6', '7', '4',\n",
       "       '6', '0', '3', '7', '6', '5', '6', '1', '5', '9', '6', '0', '5',\n",
       "       '0', '0', '2', '4', '8', '3', '0', '9', '7', '1', '0', '2', '6',\n",
       "       '3', '8', '6', '2', '1', '9', '6', '8', '0', '7', '4', '1', '9',\n",
       "       '6', '7', '1', '7', '8', '5', '2', '3', '9', '3', '3', '9', '7',\n",
       "       '5', '1', '9', '4', '0', '7', '2', '4', '9', '0', '8', '4', '6',\n",
       "       '5', '2', '6', '8', '2', '4', '6', '7', '7', '0', '4', '1', '9',\n",
       "       '3', '7', '3', '8', '8', '6', '3', '6', '2', '1', '5', '8', '0',\n",
       "       '5', '2', '7', '0', '7', '1', '2', '5', '4', '9', '0', '6', '1',\n",
       "       '5', '3', '7', '9', '4', '2', '1', '0', '7', '3', '1', '5', '4',\n",
       "       '3', '4', '9', '2', '1', '1', '3', '9', '7', '9', '5', '9', '0',\n",
       "       '9', '3', '1', '4', '9', '1', '0', '8', '1', '6', '5', '6', '0',\n",
       "       '5', '6', '3', '2', '6', '7', '7', '8', '2', '9', '4', '8', '7',\n",
       "       '1', '7', '3', '1', '1', '6', '7', '6', '2', '7', '4', '0', '6',\n",
       "       '7', '1', '1', '9', '0', '3', '4', '7', '2', '2', '3', '9', '3',\n",
       "       '8', '2', '4', '0', '8', '3', '0', '5', '3', '8', '7', '0', '1',\n",
       "       '8', '0', '4', '5', '1', '9', '5', '7', '8', '7', '3', '4', '1',\n",
       "       '2', '9', '3', '5', '7', '7', '8', '9', '6', '1', '2', '1', '4',\n",
       "       '3', '0', '5', '6', '9', '1', '2', '8', '6', '0', '5', '8', '1',\n",
       "       '5', '7', '5', '4', '5', '7', '2', '6', '2', '5', '2', '0', '2',\n",
       "       '1', '1', '7', '5', '9', '4', '9', '2', '0', '4', '2', '3', '9',\n",
       "       '6', '2', '1', '8', '5', '9', '9', '5', '1', '2', '0', '6', '7',\n",
       "       '9', '6', '8', '6', '9', '3', '1', '0', '1', '2', '4', '3', '0',\n",
       "       '6', '7', '4', '8', '3', '2', '3', '4', '1', '7', '3', '4', '0',\n",
       "       '0', '3', '9', '0', '2', '6', '9', '8', '2', '7', '4', '3', '7',\n",
       "       '9', '3', '6', '7', '8', '4', '5', '3', '5', '7', '8', '4', '4',\n",
       "       '7', '5', '7', '3', '2', '0', '0', '1', '7', '9', '2', '7', '5',\n",
       "       '9', '2', '9', '2', '6', '2', '3', '4', '0', '1', '1', '1', '6',\n",
       "       '3', '3', '8', '5', '0', '0', '5', '8', '2', '2', '2', '2', '8',\n",
       "       '6', '8', '4', '1', '1', '8', '5', '0', '4', '5', '2', '4', '2',\n",
       "       '1', '3', '6', '4', '6', '7', '5', '0', '9', '7', '8', '9', '3',\n",
       "       '8', '5', '0', '4', '6', '2', '1', '5', '4', '3', '3', '4', '8',\n",
       "       '5', '6', '2', '3', '4', '4', '7', '5', '7', '5', '6', '0', '1',\n",
       "       '0', '3', '4', '1', '2', '4', '0', '0', '1', '7', '4', '6', '1',\n",
       "       '2', '7', '8', '5', '0', '5', '6', '7', '3', '8', '5', '3', '6',\n",
       "       '4', '3', '4', '2', '5', '8', '2', '6', '7', '9', '1', '1', '9',\n",
       "       '4', '9', '6', '7', '4', '8', '5', '8', '4', '6', '0', '1', '2',\n",
       "       '3', '9', '0', '7', '1', '3', '8', '7', '4', '8', '7', '7', '0',\n",
       "       '8', '2', '1', '2', '4', '2', '5', '0', '3', '3', '1', '5', '5',\n",
       "       '1', '7', '2', '3', '6', '4', '0', '6', '8', '5', '9', '6', '0',\n",
       "       '1', '5', '2', '7', '8', '2', '7', '7', '7', '3', '9', '1', '8',\n",
       "       '5', '7', '1', '2', '9', '1', '2', '8', '7', '1', '6', '8', '1',\n",
       "       '6', '5', '1', '3', '8', '4', '3', '1', '4', '7', '0', '2', '4',\n",
       "       '8', '6', '8', '3', '1', '0', '5', '9', '1', '9', '5', '4', '9',\n",
       "       '3', '5', '1', '1', '8', '0', '7', '3', '7', '0', '3'], dtype='<U1')"
      ]
     },
     "execution_count": 56,
     "metadata": {},
     "output_type": "execute_result"
    }
   ],
   "source": [
    "%time my_clf.predict(X_test)"
   ]
  },
  {
   "cell_type": "code",
   "execution_count": 57,
   "metadata": {},
   "outputs": [
    {
     "name": "stdout",
     "output_type": "stream",
     "text": [
      "Wall time: 2min 19s\n"
     ]
    },
    {
     "data": {
      "text/plain": [
       "array([[0., 0., 0., ..., 0., 0., 0.],\n",
       "       [0., 1., 0., ..., 0., 0., 0.],\n",
       "       [0., 0., 0., ..., 1., 0., 0.],\n",
       "       ...,\n",
       "       [0., 0., 0., ..., 1., 0., 0.],\n",
       "       [1., 0., 0., ..., 0., 0., 0.],\n",
       "       [0., 0., 0., ..., 0., 0., 0.]])"
      ]
     },
     "execution_count": 57,
     "metadata": {},
     "output_type": "execute_result"
    }
   ],
   "source": [
    "%time clf.predict_proba(X_test)"
   ]
  },
  {
   "cell_type": "code",
   "execution_count": 58,
   "metadata": {},
   "outputs": [
    {
     "name": "stdout",
     "output_type": "stream",
     "text": [
      "Wall time: 1min 44s\n"
     ]
    },
    {
     "data": {
      "text/plain": [
       "array([[0., 0., 0., ..., 0., 0., 0.],\n",
       "       [0., 1., 0., ..., 0., 0., 0.],\n",
       "       [0., 0., 0., ..., 1., 0., 0.],\n",
       "       ...,\n",
       "       [0., 0., 0., ..., 1., 0., 0.],\n",
       "       [1., 0., 0., ..., 0., 0., 0.],\n",
       "       [0., 0., 0., ..., 0., 0., 0.]])"
      ]
     },
     "execution_count": 58,
     "metadata": {},
     "output_type": "execute_result"
    }
   ],
   "source": [
    "%time my_clf.predict_proba(X_test)"
   ]
  },
  {
   "cell_type": "code",
   "execution_count": 59,
   "metadata": {},
   "outputs": [
    {
     "data": {
      "text/plain": [
       "0.9614285714285714"
      ]
     },
     "execution_count": 59,
     "metadata": {},
     "output_type": "execute_result"
    }
   ],
   "source": [
    "clf.score(X_test, y_test)"
   ]
  },
  {
   "cell_type": "code",
   "execution_count": 60,
   "metadata": {},
   "outputs": [
    {
     "data": {
      "text/plain": [
       "0.9614285714285714"
      ]
     },
     "execution_count": 60,
     "metadata": {},
     "output_type": "execute_result"
    }
   ],
   "source": [
    "my_clf.score(X_test, y_test)"
   ]
  },
  {
   "cell_type": "markdown",
   "metadata": {},
   "source": [
    "Задание 4"
   ]
  },
  {
   "cell_type": "code",
   "execution_count": 61,
   "metadata": {},
   "outputs": [],
   "source": [
    "clf = KNeighborsClassifier(n_neighbors=17, algorithm='kd_tree')\n",
    "my_clf = MyKNeighborsClassifier(n_neighbors=17, algorithm='kd_tree')"
   ]
  },
  {
   "cell_type": "code",
   "execution_count": 62,
   "metadata": {},
   "outputs": [],
   "source": [
    "X_train, X_test, y_train, y_test = train_test_split(mnist.data, mnist.target, test_size=0.01, stratify=mnist.target)"
   ]
  },
  {
   "cell_type": "code",
   "execution_count": 63,
   "metadata": {},
   "outputs": [
    {
     "name": "stdout",
     "output_type": "stream",
     "text": [
      "Wall time: 53.9 s\n"
     ]
    },
    {
     "data": {
      "text/plain": [
       "KNeighborsClassifier(algorithm='kd_tree', leaf_size=30, metric='minkowski',\n",
       "           metric_params=None, n_jobs=None, n_neighbors=17, p=2,\n",
       "           weights='uniform')"
      ]
     },
     "execution_count": 63,
     "metadata": {},
     "output_type": "execute_result"
    }
   ],
   "source": [
    "%time clf.fit(X_train, y_train)"
   ]
  },
  {
   "cell_type": "code",
   "execution_count": 64,
   "metadata": {},
   "outputs": [
    {
     "name": "stdout",
     "output_type": "stream",
     "text": [
      "Wall time: 173 ms\n"
     ]
    }
   ],
   "source": [
    "%time my_clf.fit(X_train, y_train)"
   ]
  },
  {
   "cell_type": "code",
   "execution_count": 65,
   "metadata": {},
   "outputs": [
    {
     "name": "stdout",
     "output_type": "stream",
     "text": [
      "Wall time: 2min 19s\n"
     ]
    },
    {
     "data": {
      "text/plain": [
       "array(['2', '1', '7', '0', '7', '1', '1', '6', '1', '7', '8', '3', '6',\n",
       "       '1', '5', '0', '4', '7', '5', '0', '3', '6', '9', '0', '7', '7',\n",
       "       '6', '4', '5', '7', '6', '7', '7', '3', '1', '4', '4', '1', '4',\n",
       "       '7', '0', '5', '8', '1', '2', '4', '6', '4', '2', '3', '2', '3',\n",
       "       '3', '4', '3', '9', '1', '2', '6', '9', '1', '6', '7', '6', '8',\n",
       "       '2', '9', '8', '2', '6', '7', '1', '8', '0', '8', '2', '7', '7',\n",
       "       '0', '2', '6', '2', '6', '0', '3', '3', '1', '8', '1', '9', '4',\n",
       "       '4', '6', '2', '1', '3', '2', '1', '6', '1', '6', '1', '6', '9',\n",
       "       '7', '8', '7', '8', '1', '2', '0', '5', '7', '8', '0', '7', '1',\n",
       "       '1', '7', '3', '9', '2', '0', '8', '9', '7', '0', '4', '2', '3',\n",
       "       '8', '5', '2', '8', '6', '5', '5', '4', '1', '7', '7', '5', '9',\n",
       "       '7', '5', '4', '2', '1', '0', '2', '0', '0', '8', '0', '5', '9',\n",
       "       '5', '5', '3', '4', '7', '9', '7', '9', '1', '2', '9', '4', '7',\n",
       "       '2', '9', '0', '6', '2', '4', '1', '3', '8', '6', '6', '8', '2',\n",
       "       '1', '9', '0', '7', '6', '9', '2', '8', '3', '1', '3', '0', '0',\n",
       "       '8', '3', '5', '4', '8', '4', '7', '5', '5', '3', '2', '0', '9',\n",
       "       '8', '5', '9', '1', '4', '2', '0', '0', '4', '6', '0', '9', '7',\n",
       "       '9', '0', '2', '5', '3', '4', '3', '9', '7', '5', '3', '2', '6',\n",
       "       '0', '4', '1', '3', '2', '2', '0', '7', '6', '7', '9', '3', '7',\n",
       "       '0', '0', '5', '5', '6', '0', '0', '8', '4', '1', '7', '0', '2',\n",
       "       '1', '7', '9', '8', '4', '8', '6', '2', '8', '9', '7', '0', '9',\n",
       "       '4', '8', '5', '0', '0', '5', '1', '1', '5', '3', '1', '9', '0',\n",
       "       '7', '9', '4', '5', '3', '1', '6', '1', '7', '6', '1', '3', '4',\n",
       "       '9', '0', '6', '9', '4', '2', '5', '5', '6', '5', '8', '8', '2',\n",
       "       '5', '2', '9', '8', '4', '6', '2', '1', '9', '5', '4', '4', '9',\n",
       "       '6', '9', '5', '2', '0', '0', '2', '7', '3', '1', '3', '2', '7',\n",
       "       '9', '9', '4', '1', '0', '1', '2', '2', '9', '6', '2', '9', '6',\n",
       "       '7', '7', '6', '5', '1', '5', '7', '8', '5', '0', '8', '3', '0',\n",
       "       '5', '7', '1', '7', '5', '7', '4', '5', '9', '1', '2', '4', '2',\n",
       "       '4', '3', '8', '4', '2', '5', '2', '1', '3', '8', '5', '6', '6',\n",
       "       '3', '4', '0', '9', '3', '1', '4', '1', '1', '0', '5', '6', '3',\n",
       "       '4', '2', '2', '7', '8', '9', '5', '6', '6', '5', '1', '3', '2',\n",
       "       '9', '7', '6', '8', '9', '4', '4', '9', '9', '9', '3', '1', '0',\n",
       "       '1', '6', '3', '7', '5', '8', '5', '1', '3', '4', '7', '4', '1',\n",
       "       '5', '6', '9', '8', '8', '2', '8', '6', '5', '1', '8', '9', '8',\n",
       "       '7', '6', '8', '1', '1', '1', '6', '3', '2', '4', '9', '1', '4',\n",
       "       '8', '0', '1', '4', '5', '7', '9', '9', '1', '6', '1', '2', '8',\n",
       "       '8', '4', '4', '7', '8', '5', '0', '9', '0', '9', '3', '2', '9',\n",
       "       '2', '0', '6', '8', '1', '1', '0', '2', '6', '8', '0', '8', '7',\n",
       "       '4', '7', '5', '2', '9', '1', '1', '9', '2', '5', '7', '5', '7',\n",
       "       '8', '5', '6', '6', '1', '4', '1', '7', '9', '8', '5', '0', '6',\n",
       "       '6', '7', '8', '3', '3', '0', '1', '3', '0', '7', '0', '9', '3',\n",
       "       '6', '5', '3', '3', '9', '9', '8', '9', '6', '7', '7', '2', '5',\n",
       "       '1', '7', '4', '3', '5', '3', '1', '4', '1', '4', '6', '7', '9',\n",
       "       '0', '2', '2', '3', '3', '0', '8', '6', '9', '7', '9', '9', '2',\n",
       "       '8', '0', '3', '8', '8', '6', '8', '1', '1', '3', '2', '9', '3',\n",
       "       '3', '6', '4', '4', '5', '0', '7', '9', '7', '3', '3', '7', '4',\n",
       "       '2', '6', '6', '4', '2', '4', '5', '1', '1', '7', '3', '4', '8',\n",
       "       '2', '8', '1', '8', '3', '1', '3', '9', '1', '9', '9', '5', '2',\n",
       "       '7', '1', '0', '6', '3', '0', '2', '2', '9', '2', '0', '4', '4',\n",
       "       '4', '4', '5', '0', '8', '0', '0', '0', '0', '1', '8', '2', '7',\n",
       "       '6', '2', '2', '5', '4', '4', '5', '1', '8', '1', '3', '6', '7',\n",
       "       '0', '8', '8', '3', '6', '3', '6', '4', '3', '4', '0', '4', '1',\n",
       "       '3', '5', '0', '7', '3', '7', '6', '8', '8', '0', '9'],\n",
       "      dtype=object)"
      ]
     },
     "execution_count": 65,
     "metadata": {},
     "output_type": "execute_result"
    }
   ],
   "source": [
    "%time clf.predict(X_test)"
   ]
  },
  {
   "cell_type": "code",
   "execution_count": 66,
   "metadata": {},
   "outputs": [
    {
     "name": "stdout",
     "output_type": "stream",
     "text": [
      "Wall time: 2min 48s\n"
     ]
    },
    {
     "data": {
      "text/plain": [
       "array(['2', '1', '7', '0', '7', '1', '1', '6', '1', '7', '8', '3', '6',\n",
       "       '1', '5', '0', '4', '7', '5', '0', '3', '6', '9', '0', '7', '7',\n",
       "       '6', '4', '5', '7', '6', '7', '7', '3', '1', '4', '4', '1', '4',\n",
       "       '7', '0', '5', '8', '1', '2', '4', '6', '4', '2', '3', '2', '3',\n",
       "       '3', '4', '3', '9', '1', '2', '6', '9', '1', '6', '7', '6', '8',\n",
       "       '2', '9', '8', '2', '6', '7', '1', '8', '0', '8', '2', '7', '7',\n",
       "       '0', '2', '6', '2', '6', '0', '3', '3', '1', '8', '1', '9', '4',\n",
       "       '4', '6', '2', '1', '3', '2', '1', '6', '1', '6', '1', '6', '9',\n",
       "       '7', '8', '7', '8', '1', '2', '0', '5', '7', '8', '0', '7', '1',\n",
       "       '1', '7', '3', '9', '2', '0', '8', '9', '7', '0', '4', '2', '3',\n",
       "       '8', '5', '2', '8', '6', '5', '5', '4', '1', '7', '7', '5', '9',\n",
       "       '7', '5', '4', '2', '1', '0', '2', '0', '0', '8', '0', '5', '9',\n",
       "       '5', '5', '3', '4', '7', '9', '7', '9', '1', '2', '9', '4', '7',\n",
       "       '2', '9', '0', '6', '2', '4', '1', '3', '8', '6', '6', '8', '2',\n",
       "       '1', '9', '0', '7', '6', '9', '2', '8', '3', '1', '3', '0', '0',\n",
       "       '8', '3', '5', '4', '8', '4', '7', '5', '5', '3', '2', '0', '9',\n",
       "       '8', '5', '9', '1', '4', '2', '0', '0', '4', '6', '0', '9', '7',\n",
       "       '9', '0', '2', '5', '3', '4', '3', '9', '7', '5', '3', '2', '6',\n",
       "       '0', '4', '1', '3', '2', '2', '0', '7', '6', '7', '9', '3', '7',\n",
       "       '0', '0', '5', '5', '6', '0', '0', '8', '4', '1', '7', '0', '2',\n",
       "       '1', '7', '9', '8', '4', '8', '6', '2', '8', '9', '7', '0', '9',\n",
       "       '4', '8', '5', '0', '0', '5', '1', '1', '5', '3', '1', '9', '0',\n",
       "       '7', '9', '4', '5', '3', '1', '6', '1', '7', '6', '1', '3', '4',\n",
       "       '9', '0', '6', '9', '4', '2', '5', '5', '6', '5', '8', '8', '2',\n",
       "       '5', '2', '9', '8', '4', '6', '2', '1', '9', '5', '4', '4', '9',\n",
       "       '6', '9', '5', '2', '0', '0', '2', '7', '3', '1', '3', '2', '7',\n",
       "       '9', '9', '4', '1', '0', '1', '2', '2', '9', '6', '2', '9', '6',\n",
       "       '7', '7', '6', '5', '1', '5', '7', '8', '5', '0', '8', '3', '0',\n",
       "       '5', '7', '1', '7', '5', '7', '4', '5', '9', '1', '2', '4', '2',\n",
       "       '4', '3', '8', '4', '2', '5', '2', '1', '3', '8', '5', '6', '6',\n",
       "       '3', '4', '0', '9', '3', '1', '4', '1', '1', '0', '5', '6', '3',\n",
       "       '4', '2', '2', '7', '8', '9', '5', '6', '6', '5', '1', '3', '2',\n",
       "       '9', '7', '6', '8', '9', '4', '4', '9', '9', '9', '3', '1', '0',\n",
       "       '1', '6', '3', '7', '5', '8', '5', '1', '3', '4', '7', '4', '1',\n",
       "       '5', '6', '9', '8', '8', '2', '8', '6', '5', '1', '8', '9', '8',\n",
       "       '7', '6', '8', '1', '1', '1', '6', '3', '2', '4', '9', '1', '4',\n",
       "       '8', '0', '1', '4', '5', '7', '9', '9', '1', '6', '1', '2', '8',\n",
       "       '8', '4', '4', '7', '8', '5', '0', '9', '0', '9', '3', '2', '9',\n",
       "       '2', '0', '6', '8', '1', '1', '0', '2', '6', '8', '0', '8', '7',\n",
       "       '4', '7', '5', '2', '9', '1', '1', '9', '2', '5', '7', '5', '7',\n",
       "       '8', '5', '6', '6', '1', '4', '1', '7', '9', '8', '5', '0', '6',\n",
       "       '6', '7', '8', '3', '3', '0', '1', '3', '0', '7', '0', '9', '3',\n",
       "       '6', '5', '3', '3', '9', '9', '8', '9', '6', '7', '7', '2', '5',\n",
       "       '1', '7', '4', '3', '5', '3', '1', '4', '1', '4', '6', '7', '9',\n",
       "       '0', '2', '2', '3', '3', '0', '8', '6', '9', '7', '9', '9', '2',\n",
       "       '8', '0', '3', '8', '8', '6', '8', '1', '1', '3', '2', '9', '3',\n",
       "       '3', '6', '4', '4', '5', '0', '7', '9', '7', '3', '3', '7', '4',\n",
       "       '2', '6', '6', '4', '2', '4', '5', '1', '1', '7', '3', '4', '8',\n",
       "       '2', '8', '1', '8', '3', '1', '3', '9', '1', '9', '9', '5', '2',\n",
       "       '7', '1', '0', '6', '3', '0', '2', '2', '9', '2', '0', '4', '4',\n",
       "       '4', '4', '5', '0', '8', '0', '0', '0', '0', '1', '8', '2', '7',\n",
       "       '6', '2', '2', '5', '4', '4', '5', '1', '8', '1', '3', '6', '7',\n",
       "       '0', '8', '8', '3', '6', '3', '6', '4', '3', '4', '0', '4', '1',\n",
       "       '3', '5', '0', '7', '3', '7', '6', '8', '8', '0', '9'], dtype='<U1')"
      ]
     },
     "execution_count": 66,
     "metadata": {},
     "output_type": "execute_result"
    }
   ],
   "source": [
    "%time my_clf.predict(X_test)"
   ]
  },
  {
   "cell_type": "code",
   "execution_count": 67,
   "metadata": {},
   "outputs": [
    {
     "name": "stdout",
     "output_type": "stream",
     "text": [
      "Wall time: 2min 22s\n"
     ]
    },
    {
     "data": {
      "text/plain": [
       "array([[0.        , 0.        , 0.94117647, ..., 0.05882353, 0.        ,\n",
       "        0.        ],\n",
       "       [0.        , 1.        , 0.        , ..., 0.        , 0.        ,\n",
       "        0.        ],\n",
       "       [0.        , 0.        , 0.        , ..., 0.82352941, 0.        ,\n",
       "        0.05882353],\n",
       "       ...,\n",
       "       [0.        , 0.        , 0.        , ..., 0.        , 1.        ,\n",
       "        0.        ],\n",
       "       [1.        , 0.        , 0.        , ..., 0.        , 0.        ,\n",
       "        0.        ],\n",
       "       [0.        , 0.        , 0.        , ..., 0.        , 0.        ,\n",
       "        1.        ]])"
      ]
     },
     "execution_count": 67,
     "metadata": {},
     "output_type": "execute_result"
    }
   ],
   "source": [
    "%time clf.predict_proba(X_test)"
   ]
  },
  {
   "cell_type": "code",
   "execution_count": 68,
   "metadata": {},
   "outputs": [
    {
     "name": "stdout",
     "output_type": "stream",
     "text": [
      "Wall time: 2min 57s\n"
     ]
    },
    {
     "data": {
      "text/plain": [
       "array([[0.        , 0.        , 0.94117647, ..., 0.05882353, 0.        ,\n",
       "        0.        ],\n",
       "       [0.        , 1.        , 0.        , ..., 0.        , 0.        ,\n",
       "        0.        ],\n",
       "       [0.        , 0.        , 0.        , ..., 0.82352941, 0.        ,\n",
       "        0.05882353],\n",
       "       ...,\n",
       "       [0.        , 0.        , 0.        , ..., 0.        , 1.        ,\n",
       "        0.        ],\n",
       "       [1.        , 0.        , 0.        , ..., 0.        , 0.        ,\n",
       "        0.        ],\n",
       "       [0.        , 0.        , 0.        , ..., 0.        , 0.        ,\n",
       "        1.        ]])"
      ]
     },
     "execution_count": 68,
     "metadata": {},
     "output_type": "execute_result"
    }
   ],
   "source": [
    "%time my_clf.predict_proba(X_test)"
   ]
  },
  {
   "cell_type": "code",
   "execution_count": 69,
   "metadata": {},
   "outputs": [
    {
     "data": {
      "text/plain": [
       "0.9685714285714285"
      ]
     },
     "execution_count": 69,
     "metadata": {},
     "output_type": "execute_result"
    }
   ],
   "source": [
    "clf.score(X_test, y_test)"
   ]
  },
  {
   "cell_type": "code",
   "execution_count": 70,
   "metadata": {},
   "outputs": [
    {
     "data": {
      "text/plain": [
       "0.9685714285714285"
      ]
     },
     "execution_count": 70,
     "metadata": {},
     "output_type": "execute_result"
    }
   ],
   "source": [
    "my_clf.score(X_test, y_test)"
   ]
  },
  {
   "cell_type": "markdown",
   "metadata": {},
   "source": [
    "Задание 5"
   ]
  },
  {
   "cell_type": "code",
   "execution_count": 40,
   "metadata": {},
   "outputs": [],
   "source": [
    "# seaborn - высокоуровневая библиотека python для создания статических графиков, отличается от matplotlib \n",
    "#           тем, что имеет множество параметров, установленных в matplotlib по умолчанию, чем значительно \n",
    "#           упрощает работу со сложными моделями\n",
    "\n",
    "# matplotlib - высокоуровневая библиотека python, позволяющая легко строить множество различных 2D графиков, для\n",
    "#           быстрых наглядных оценок моделейб, так же имеет процедурный интерфейс pylab.\n",
    "\n",
    "# train_test_split - функция из библиотеки sklearn (модуль sklearn.cross_validation) позволяющая разбить \n",
    "#           входные данные на обучающую и тестовую выборку (test_size = размер тестов / размер всех данных).\n",
    "\n",
    "# Pipeline%load_ext e (from sklearn.pipeline import Pipeline) - импортирует составной классификатор IPyhon\n",
    "#           из предобработчика данных Pipeline по имени e\n",
    "\n",
    "# StandardScaler (from sklearn.preprocessing import StandardScaler) - класс python, позволяющий стандартизировать \n",
    "#           данные с помощью стандартного и среднего отклонения, путём удаления среднего и масштабирования\n",
    "#           до единичной дисперсии. Это необходимо для многих моделей машинного обучения\n",
    "#           так как многие модели показывают себя гораздо лучше на стандартных нормально распределённых данных.\n",
    "\n",
    "# ClassifierMixin - класс python, используемый для вычисления среднего значения точности на данных и метках.\n",
    "#           главный метод: score реализующий жёсткую метрику в задачах классификации с несколькими метками.\n",
    "\n",
    "# NeighborsBase - класс python, используемый для проверки корректности параметоров и поддержки таких методов как\n",
    "#           поиск K ближайших соседей и поиска соседей в заданном радиусе. Имеет параметры:  n_neighbors - количество соседей,  \n",
    "#           radius - радиус в котором ищутся соседи, algorithm - вид алгоритма (например KDTree, BallTree, Brute Force, auto),\n",
    "#           leaf_size количество точек для алгоритмов KDTree и BallTree, metric - вид метрики, p - степень, \n",
    "#           metric_params - дополнительные параметры метрики, n_jobs - распараллеливание процессов.\n",
    "\n",
    "# KNeighborsMixin - класс python реализующий алгоритм поиска K ближайших соседей с основным методом \n",
    "#           def kneighbors(self, X=None, n_neighbors=None, return_distance=True) - реализующим сам поиск.\n",
    "#           Все методы: _kneighbors_reduce_func, kneighbors, kneighbors_graph.\n",
    "\n",
    "# SupervisedIntegerMixin - класс python с единственным методом fit(self, X, y) - заполняет модель используя X, \n",
    "#           как тренировочные данные, a y как их целевые значения (например принадлежность к кластеру), так же \n",
    "#           проверяет корректность входных данных и выводит поясняющие сообщения об ошибках."
   ]
  },
  {
   "cell_type": "code",
   "execution_count": null,
   "metadata": {},
   "outputs": [],
   "source": []
  }
 ],
 "metadata": {
  "kernelspec": {
   "display_name": "Python 3",
   "language": "python",
   "name": "python3"
  },
  "language_info": {
   "codemirror_mode": {
    "name": "ipython",
    "version": 3
   },
   "file_extension": ".py",
   "mimetype": "text/x-python",
   "name": "python",
   "nbconvert_exporter": "python",
   "pygments_lexer": "ipython3",
   "version": "3.7.2"
  }
 },
 "nbformat": 4,
 "nbformat_minor": 2
}
